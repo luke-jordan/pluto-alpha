{
 "cells": [
  {
   "cell_type": "code",
   "execution_count": 1,
   "metadata": {},
   "outputs": [],
   "source": [
    "import boto3\n",
    "import json, uuid, copy, datetime\n",
    "import random, names, tabulate\n",
    "import pandas as pd"
   ]
  },
  {
   "cell_type": "code",
   "execution_count": null,
   "metadata": {},
   "outputs": [],
   "source": [
    "# open_cmd_in_new_terminal(\"docker-compose up\")\n",
    "!gnome-terminal -- docker-compose up"
   ]
  },
  {
   "cell_type": "code",
   "execution_count": null,
   "metadata": {},
   "outputs": [],
   "source": [
    "# !./setuprds.sh\n",
    "!./setupdynamo.sh"
   ]
  },
  {
   "cell_type": "code",
   "execution_count": 26,
   "metadata": {},
   "outputs": [
    {
     "name": "stdout",
     "output_type": "stream",
     "text": [
      "Deploying the float lambda\n",
      "Serverless: \u001b[33mconfig.options_stage: local\u001b[39m\n",
      "Serverless: \u001b[33mserverless.service.custom.stage: undefined\u001b[39m\n",
      "Serverless: \u001b[33mserverless.service.provider.stage: dev\u001b[39m\n",
      "Serverless: \u001b[33mconfig.stage: local\u001b[39m\n",
      "Serverless: \u001b[33mUsing serverless-localstack\u001b[39m\n",
      "Serverless: \u001b[33mReconfiguring service apigateway to use http://localhost:4567\u001b[39m\n",
      "Serverless: \u001b[33mReconfiguring service cloudformation to use http://localhost:4581\u001b[39m\n",
      "Serverless: \u001b[33mReconfiguring service cloudwatch to use http://localhost:4582\u001b[39m\n",
      "Serverless: \u001b[33mReconfiguring service lambda to use http://localhost:4574\u001b[39m\n",
      "Serverless: \u001b[33mReconfiguring service dynamodb to use http://localhost:4569\u001b[39m\n",
      "Serverless: \u001b[33mReconfiguring service kinesis to use http://localhost:4568\u001b[39m\n",
      "Serverless: \u001b[33mReconfiguring service route53 to use http://localhost:4580\u001b[39m\n",
      "Serverless: \u001b[33mReconfiguring service firehose to use http://localhost:4573\u001b[39m\n",
      "Serverless: \u001b[33mReconfiguring service stepfunctions to use http://localhost:4585\u001b[39m\n",
      "Serverless: \u001b[33mReconfiguring service es to use http://localhost:4578\u001b[39m\n",
      "Serverless: \u001b[33mReconfiguring service s3 to use http://localhost:4572\u001b[39m\n",
      "Serverless: \u001b[33mReconfiguring service ses to use http://localhost:4579\u001b[39m\n",
      "Serverless: \u001b[33mReconfiguring service sns to use http://localhost:4575\u001b[39m\n",
      "Serverless: \u001b[33mReconfiguring service sqs to use http://localhost:4576\u001b[39m\n",
      "Serverless: \u001b[33mReconfiguring service sts to use http://localhost:4592\u001b[39m\n",
      "Serverless: \u001b[33mReconfiguring service iam to use http://localhost:4593\u001b[39m\n",
      "Serverless: \u001b[33mReconfiguring service ssm to use http://localhost:4583\u001b[39m\n",
      "Serverless: \u001b[33mPackaging service...\u001b[39m\n",
      "Serverless: \u001b[33mExcluding development dependencies...\u001b[39m\n",
      "Serverless: \u001b[33mUploading CloudFormation file to S3...\u001b[39m\n",
      "Serverless: \u001b[33mUploading artifacts...\u001b[39m\n",
      "Serverless: \u001b[33mUploading service float-api.zip file to S3 (27.24 MB)...\u001b[39m\n",
      "Serverless: \u001b[33mValidating template...\u001b[39m\n",
      "Serverless: \u001b[33mSkipping template validation: Unsupported in Localstack\u001b[39m\n",
      "Serverless: \u001b[33mCreating Stack...\u001b[39m\n",
      "Serverless: \u001b[33mChecking Stack create progress...\u001b[39m\n",
      "\u001b[33m.\u001b[39m\u001b[33m.\u001b[39m\n",
      "Serverless: \u001b[33mStack create finished...\u001b[39m\n",
      "\u001b[33m\u001b[4mService Information\u001b[24m\u001b[39m\n",
      "\u001b[33mservice:\u001b[39m float-api\n",
      "\u001b[33mstage:\u001b[39m local\n",
      "\u001b[33mregion:\u001b[39m eu-west-1\n",
      "\u001b[33mstack:\u001b[39m float-api-local\n",
      "\u001b[33mresources:\u001b[39m 9\n",
      "\u001b[33mapi keys:\u001b[39m\n",
      "  None\n",
      "\u001b[33mendpoints:\u001b[39m\n",
      "  POST - https://4800309052.execute-api.eu-west-1.amazonaws.com/local/save\n",
      "\u001b[33mfunctions:\u001b[39m\n",
      "  accrue: float-accrue\n",
      "\u001b[33mlayers:\u001b[39m\n",
      "  None\n",
      "Serverless Enterprise: \u001b[33mRun `serverless login` and deploy again to explore, monitor, secure your serverless project for free.\u001b[39m\n",
      "Deploying the user account mgmt lambda\n",
      "Serverless: \u001b[33mconfig.options_stage: local\u001b[39m\n",
      "Serverless: \u001b[33mserverless.service.custom.stage: local\u001b[39m\n",
      "Serverless: \u001b[33mserverless.service.provider.stage: local\u001b[39m\n",
      "Serverless: \u001b[33mconfig.stage: local\u001b[39m\n",
      "Serverless: \u001b[33mUsing serverless-localstack\u001b[39m\n",
      "Serverless: \u001b[33mReconfiguring service apigateway to use http://localhost:4567\u001b[39m\n",
      "Serverless: \u001b[33mReconfiguring service cloudformation to use http://localhost:4581\u001b[39m\n",
      "Serverless: \u001b[33mReconfiguring service cloudwatch to use http://localhost:4582\u001b[39m\n",
      "Serverless: \u001b[33mReconfiguring service lambda to use http://localhost:4574\u001b[39m\n",
      "Serverless: \u001b[33mReconfiguring service dynamodb to use http://localhost:4569\u001b[39m\n",
      "Serverless: \u001b[33mReconfiguring service kinesis to use http://localhost:4568\u001b[39m\n",
      "Serverless: \u001b[33mReconfiguring service route53 to use http://localhost:4580\u001b[39m\n",
      "Serverless: \u001b[33mReconfiguring service firehose to use http://localhost:4573\u001b[39m\n",
      "Serverless: \u001b[33mReconfiguring service stepfunctions to use http://localhost:4585\u001b[39m\n",
      "Serverless: \u001b[33mReconfiguring service es to use http://localhost:4578\u001b[39m\n",
      "Serverless: \u001b[33mReconfiguring service s3 to use http://localhost:4572\u001b[39m\n",
      "Serverless: \u001b[33mReconfiguring service ses to use http://localhost:4579\u001b[39m\n",
      "Serverless: \u001b[33mReconfiguring service sns to use http://localhost:4575\u001b[39m\n",
      "Serverless: \u001b[33mReconfiguring service sqs to use http://localhost:4576\u001b[39m\n",
      "Serverless: \u001b[33mReconfiguring service sts to use http://localhost:4592\u001b[39m\n",
      "Serverless: \u001b[33mReconfiguring service iam to use http://localhost:4593\u001b[39m\n",
      "Serverless: \u001b[33mReconfiguring service ssm to use http://localhost:4583\u001b[39m\n",
      "Serverless: \u001b[33mPackaging service...\u001b[39m\n",
      "Serverless: \u001b[33mExcluding development dependencies...\u001b[39m\n",
      "Serverless: \u001b[33mUploading CloudFormation file to S3...\u001b[39m\n",
      "Serverless: \u001b[33mUploading artifacts...\u001b[39m\n",
      "Serverless: \u001b[33mUploading service user-existence-api.zip file to S3 (34.42 MB)...\u001b[39m\n",
      "Serverless: \u001b[33mValidating template...\u001b[39m\n",
      "Serverless: \u001b[33mSkipping template validation: Unsupported in Localstack\u001b[39m\n",
      "Serverless: \u001b[33mCreating Stack...\u001b[39m\n",
      "Serverless: \u001b[33mChecking Stack create progress...\u001b[39m\n",
      "\u001b[33m.\u001b[39m\u001b[33m.\u001b[39m\n",
      "Serverless: \u001b[33mStack create finished...\u001b[39m\n",
      "\u001b[33m\u001b[4mService Information\u001b[24m\u001b[39m\n",
      "\u001b[33mservice:\u001b[39m user-existence-api\n",
      "\u001b[33mstage:\u001b[39m local\n",
      "\u001b[33mregion:\u001b[39m eu-west-1\n",
      "\u001b[33mstack:\u001b[39m user-existence-api-local\n",
      "\u001b[33mresources:\u001b[39m 9\n",
      "\u001b[33mapi keys:\u001b[39m\n",
      "  None\n",
      "\u001b[33mendpoints:\u001b[39m\n",
      "  POST - https://513A-Z2A-Z2642.execute-api.eu-west-1.amazonaws.com/local/create\n",
      "\u001b[33mfunctions:\u001b[39m\n",
      "  create: account-create\n",
      "\u001b[33mlayers:\u001b[39m\n",
      "  None\n",
      "Serverless Enterprise: \u001b[33mRun `serverless login` and deploy again to explore, monitor, secure your serverless project for free.\u001b[39m\n",
      "Deploying the save transaction lambda\n",
      "Serverless: \u001b[33mconfig.options_stage: local\u001b[39m\n",
      "Serverless: \u001b[33mserverless.service.custom.stage: undefined\u001b[39m\n",
      "Serverless: \u001b[33mserverless.service.provider.stage: dev\u001b[39m\n",
      "Serverless: \u001b[33mconfig.stage: local\u001b[39m\n",
      "Serverless: \u001b[33mUsing serverless-localstack\u001b[39m\n",
      "Serverless: \u001b[33mReconfiguring service apigateway to use http://localhost:4567\u001b[39m\n",
      "Serverless: \u001b[33mReconfiguring service cloudformation to use http://localhost:4581\u001b[39m\n",
      "Serverless: \u001b[33mReconfiguring service cloudwatch to use http://localhost:4582\u001b[39m\n",
      "Serverless: \u001b[33mReconfiguring service lambda to use http://localhost:4574\u001b[39m\n",
      "Serverless: \u001b[33mReconfiguring service dynamodb to use http://localhost:4569\u001b[39m\n",
      "Serverless: \u001b[33mReconfiguring service kinesis to use http://localhost:4568\u001b[39m\n",
      "Serverless: \u001b[33mReconfiguring service route53 to use http://localhost:4580\u001b[39m\n",
      "Serverless: \u001b[33mReconfiguring service firehose to use http://localhost:4573\u001b[39m\n",
      "Serverless: \u001b[33mReconfiguring service stepfunctions to use http://localhost:4585\u001b[39m\n",
      "Serverless: \u001b[33mReconfiguring service es to use http://localhost:4578\u001b[39m\n",
      "Serverless: \u001b[33mReconfiguring service s3 to use http://localhost:4572\u001b[39m\n",
      "Serverless: \u001b[33mReconfiguring service ses to use http://localhost:4579\u001b[39m\n",
      "Serverless: \u001b[33mReconfiguring service sns to use http://localhost:4575\u001b[39m\n",
      "Serverless: \u001b[33mReconfiguring service sqs to use http://localhost:4576\u001b[39m\n",
      "Serverless: \u001b[33mReconfiguring service sts to use http://localhost:4592\u001b[39m\n",
      "Serverless: \u001b[33mReconfiguring service iam to use http://localhost:4593\u001b[39m\n",
      "Serverless: \u001b[33mReconfiguring service ssm to use http://localhost:4583\u001b[39m\n",
      "Serverless: \u001b[33mPackaging service...\u001b[39m\n",
      "Serverless: \u001b[33mExcluding development dependencies...\u001b[39m\n",
      "Serverless: \u001b[33mUploading CloudFormation file to S3...\u001b[39m\n",
      "Serverless: \u001b[33mUploading artifacts...\u001b[39m\n",
      "Serverless: \u001b[33mUploading service user-activity-api.zip file to S3 (28.45 MB)...\u001b[39m\n",
      "Serverless: \u001b[33mValidating template...\u001b[39m\n",
      "Serverless: \u001b[33mSkipping template validation: Unsupported in Localstack\u001b[39m\n",
      "Serverless: \u001b[33mCreating Stack...\u001b[39m\n",
      "Serverless: \u001b[33mChecking Stack create progress...\u001b[39m\n",
      "\u001b[33m.\u001b[39m\u001b[33m.\u001b[39m\n",
      "Serverless: \u001b[33mStack create finished...\u001b[39m\n",
      "\u001b[33m\u001b[4mService Information\u001b[24m\u001b[39m\n",
      "\u001b[33mservice:\u001b[39m user-activity-api\n",
      "\u001b[33mstage:\u001b[39m local\n",
      "\u001b[33mregion:\u001b[39m eu-west-1\n",
      "\u001b[33mstack:\u001b[39m user-activity-api-local\n",
      "\u001b[33mresources:\u001b[39m 12\n",
      "\u001b[33mapi keys:\u001b[39m\n",
      "  None\n",
      "\u001b[33mendpoints:\u001b[39m\n",
      "  POST - https://3A-Z65464523.execute-api.eu-west-1.amazonaws.com/local/save\n",
      "\u001b[33mfunctions:\u001b[39m\n",
      "  save: activity-save\n",
      "  balance: activity-balance\n",
      "\u001b[33mlayers:\u001b[39m\n",
      "  None\n",
      "Serverless Enterprise: \u001b[33mRun `serverless login` and deploy again to explore, monitor, secure your serverless project for free.\u001b[39m\n",
      "Deploying the migration lambda\n"
     ]
    },
    {
     "name": "stdout",
     "output_type": "stream",
     "text": [
      "Serverless: \u001b[33mconfig.options_stage: local\u001b[39m\n",
      "Serverless: \u001b[33mserverless.service.custom.stage: undefined\u001b[39m\n",
      "Serverless: \u001b[33mserverless.service.provider.stage: dev\u001b[39m\n",
      "Serverless: \u001b[33mconfig.stage: local\u001b[39m\n",
      "Serverless: \u001b[33mUsing serverless-localstack\u001b[39m\n",
      "Serverless: \u001b[33mReconfiguring service apigateway to use http://localhost:4567\u001b[39m\n",
      "Serverless: \u001b[33mReconfiguring service cloudformation to use http://localhost:4581\u001b[39m\n",
      "Serverless: \u001b[33mReconfiguring service cloudwatch to use http://localhost:4582\u001b[39m\n",
      "Serverless: \u001b[33mReconfiguring service lambda to use http://localhost:4574\u001b[39m\n",
      "Serverless: \u001b[33mReconfiguring service dynamodb to use http://localhost:4569\u001b[39m\n",
      "Serverless: \u001b[33mReconfiguring service kinesis to use http://localhost:4568\u001b[39m\n",
      "Serverless: \u001b[33mReconfiguring service route53 to use http://localhost:4580\u001b[39m\n",
      "Serverless: \u001b[33mReconfiguring service firehose to use http://localhost:4573\u001b[39m\n",
      "Serverless: \u001b[33mReconfiguring service stepfunctions to use http://localhost:4585\u001b[39m\n",
      "Serverless: \u001b[33mReconfiguring service es to use http://localhost:4578\u001b[39m\n",
      "Serverless: \u001b[33mReconfiguring service s3 to use http://localhost:4572\u001b[39m\n",
      "Serverless: \u001b[33mReconfiguring service ses to use http://localhost:4579\u001b[39m\n",
      "Serverless: \u001b[33mReconfiguring service sns to use http://localhost:4575\u001b[39m\n",
      "Serverless: \u001b[33mReconfiguring service sqs to use http://localhost:4576\u001b[39m\n",
      "Serverless: \u001b[33mReconfiguring service sts to use http://localhost:4592\u001b[39m\n",
      "Serverless: \u001b[33mReconfiguring service iam to use http://localhost:4593\u001b[39m\n",
      "Serverless: \u001b[33mReconfiguring service ssm to use http://localhost:4583\u001b[39m\n",
      "Serverless: \u001b[33mPackaging service...\u001b[39m\n",
      "Serverless: \u001b[33mExcluding development dependencies...\u001b[39m\n",
      "Serverless: \u001b[33mUploading CloudFormation file to S3...\u001b[39m\n",
      "Serverless: \u001b[33mUploading artifacts...\u001b[39m\n",
      "Serverless: \u001b[33mUploading service db-migration.zip file to S3 (7.51 MB)...\u001b[39m\n",
      "Serverless: \u001b[33mValidating template...\u001b[39m\n",
      "Serverless: \u001b[33mSkipping template validation: Unsupported in Localstack\u001b[39m\n",
      "Serverless: \u001b[33mCreating Stack...\u001b[39m\n",
      "Serverless: \u001b[33mChecking Stack create progress...\u001b[39m\n",
      "\u001b[33m.\u001b[39m\u001b[33m.\u001b[39m\n",
      "Serverless: \u001b[33mStack create finished...\u001b[39m\n",
      "\u001b[33m\u001b[4mService Information\u001b[24m\u001b[39m\n",
      "\u001b[33mservice:\u001b[39m db-migration\n",
      "\u001b[33mstage:\u001b[39m local\n",
      "\u001b[33mregion:\u001b[39m eu-west-1\n",
      "\u001b[33mstack:\u001b[39m db-migration-local\n",
      "\u001b[33mresources:\u001b[39m 4\n",
      "\u001b[33mapi keys:\u001b[39m\n",
      "  None\n",
      "\u001b[33mendpoints:\u001b[39m\n",
      "  None\n",
      "\u001b[33mfunctions:\u001b[39m\n",
      "  migrate: db-migration-local-migrate\n",
      "\u001b[33mlayers:\u001b[39m\n",
      "  None\n",
      "Serverless Enterprise: \u001b[33mRun `serverless login` and deploy again to explore, monitor, secure your serverless project for free.\u001b[39m\n"
     ]
    }
   ],
   "source": [
    "!./deploylambdas.sh"
   ]
  },
  {
   "cell_type": "code",
   "execution_count": 3,
   "metadata": {},
   "outputs": [],
   "source": [
    "dynamodb = boto3.client('dynamodb', endpoint_url = 'http://localhost:4569')\n",
    "local_lambda = boto3.client('lambda', endpoint_url = 'http://localhost:4574')"
   ]
  },
  {
   "cell_type": "code",
   "execution_count": null,
   "metadata": {},
   "outputs": [],
   "source": [
    "# Setup the RDS roles\n",
    "role_payload = { \"type\": \"CREATE_ROLES\", \"credentials\": {\n",
    "        \"account_api_worker\": \"pwd_for_account_api\",\n",
    "        \"save_tx_api_worker\": \"pwd_for_transaction_api\",\n",
    "        \"float_api_worker\": \"pwd_for_float_api\",\n",
    "        \"auth_api_worker\": \"pwd_for_auth_api_worker\"\n",
    "    }\n",
    "}\n",
    "local_lambda.invoke(FunctionName='db-migration-local-migrate', InvocationType='RequestResponse', Payload=json.dumps(role_payload))"
   ]
  },
  {
   "cell_type": "code",
   "execution_count": null,
   "metadata": {},
   "outputs": [],
   "source": [
    "# Setup the RDS tables\n",
    "local_lambda.invoke(FunctionName='db-migration-local-migrate', InvocationType='RequestResponse', Payload=json.dumps({'type': 'SETUP_TABLES'}))"
   ]
  },
  {
   "cell_type": "code",
   "execution_count": 4,
   "metadata": {},
   "outputs": [],
   "source": [
    "def print_deployed_functions():\n",
    "    function_list = local_lambda.list_functions()\n",
    "    # print(function_list)\n",
    "    print('Function list: ', [function['FunctionName'] for function in function_list['Functions']])"
   ]
  },
  {
   "cell_type": "code",
   "execution_count": 5,
   "metadata": {},
   "outputs": [],
   "source": [
    "def generate_account(client_id = 'zar_client_co', float_id = 'zar_cash_float'):\n",
    "    first_name = names.get_first_name()\n",
    "    family_name = names.get_last_name()\n",
    "    user_id = str(uuid.uuid4())\n",
    "    return { 'clientId': client_id, 'floatId': float_id, 'ownerUserId': user_id, 'userFirstName': first_name, 'userFamilyName': family_name}"
   ]
  },
  {
   "cell_type": "code",
   "execution_count": 6,
   "metadata": {},
   "outputs": [],
   "source": [
    "def decode_lambda_result(lambda_result):\n",
    "    lambda_payload = lambda_result['Payload'].read()\n",
    "    lambda_pload_decoded = lambda_payload.decode('utf-8')\n",
    "    lambda_pload_object = json.loads(lambda_pload_decoded)\n",
    "    return lambda_pload_object"
   ]
  },
  {
   "cell_type": "code",
   "execution_count": 7,
   "metadata": {},
   "outputs": [],
   "source": [
    "def create_number_accounts(number_accounts = 1, client_id = 'zar_client_co'):\n",
    "    account_dicts = [generate_account(client_id) for i in range(number_accounts)]\n",
    "    persisted_accounts = []\n",
    "    for account in account_dicts:\n",
    "        lambda_result = local_lambda.invoke(FunctionName='account-create', InvocationType='RequestResponse', \n",
    "                                           Payload=json.dumps(account))\n",
    "        lambda_payload = json.loads(decode_lambda_result(lambda_result)['body'])\n",
    "        persisted_account = copy.deepcopy(account)\n",
    "        persisted_account['accountId'] = lambda_payload['accountId']\n",
    "        persisted_account['persistedTime'] = lambda_payload['persistedTime']\n",
    "        print('Account with ID %s persisted at %s' % (persisted_account['accountId'], persisted_account['persistedTime']))\n",
    "        persisted_accounts.append(persisted_account)\n",
    "    \n",
    "    return persisted_accounts\n",
    "    "
   ]
  },
  {
   "cell_type": "code",
   "execution_count": 8,
   "metadata": {},
   "outputs": [],
   "source": [
    "def generate_saving_transaction(account_id, ref_amount = 100, client_id = 'zar_client_co', float_id = 'zar_cash_primary'):\n",
    "    current_time = datetime.datetime.now()\n",
    "    saved_amount = round(random.random() * ref_amount * 10 * 10) # random proportion of ref amount, \n",
    "    test_saving_dict = { \n",
    "        'accountId': account_id, \n",
    "        'initiationTime': str(current_time), \n",
    "        'settlementTime': str(current_time), \n",
    "        'savedAmount': saved_amount, \n",
    "        'savedCurrency': 'ZAR', \n",
    "        'savedUnit': 'HUNDREDTH_CENT',\n",
    "        'floatId': float_id,\n",
    "        'clientId': client_id\n",
    "    }\n",
    "    return test_saving_dict"
   ]
  },
  {
   "cell_type": "code",
   "execution_count": 17,
   "metadata": {},
   "outputs": [],
   "source": [
    "def seed_savings_for_accounts(accounts, tx_per_account = 1, base_amount = 100):\n",
    "    transactions = []\n",
    "    for i in range(tx_per_account):\n",
    "        transactions.extend([generate_saving_transaction(account['accountId'], base_amount) for account in accounts])\n",
    "#     print('transactions: ', transactions)\n",
    "    tx_records = []\n",
    "    for tx in transactions:\n",
    "        lambda_result = local_lambda.invoke(FunctionName='activity-save', InvocationType='RequestResponse', \n",
    "                                           Payload=json.dumps(tx, default=str))\n",
    "        lambda_payload = json.loads(decode_lambda_result(lambda_result)['body'])\n",
    "        persisted_tx = copy.deepcopy(tx)\n",
    "        persisted_tx['transactionId'] = lambda_payload['transactionDetails'][0][0]['transaction_id']\n",
    "        persisted_tx['currentBalance'] = lambda_payload['newBalance']['amount']\n",
    "        # persisted_account['persistedTime'] = lambda_payload['persistedTime']\n",
    "        print('Tx for account %s persisted with new balance %s' % (tx['accountId'], persisted_tx['currentBalance']))\n",
    "        tx_records.append(persisted_tx)\n",
    "    \n",
    "    return tx_records"
   ]
  },
  {
   "cell_type": "code",
   "execution_count": 23,
   "metadata": {},
   "outputs": [],
   "source": [
    "def run_accrual_for_float(client_id = 'zar_client_co', float_id = 'zar_cash_primary', accrued_amount = 100):\n",
    "    accrualDict = {\n",
    "        'clientId': client_id,\n",
    "        'floatId': float_id,\n",
    "        'accrualAmount': accrued_amount,\n",
    "        'currency': 'ZAR',\n",
    "        'unit': 'HUNDREDTH_CENT',\n",
    "        'backingEntityIdentifier': 'tx-id-backing'\n",
    "    }\n",
    "    lambda_result = local_lambda.invoke(FunctionName='float-accrue', InvocationType='RequestResponse', \n",
    "                                               Payload=json.dumps(accrualDict, default=str))\n",
    "    lambda_payload = json.loads(decode_lambda_result(lambda_result)['body'])\n",
    "    return lambda_payload"
   ]
  },
  {
   "cell_type": "code",
   "execution_count": 25,
   "metadata": {},
   "outputs": [
    {
     "name": "stdout",
     "output_type": "stream",
     "text": [
      "Function list:  []\n"
     ]
    }
   ],
   "source": [
    "print_deployed_functions()"
   ]
  },
  {
   "cell_type": "code",
   "execution_count": 12,
   "metadata": {},
   "outputs": [
    {
     "name": "stdout",
     "output_type": "stream",
     "text": [
      "Account with ID fff737dc-f8f3-48a9-9e9a-c425b54da2ea persisted at 2019-07-02T08:38:14.834Z\n",
      "Account with ID 1383185b-ae19-4b50-b4c9-e78a9fd89392 persisted at 2019-07-02T08:38:16.940Z\n",
      "Account with ID 504d76f6-5c28-4f38-907e-877c53efc124 persisted at 2019-07-02T08:38:17.650Z\n",
      "Account with ID e72e04ec-d5e7-48e9-868a-22d0a27eff2a persisted at 2019-07-02T08:38:18.315Z\n",
      "Account with ID 43322c8c-1afe-4bd8-9c89-d114a2053dba persisted at 2019-07-02T08:38:18.993Z\n",
      "Account with ID a317406a-89c5-49a3-bc39-bf5d639641d4 persisted at 2019-07-02T08:38:19.681Z\n",
      "Account with ID ea4af51b-cf21-4587-9c7d-9d3ea6132a8f persisted at 2019-07-02T08:38:20.349Z\n",
      "Account with ID f31e753e-dfa9-4057-b824-5084163d0b8d persisted at 2019-07-02T08:38:21.012Z\n",
      "Account with ID eb1326db-23e7-441a-867a-d2a4948d623b persisted at 2019-07-02T08:38:21.643Z\n",
      "Account with ID db2d3721-8d86-4938-a10e-784255fbbaf9 persisted at 2019-07-02T08:38:22.263Z\n"
     ]
    }
   ],
   "source": [
    "accounts = create_number_accounts(number_accounts = 10)"
   ]
  },
  {
   "cell_type": "code",
   "execution_count": 13,
   "metadata": {},
   "outputs": [
    {
     "name": "stdout",
     "output_type": "stream",
     "text": [
      "Name                AccountId\n",
      "------------------  ------------------------------------\n",
      "Ben Carrillo        fff737dc-f8f3-48a9-9e9a-c425b54da2ea\n",
      "Robert Dixon        1383185b-ae19-4b50-b4c9-e78a9fd89392\n",
      "Daniel Snell        504d76f6-5c28-4f38-907e-877c53efc124\n",
      "Charles Johnson     e72e04ec-d5e7-48e9-868a-22d0a27eff2a\n",
      "Ann Graham          43322c8c-1afe-4bd8-9c89-d114a2053dba\n",
      "Lee Roes            a317406a-89c5-49a3-bc39-bf5d639641d4\n",
      "Joe Alonzo          ea4af51b-cf21-4587-9c7d-9d3ea6132a8f\n",
      "Angelia Montemurro  f31e753e-dfa9-4057-b824-5084163d0b8d\n",
      "Rebecca Bridges     eb1326db-23e7-441a-867a-d2a4948d623b\n",
      "Kim Boyce           db2d3721-8d86-4938-a10e-784255fbbaf9\n"
     ]
    }
   ],
   "source": [
    "account_info = [{ 'Name': account['userFirstName'] + ' ' + account['userFamilyName'], \n",
    "                'AccountId': account['accountId'] } for account in accounts[:100]]\n",
    "print(tabulate.tabulate(account_info, headers = 'keys'))"
   ]
  },
  {
   "cell_type": "code",
   "execution_count": 15,
   "metadata": {},
   "outputs": [
    {
     "name": "stdout",
     "output_type": "stream",
     "text": [
      "Lambda result {'body': '{\"transactionDetails\":[[{\"transaction_id\":\"3f70cc91-df84-496e-b842-11082a294f74\",\"creation_time\":\"2019-07-02T08:43:30.659Z\"}],[{\"transaction_id\":\"cea1dde7-df71-43a2-8bff-f125345ac6e2\",\"creation_time\":\"2019-07-02T08:43:30.659Z\"},{\"transaction_id\":\"cea1dde7-df71-43a2-8bff-f125345ac6e2\",\"creation_time\":\"2019-07-02T08:43:30.659Z\"}]],\"newBalance\":{\"amount\":7017,\"unit\":\"HUNDREDTH_CENT\"}}', 'statusCode': 200}\n"
     ]
    }
   ],
   "source": [
    "single_tx = generate_saving_transaction(accounts[0]['accountId'], 100)\n",
    "lambda_result = local_lambda.invoke(FunctionName='activity-save', Payload=json.dumps(single_tx, default=str))\n",
    "result_decoded = decode_lambda_result(lambda_result)\n",
    "print('Lambda result', result_decoded)"
   ]
  },
  {
   "cell_type": "code",
   "execution_count": 27,
   "metadata": {},
   "outputs": [
    {
     "name": "stdout",
     "output_type": "stream",
     "text": [
      "Tx for account fff737dc-f8f3-48a9-9e9a-c425b54da2ea persisted with new balance 353831911\n",
      "Tx for account 1383185b-ae19-4b50-b4c9-e78a9fd89392 persisted with new balance 274950108\n",
      "Tx for account 504d76f6-5c28-4f38-907e-877c53efc124 persisted with new balance 226013752\n",
      "Tx for account e72e04ec-d5e7-48e9-868a-22d0a27eff2a persisted with new balance 377469579\n",
      "Tx for account 43322c8c-1afe-4bd8-9c89-d114a2053dba persisted with new balance 215532375\n",
      "Tx for account a317406a-89c5-49a3-bc39-bf5d639641d4 persisted with new balance 393586622\n",
      "Tx for account ea4af51b-cf21-4587-9c7d-9d3ea6132a8f persisted with new balance 345240381\n",
      "Tx for account f31e753e-dfa9-4057-b824-5084163d0b8d persisted with new balance 245207361\n",
      "Tx for account eb1326db-23e7-441a-867a-d2a4948d623b persisted with new balance 293749389\n",
      "Tx for account db2d3721-8d86-4938-a10e-784255fbbaf9 persisted with new balance 392296515\n",
      "Tx for account fff737dc-f8f3-48a9-9e9a-c425b54da2ea persisted with new balance 439418404\n",
      "Tx for account 1383185b-ae19-4b50-b4c9-e78a9fd89392 persisted with new balance 294751970\n",
      "Tx for account 504d76f6-5c28-4f38-907e-877c53efc124 persisted with new balance 246856308\n",
      "Tx for account e72e04ec-d5e7-48e9-868a-22d0a27eff2a persisted with new balance 471784743\n",
      "Tx for account 43322c8c-1afe-4bd8-9c89-d114a2053dba persisted with new balance 230473548\n",
      "Tx for account a317406a-89c5-49a3-bc39-bf5d639641d4 persisted with new balance 415866294\n",
      "Tx for account ea4af51b-cf21-4587-9c7d-9d3ea6132a8f persisted with new balance 377715929\n",
      "Tx for account f31e753e-dfa9-4057-b824-5084163d0b8d persisted with new balance 299950709\n",
      "Tx for account eb1326db-23e7-441a-867a-d2a4948d623b persisted with new balance 320489150\n",
      "Tx for account db2d3721-8d86-4938-a10e-784255fbbaf9 persisted with new balance 483263056\n",
      "Tx for account fff737dc-f8f3-48a9-9e9a-c425b54da2ea persisted with new balance 447890095\n",
      "Tx for account 1383185b-ae19-4b50-b4c9-e78a9fd89392 persisted with new balance 379911250\n",
      "Tx for account 504d76f6-5c28-4f38-907e-877c53efc124 persisted with new balance 296373683\n",
      "Tx for account e72e04ec-d5e7-48e9-868a-22d0a27eff2a persisted with new balance 498794696\n",
      "Tx for account 43322c8c-1afe-4bd8-9c89-d114a2053dba persisted with new balance 313875444\n",
      "Tx for account a317406a-89c5-49a3-bc39-bf5d639641d4 persisted with new balance 496028392\n",
      "Tx for account ea4af51b-cf21-4587-9c7d-9d3ea6132a8f persisted with new balance 405509581\n",
      "Tx for account f31e753e-dfa9-4057-b824-5084163d0b8d persisted with new balance 340843813\n",
      "Tx for account eb1326db-23e7-441a-867a-d2a4948d623b persisted with new balance 414327656\n",
      "Tx for account db2d3721-8d86-4938-a10e-784255fbbaf9 persisted with new balance 516520691\n"
     ]
    }
   ],
   "source": [
    "account_balances = seed_savings_for_accounts(accounts[:100], tx_per_account = 3, base_amount = 100 * 100 * 100)"
   ]
  },
  {
   "cell_type": "code",
   "execution_count": 28,
   "metadata": {},
   "outputs": [],
   "source": [
    "def merge_dataframes(accounts, account_balances):\n",
    "    df = pd.DataFrame(account_balances)\n",
    "    df = df[df['currentBalance'] == df.groupby('accountId')['currentBalance'].transform('max')]\n",
    "    df = df[['accountId', 'currentBalance']]\n",
    "    df['currentBalance'] = pd.to_numeric(df['currentBalance'])\n",
    "    df['balanceRand'] = df['currentBalance']/10000\n",
    "    account_name_df = pd.DataFrame(accounts)[['accountId', 'floatId', 'userFamilyName', 'userFirstName']]\n",
    "    account_name_df['Holder Name'] = account_name_df['userFirstName'] + ' ' + account_name_df['userFamilyName']\n",
    "    account_name_df.set_index('accountId')\n",
    "    df.set_index('accountId')\n",
    "    merged_df = pd.merge(account_name_df, df)[['accountId', 'floatId', 'Holder Name', 'balanceRand']]\n",
    "    return merged_df"
   ]
  },
  {
   "cell_type": "code",
   "execution_count": 29,
   "metadata": {},
   "outputs": [],
   "source": [
    "merged_df = merge_dataframes(accounts, account_balances)"
   ]
  },
  {
   "cell_type": "code",
   "execution_count": 30,
   "metadata": {},
   "outputs": [
    {
     "data": {
      "text/html": [
       "<div>\n",
       "<style scoped>\n",
       "    .dataframe tbody tr th:only-of-type {\n",
       "        vertical-align: middle;\n",
       "    }\n",
       "\n",
       "    .dataframe tbody tr th {\n",
       "        vertical-align: top;\n",
       "    }\n",
       "\n",
       "    .dataframe thead th {\n",
       "        text-align: right;\n",
       "    }\n",
       "</style>\n",
       "<table border=\"1\" class=\"dataframe\">\n",
       "  <thead>\n",
       "    <tr style=\"text-align: right;\">\n",
       "      <th></th>\n",
       "      <th>accountId</th>\n",
       "      <th>floatId</th>\n",
       "      <th>Holder Name</th>\n",
       "      <th>balanceRand</th>\n",
       "    </tr>\n",
       "  </thead>\n",
       "  <tbody>\n",
       "    <tr>\n",
       "      <th>0</th>\n",
       "      <td>fff737dc-f8f3-48a9-9e9a-c425b54da2ea</td>\n",
       "      <td>zar_cash_float</td>\n",
       "      <td>Ben Carrillo</td>\n",
       "      <td>44789.0095</td>\n",
       "    </tr>\n",
       "    <tr>\n",
       "      <th>1</th>\n",
       "      <td>1383185b-ae19-4b50-b4c9-e78a9fd89392</td>\n",
       "      <td>zar_cash_float</td>\n",
       "      <td>Robert Dixon</td>\n",
       "      <td>37991.1250</td>\n",
       "    </tr>\n",
       "    <tr>\n",
       "      <th>2</th>\n",
       "      <td>504d76f6-5c28-4f38-907e-877c53efc124</td>\n",
       "      <td>zar_cash_float</td>\n",
       "      <td>Daniel Snell</td>\n",
       "      <td>29637.3683</td>\n",
       "    </tr>\n",
       "    <tr>\n",
       "      <th>3</th>\n",
       "      <td>e72e04ec-d5e7-48e9-868a-22d0a27eff2a</td>\n",
       "      <td>zar_cash_float</td>\n",
       "      <td>Charles Johnson</td>\n",
       "      <td>49879.4696</td>\n",
       "    </tr>\n",
       "    <tr>\n",
       "      <th>4</th>\n",
       "      <td>43322c8c-1afe-4bd8-9c89-d114a2053dba</td>\n",
       "      <td>zar_cash_float</td>\n",
       "      <td>Ann Graham</td>\n",
       "      <td>31387.5444</td>\n",
       "    </tr>\n",
       "    <tr>\n",
       "      <th>5</th>\n",
       "      <td>a317406a-89c5-49a3-bc39-bf5d639641d4</td>\n",
       "      <td>zar_cash_float</td>\n",
       "      <td>Lee Roes</td>\n",
       "      <td>49602.8392</td>\n",
       "    </tr>\n",
       "    <tr>\n",
       "      <th>6</th>\n",
       "      <td>ea4af51b-cf21-4587-9c7d-9d3ea6132a8f</td>\n",
       "      <td>zar_cash_float</td>\n",
       "      <td>Joe Alonzo</td>\n",
       "      <td>40550.9581</td>\n",
       "    </tr>\n",
       "    <tr>\n",
       "      <th>7</th>\n",
       "      <td>f31e753e-dfa9-4057-b824-5084163d0b8d</td>\n",
       "      <td>zar_cash_float</td>\n",
       "      <td>Angelia Montemurro</td>\n",
       "      <td>34084.3813</td>\n",
       "    </tr>\n",
       "    <tr>\n",
       "      <th>8</th>\n",
       "      <td>eb1326db-23e7-441a-867a-d2a4948d623b</td>\n",
       "      <td>zar_cash_float</td>\n",
       "      <td>Rebecca Bridges</td>\n",
       "      <td>41432.7656</td>\n",
       "    </tr>\n",
       "    <tr>\n",
       "      <th>9</th>\n",
       "      <td>db2d3721-8d86-4938-a10e-784255fbbaf9</td>\n",
       "      <td>zar_cash_float</td>\n",
       "      <td>Kim Boyce</td>\n",
       "      <td>51652.0691</td>\n",
       "    </tr>\n",
       "  </tbody>\n",
       "</table>\n",
       "</div>"
      ],
      "text/plain": [
       "                              accountId         floatId         Holder Name  \\\n",
       "0  fff737dc-f8f3-48a9-9e9a-c425b54da2ea  zar_cash_float        Ben Carrillo   \n",
       "1  1383185b-ae19-4b50-b4c9-e78a9fd89392  zar_cash_float        Robert Dixon   \n",
       "2  504d76f6-5c28-4f38-907e-877c53efc124  zar_cash_float        Daniel Snell   \n",
       "3  e72e04ec-d5e7-48e9-868a-22d0a27eff2a  zar_cash_float     Charles Johnson   \n",
       "4  43322c8c-1afe-4bd8-9c89-d114a2053dba  zar_cash_float          Ann Graham   \n",
       "5  a317406a-89c5-49a3-bc39-bf5d639641d4  zar_cash_float            Lee Roes   \n",
       "6  ea4af51b-cf21-4587-9c7d-9d3ea6132a8f  zar_cash_float          Joe Alonzo   \n",
       "7  f31e753e-dfa9-4057-b824-5084163d0b8d  zar_cash_float  Angelia Montemurro   \n",
       "8  eb1326db-23e7-441a-867a-d2a4948d623b  zar_cash_float     Rebecca Bridges   \n",
       "9  db2d3721-8d86-4938-a10e-784255fbbaf9  zar_cash_float           Kim Boyce   \n",
       "\n",
       "   balanceRand  \n",
       "0   44789.0095  \n",
       "1   37991.1250  \n",
       "2   29637.3683  \n",
       "3   49879.4696  \n",
       "4   31387.5444  \n",
       "5   49602.8392  \n",
       "6   40550.9581  \n",
       "7   34084.3813  \n",
       "8   41432.7656  \n",
       "9   51652.0691  "
      ]
     },
     "execution_count": 30,
     "metadata": {},
     "output_type": "execute_result"
    }
   ],
   "source": [
    "merged_df"
   ]
  },
  {
   "cell_type": "code",
   "execution_count": 31,
   "metadata": {},
   "outputs": [
    {
     "name": "stdout",
     "output_type": "stream",
     "text": [
      "Instructing accrual of : R 28.5305\n"
     ]
    }
   ],
   "source": [
    "amount_to_accrue = round(random.random() * 100 * 100 * 100)\n",
    "print('Instructing accrual of : R', amount_to_accrue / (100 * 100))\n",
    "accrual_result = run_accrual_for_float(accrued_amount = amount_to_accrue)\n",
    "allocation_details = json.loads(accrual_result['userAllocationTransactions']['body'])\n",
    "account_transaction_list = allocation_details['allocationRecords']['accountTxIds']\n",
    "# print(tabulate.tabulate(account_transaction_list, headers = 'keys'))"
   ]
  },
  {
   "cell_type": "code",
   "execution_count": 32,
   "metadata": {},
   "outputs": [
    {
     "name": "stdout",
     "output_type": "stream",
     "text": [
      "11 float transactions, 11 account transactions\n",
      "Sum of account additions:  228243\n",
      "Bonus allocation: 28531, and client co allocation: 28531\n",
      "Of accrual 285305, allocations 285305\n",
      "Was there a rounding allocation? :  False\n",
      "Rounding allocation record:  {}\n"
     ]
    }
   ],
   "source": [
    "# print(accrual_result)\n",
    "account_transactions = allocation_details['allocationRecords']['accountTxIds']\n",
    "number_of_float_transactions = len(allocation_details['allocationRecords']['floatTxIds'])\n",
    "number_of_account_transactions = len(account_transactions)\n",
    "print('%d float transactions, %d account transactions' % (number_of_float_transactions, number_of_account_transactions))\n",
    "sum_of_accounts = sum([transaction['amount'] for transaction in account_transactions])\n",
    "print('Sum of account additions: ', sum_of_accounts)\n",
    "bonus_allocation = accrual_result['entityAllocations']['bonusShare']\n",
    "company_allocation = accrual_result['entityAllocations']['clientShare']\n",
    "print('Bonus allocation: %d, and client co allocation: %d' % (bonus_allocation, company_allocation))\n",
    "total_allocations = sum_of_accounts + bonus_allocation + company_allocation\n",
    "print('Of accrual %d, allocations %d' % (amount_to_accrue, total_allocations))\n",
    "rounding_allocated_to_bonus = isinstance(allocation_details['bonusAllocation'], list)\n",
    "print('Was there a rounding allocation? : ', rounding_allocated_to_bonus)\n",
    "print('Rounding allocation record: ', allocation_details['bonusAllocation'])"
   ]
  },
  {
   "cell_type": "code",
   "execution_count": 34,
   "metadata": {},
   "outputs": [
    {
     "name": "stdout",
     "output_type": "stream",
     "text": [
      "{'balanceEndOfToday': {'amount': 496419132, 'currency': 'ZAR', 'datetime': '2019-07-02T23:59:59+02:00', 'epochMilli': 1562104799999, 'timezone': 'Africa/Johannesburg', 'unit': 'HUNDREDTH_CENT'}, 'balanceSubsequentDays': [{'amount': 496485775, 'currency': 'ZAR', 'datetime': '2019-07-03T23:59:59+02:00', 'epochMilli': 1562191199999, 'timezone': 'Africa/Johannesburg', 'unit': 'HUNDREDTH_CENT'}, {'amount': 496552427, 'currency': 'ZAR', 'datetime': '2019-07-04T23:59:59+02:00', 'epochMilli': 1562277599999, 'timezone': 'Africa/Johannesburg', 'unit': 'HUNDREDTH_CENT'}, {'amount': 496619087, 'currency': 'ZAR', 'datetime': '2019-07-05T23:59:59+02:00', 'epochMilli': 1562363999999, 'timezone': 'Africa/Johannesburg', 'unit': 'HUNDREDTH_CENT'}, {'amount': 496685756, 'currency': 'ZAR', 'datetime': '2019-07-06T23:59:59+02:00', 'epochMilli': 1562450399999, 'timezone': 'Africa/Johannesburg', 'unit': 'HUNDREDTH_CENT'}, {'amount': 496752434, 'currency': 'ZAR', 'datetime': '2019-07-07T23:59:59+02:00', 'epochMilli': 1562536799999, 'timezone': 'Africa/Johannesburg', 'unit': 'HUNDREDTH_CENT'}], 'currentBalance': {'amount': 496352498, 'currency': 'ZAR', 'datetime': '2019-07-02T11:34:53+02:00', 'epochMilli': 1562060093312, 'timezone': 'Africa/Johannesburg', 'unit': 'HUNDREDTH_CENT'}}\n"
     ]
    }
   ],
   "source": [
    "balance_payload = { \n",
    "    'accountId': accounts[0]['accountId'], \n",
    "    'clientId': 'zar_client_co', \n",
    "    'floatId': 'zar_cash_primary',\n",
    "    'currency': 'ZAR',\n",
    "    'timezone': 'Africa/Johannesburg'\n",
    "}\n",
    "balance_projection = local_lambda.invoke(FunctionName='activity-balance', Payload=json.dumps(balance_payload))\n",
    "projection_decoded = decode_lambda_result(balance_projection)\n",
    "print(projection_decoded)"
   ]
  },
  {
   "cell_type": "code",
   "execution_count": 39,
   "metadata": {},
   "outputs": [],
   "source": [
    "def fetch_account_balance(accountId, clientId = 'zar_client_co', floatId = 'zar_cash_primary', currency = 'ZAR', timezone = 'Africa/Johannesburg'):\n",
    "    balance_payload = { \n",
    "        'accountId': accounts[0]['accountId'], \n",
    "        'clientId': 'zar_client_co', \n",
    "        'floatId': 'zar_cash_primary',\n",
    "        'currency': 'ZAR',\n",
    "        'timezone': 'Africa/Johannesburg'\n",
    "    }\n",
    "    balance_projection = local_lambda.invoke(FunctionName='activity-balance', Payload=json.dumps(balance_payload))\n",
    "    projection_decoded = decode_lambda_result(balance_projection)\n",
    "    return projection_decoded"
   ]
  },
  {
   "cell_type": "code",
   "execution_count": 56,
   "metadata": {},
   "outputs": [],
   "source": [
    "def fetch_account_balances(accounts):\n",
    "#     balance_dicts = [fetch_account_balance(account['accountId']) for account in accounts]\n",
    "    balance_dicts = []\n",
    "    for account in accounts:\n",
    "#         print('account: ', account)\n",
    "        balance_dict = fetch_account_balance(account['accountId'])\n",
    "        balance_dict['accountId'] = account['accountId']\n",
    "        projected_dict = {\n",
    "            'accountId': balance_dict['accountId'],\n",
    "            'currentBalanceZAR': balance_dict['currentBalance']['amount'] / 10000,\n",
    "            'balanceEndOfDayZAR': balance_dict['balanceEndOfToday']['amount'] / 10000,\n",
    "            'balancedNextDayZAR': balance_dict['balanceSubsequentDays'][0]['amount'] / 10000\n",
    "        }\n",
    "        balance_dicts.append(projected_dict)\n",
    "    \n",
    "    return balance_dicts;"
   ]
  },
  {
   "cell_type": "code",
   "execution_count": 59,
   "metadata": {},
   "outputs": [],
   "source": [
    "balances_projections = fetch_account_balances(accounts)"
   ]
  },
  {
   "cell_type": "code",
   "execution_count": 60,
   "metadata": {},
   "outputs": [
    {
     "data": {
      "text/html": [
       "<div>\n",
       "<style scoped>\n",
       "    .dataframe tbody tr th:only-of-type {\n",
       "        vertical-align: middle;\n",
       "    }\n",
       "\n",
       "    .dataframe tbody tr th {\n",
       "        vertical-align: top;\n",
       "    }\n",
       "\n",
       "    .dataframe thead th {\n",
       "        text-align: right;\n",
       "    }\n",
       "</style>\n",
       "<table border=\"1\" class=\"dataframe\">\n",
       "  <thead>\n",
       "    <tr style=\"text-align: right;\">\n",
       "      <th></th>\n",
       "      <th>accountId</th>\n",
       "      <th>balanceEndOfDayZAR</th>\n",
       "      <th>balancedNextDayZAR</th>\n",
       "      <th>currentBalanceZAR</th>\n",
       "    </tr>\n",
       "  </thead>\n",
       "  <tbody>\n",
       "    <tr>\n",
       "      <th>0</th>\n",
       "      <td>fff737dc-f8f3-48a9-9e9a-c425b54da2ea</td>\n",
       "      <td>49641.9132</td>\n",
       "      <td>49648.5775</td>\n",
       "      <td>49635.2498</td>\n",
       "    </tr>\n",
       "    <tr>\n",
       "      <th>1</th>\n",
       "      <td>1383185b-ae19-4b50-b4c9-e78a9fd89392</td>\n",
       "      <td>49641.9132</td>\n",
       "      <td>49648.5775</td>\n",
       "      <td>49635.2498</td>\n",
       "    </tr>\n",
       "    <tr>\n",
       "      <th>2</th>\n",
       "      <td>504d76f6-5c28-4f38-907e-877c53efc124</td>\n",
       "      <td>49641.9132</td>\n",
       "      <td>49648.5775</td>\n",
       "      <td>49635.2498</td>\n",
       "    </tr>\n",
       "    <tr>\n",
       "      <th>3</th>\n",
       "      <td>e72e04ec-d5e7-48e9-868a-22d0a27eff2a</td>\n",
       "      <td>49641.9132</td>\n",
       "      <td>49648.5775</td>\n",
       "      <td>49635.2498</td>\n",
       "    </tr>\n",
       "    <tr>\n",
       "      <th>4</th>\n",
       "      <td>43322c8c-1afe-4bd8-9c89-d114a2053dba</td>\n",
       "      <td>49641.9132</td>\n",
       "      <td>49648.5775</td>\n",
       "      <td>49635.2498</td>\n",
       "    </tr>\n",
       "    <tr>\n",
       "      <th>5</th>\n",
       "      <td>a317406a-89c5-49a3-bc39-bf5d639641d4</td>\n",
       "      <td>49641.9132</td>\n",
       "      <td>49648.5775</td>\n",
       "      <td>49635.2498</td>\n",
       "    </tr>\n",
       "    <tr>\n",
       "      <th>6</th>\n",
       "      <td>ea4af51b-cf21-4587-9c7d-9d3ea6132a8f</td>\n",
       "      <td>49641.9132</td>\n",
       "      <td>49648.5775</td>\n",
       "      <td>49635.2498</td>\n",
       "    </tr>\n",
       "    <tr>\n",
       "      <th>7</th>\n",
       "      <td>f31e753e-dfa9-4057-b824-5084163d0b8d</td>\n",
       "      <td>49641.9132</td>\n",
       "      <td>49648.5775</td>\n",
       "      <td>49635.2498</td>\n",
       "    </tr>\n",
       "    <tr>\n",
       "      <th>8</th>\n",
       "      <td>eb1326db-23e7-441a-867a-d2a4948d623b</td>\n",
       "      <td>49641.9132</td>\n",
       "      <td>49648.5775</td>\n",
       "      <td>49635.2498</td>\n",
       "    </tr>\n",
       "    <tr>\n",
       "      <th>9</th>\n",
       "      <td>db2d3721-8d86-4938-a10e-784255fbbaf9</td>\n",
       "      <td>49641.9132</td>\n",
       "      <td>49648.5775</td>\n",
       "      <td>49635.2498</td>\n",
       "    </tr>\n",
       "  </tbody>\n",
       "</table>\n",
       "</div>"
      ],
      "text/plain": [
       "                              accountId  balanceEndOfDayZAR  \\\n",
       "0  fff737dc-f8f3-48a9-9e9a-c425b54da2ea          49641.9132   \n",
       "1  1383185b-ae19-4b50-b4c9-e78a9fd89392          49641.9132   \n",
       "2  504d76f6-5c28-4f38-907e-877c53efc124          49641.9132   \n",
       "3  e72e04ec-d5e7-48e9-868a-22d0a27eff2a          49641.9132   \n",
       "4  43322c8c-1afe-4bd8-9c89-d114a2053dba          49641.9132   \n",
       "5  a317406a-89c5-49a3-bc39-bf5d639641d4          49641.9132   \n",
       "6  ea4af51b-cf21-4587-9c7d-9d3ea6132a8f          49641.9132   \n",
       "7  f31e753e-dfa9-4057-b824-5084163d0b8d          49641.9132   \n",
       "8  eb1326db-23e7-441a-867a-d2a4948d623b          49641.9132   \n",
       "9  db2d3721-8d86-4938-a10e-784255fbbaf9          49641.9132   \n",
       "\n",
       "   balancedNextDayZAR  currentBalanceZAR  \n",
       "0          49648.5775         49635.2498  \n",
       "1          49648.5775         49635.2498  \n",
       "2          49648.5775         49635.2498  \n",
       "3          49648.5775         49635.2498  \n",
       "4          49648.5775         49635.2498  \n",
       "5          49648.5775         49635.2498  \n",
       "6          49648.5775         49635.2498  \n",
       "7          49648.5775         49635.2498  \n",
       "8          49648.5775         49635.2498  \n",
       "9          49648.5775         49635.2498  "
      ]
     },
     "execution_count": 60,
     "metadata": {},
     "output_type": "execute_result"
    }
   ],
   "source": [
    "balance_df = pd.DataFrame(balances_projections)\n",
    "balance_df"
   ]
  },
  {
   "cell_type": "code",
   "execution_count": 61,
   "metadata": {},
   "outputs": [
    {
     "name": "stdout",
     "output_type": "stream",
     "text": [
      "[{'accountId': 'fff737dc-f8f3-48a9-9e9a-c425b54da2ea', 'currentBalanceZAR': 49635.2498, 'balanceEndOfDayZAR': 49641.9132, 'balancedNextDayZAR': 49648.5775}, {'accountId': '1383185b-ae19-4b50-b4c9-e78a9fd89392', 'currentBalanceZAR': 49635.2498, 'balanceEndOfDayZAR': 49641.9132, 'balancedNextDayZAR': 49648.5775}, {'accountId': '504d76f6-5c28-4f38-907e-877c53efc124', 'currentBalanceZAR': 49635.2498, 'balanceEndOfDayZAR': 49641.9132, 'balancedNextDayZAR': 49648.5775}, {'accountId': 'e72e04ec-d5e7-48e9-868a-22d0a27eff2a', 'currentBalanceZAR': 49635.2498, 'balanceEndOfDayZAR': 49641.9132, 'balancedNextDayZAR': 49648.5775}, {'accountId': '43322c8c-1afe-4bd8-9c89-d114a2053dba', 'currentBalanceZAR': 49635.2498, 'balanceEndOfDayZAR': 49641.9132, 'balancedNextDayZAR': 49648.5775}, {'accountId': 'a317406a-89c5-49a3-bc39-bf5d639641d4', 'currentBalanceZAR': 49635.2498, 'balanceEndOfDayZAR': 49641.9132, 'balancedNextDayZAR': 49648.5775}, {'accountId': 'ea4af51b-cf21-4587-9c7d-9d3ea6132a8f', 'currentBalanceZAR': 49635.2498, 'balanceEndOfDayZAR': 49641.9132, 'balancedNextDayZAR': 49648.5775}, {'accountId': 'f31e753e-dfa9-4057-b824-5084163d0b8d', 'currentBalanceZAR': 49635.2498, 'balanceEndOfDayZAR': 49641.9132, 'balancedNextDayZAR': 49648.5775}, {'accountId': 'eb1326db-23e7-441a-867a-d2a4948d623b', 'currentBalanceZAR': 49635.2498, 'balanceEndOfDayZAR': 49641.9132, 'balancedNextDayZAR': 49648.5775}, {'accountId': 'db2d3721-8d86-4938-a10e-784255fbbaf9', 'currentBalanceZAR': 49635.2498, 'balanceEndOfDayZAR': 49641.9132, 'balancedNextDayZAR': 49648.5775}]\n"
     ]
    }
   ],
   "source": [
    "print(balances_projections)"
   ]
  },
  {
   "cell_type": "code",
   "execution_count": null,
   "metadata": {},
   "outputs": [],
   "source": []
  }
 ],
 "metadata": {
  "kernelspec": {
   "display_name": "Python [conda env:pluto-local-dev]",
   "language": "python",
   "name": "conda-env-pluto-local-dev-py"
  },
  "language_info": {
   "codemirror_mode": {
    "name": "ipython",
    "version": 3
   },
   "file_extension": ".py",
   "mimetype": "text/x-python",
   "name": "python",
   "nbconvert_exporter": "python",
   "pygments_lexer": "ipython3",
   "version": "3.6.8"
  }
 },
 "nbformat": 4,
 "nbformat_minor": 2
}
