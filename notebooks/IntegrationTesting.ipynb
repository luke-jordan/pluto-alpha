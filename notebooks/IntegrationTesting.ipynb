{
 "cells": [
  {
   "cell_type": "code",
   "execution_count": 1,
   "metadata": {},
   "outputs": [],
   "source": [
    "import boto3\n",
    "import json, uuid, copy, datetime\n",
    "import random, names, tabulate"
   ]
  },
  {
   "cell_type": "code",
   "execution_count": 2,
   "metadata": {},
   "outputs": [],
   "source": [
    "# open_cmd_in_new_terminal(\"docker-compose up\")\n",
    "!gnome-terminal -- docker-compose up"
   ]
  },
  {
   "cell_type": "code",
   "execution_count": 3,
   "metadata": {},
   "outputs": [
    {
     "name": "stdout",
     "output_type": "stream",
     "text": [
      "Setting up users\n",
      "CREATE ROLE\n",
      "CREATE ROLE\n",
      "CREATE ROLE\n",
      "Setting up account ledger in RDS local\n",
      "CREATE SCHEMA\n",
      "CREATE TABLE\n",
      "CREATE INDEX\n",
      "CREATE INDEX\n",
      "REVOKE\n",
      "GRANT\n",
      "GRANT\n",
      "GRANT\n",
      "GRANT\n",
      "GRANT\n",
      "GRANT\n",
      "Setting up transaction ledger in RDS local\n",
      "CREATE SCHEMA\n",
      "CREATE TABLE\n",
      "REVOKE\n",
      "GRANT\n",
      "GRANT\n",
      "GRANT\n",
      "GRANT\n",
      "GRANT\n",
      "Setting up float ledger in RDS local\n",
      "CREATE SCHEMA\n",
      "CREATE TABLE\n",
      "REVOKE\n",
      "GRANT\n",
      "GRANT\n",
      "GRANT\n",
      "GRANT\n",
      "GRANT\n",
      "Creating the DynamoDB table that holds the client floats\n",
      "{\n",
      "    \"StackId\": \"arn:aws:cloudformation:us-east-1:123456789:stack/client-float-table/9c21165f-9fd2-4704-ad3e-a3539acbbbba\"\n",
      "}\n",
      "Adding in item for core, ZAR wholesale float\n"
     ]
    }
   ],
   "source": [
    "!./setuprds.sh\n",
    "!./setupdynamo.sh"
   ]
  },
  {
   "cell_type": "code",
   "execution_count": 4,
   "metadata": {},
   "outputs": [
    {
     "name": "stdout",
     "output_type": "stream",
     "text": [
      "Deploying the float lambda\n",
      "Serverless: \u001b[33mconfig.options_stage: local\u001b[39m\n",
      "Serverless: \u001b[33mserverless.service.custom.stage: undefined\u001b[39m\n",
      "Serverless: \u001b[33mserverless.service.provider.stage: dev\u001b[39m\n",
      "Serverless: \u001b[33mconfig.stage: local\u001b[39m\n",
      "Serverless: \u001b[33mUsing serverless-localstack\u001b[39m\n",
      "Serverless: \u001b[33mReconfiguring service apigateway to use http://localhost:4567\u001b[39m\n",
      "Serverless: \u001b[33mReconfiguring service cloudformation to use http://localhost:4581\u001b[39m\n",
      "Serverless: \u001b[33mReconfiguring service cloudwatch to use http://localhost:4582\u001b[39m\n",
      "Serverless: \u001b[33mReconfiguring service lambda to use http://localhost:4574\u001b[39m\n",
      "Serverless: \u001b[33mReconfiguring service dynamodb to use http://localhost:4569\u001b[39m\n",
      "Serverless: \u001b[33mReconfiguring service kinesis to use http://localhost:4568\u001b[39m\n",
      "Serverless: \u001b[33mReconfiguring service route53 to use http://localhost:4580\u001b[39m\n",
      "Serverless: \u001b[33mReconfiguring service firehose to use http://localhost:4573\u001b[39m\n",
      "Serverless: \u001b[33mReconfiguring service stepfunctions to use http://localhost:4585\u001b[39m\n",
      "Serverless: \u001b[33mReconfiguring service es to use http://localhost:4578\u001b[39m\n",
      "Serverless: \u001b[33mReconfiguring service s3 to use http://localhost:4572\u001b[39m\n",
      "Serverless: \u001b[33mReconfiguring service ses to use http://localhost:4579\u001b[39m\n",
      "Serverless: \u001b[33mReconfiguring service sns to use http://localhost:4575\u001b[39m\n",
      "Serverless: \u001b[33mReconfiguring service sqs to use http://localhost:4576\u001b[39m\n",
      "Serverless: \u001b[33mReconfiguring service sts to use http://localhost:4592\u001b[39m\n",
      "Serverless: \u001b[33mReconfiguring service iam to use http://localhost:4593\u001b[39m\n",
      "Serverless: \u001b[33mReconfiguring service ssm to use http://localhost:4583\u001b[39m\n",
      "Serverless: \u001b[33mPackaging service...\u001b[39m\n",
      "Serverless: \u001b[33mExcluding development dependencies...\u001b[39m\n",
      "Serverless: \u001b[33mCreating deployment bucket pluto.float.lambdas\u001b[39m\n",
      "Serverless: \u001b[33mUploading CloudFormation file to S3...\u001b[39m\n",
      "Serverless: \u001b[33mUploading artifacts...\u001b[39m\n",
      "Serverless: \u001b[33mUploading service float-api.zip file to S3 (27.16 MB)...\u001b[39m\n",
      "Serverless: \u001b[33mValidating template...\u001b[39m\n",
      "Serverless: \u001b[33mSkipping template validation: Unsupported in Localstack\u001b[39m\n",
      "Serverless: \u001b[33mCreating Stack...\u001b[39m\n",
      "Serverless: \u001b[33mChecking Stack create progress...\u001b[39m\n",
      "\u001b[33m.\u001b[39m\u001b[33m.\u001b[39m\n",
      "Serverless: \u001b[33mStack create finished...\u001b[39m\n",
      "\u001b[33m\u001b[4mService Information\u001b[24m\u001b[39m\n",
      "\u001b[33mservice:\u001b[39m float-api\n",
      "\u001b[33mstage:\u001b[39m local\n",
      "\u001b[33mregion:\u001b[39m eu-west-1\n",
      "\u001b[33mstack:\u001b[39m float-api-local\n",
      "\u001b[33mresources:\u001b[39m 9\n",
      "\u001b[33mapi keys:\u001b[39m\n",
      "  None\n",
      "\u001b[33mendpoints:\u001b[39m\n",
      "  POST - https://525160850A-Z.execute-api.eu-west-1.amazonaws.com/local/save\n",
      "\u001b[33mfunctions:\u001b[39m\n",
      "  accrue: float-api-local-accrue\n",
      "\u001b[33mlayers:\u001b[39m\n",
      "  None\n",
      "Deploying the user account mgmt lambda\n",
      "Serverless: \u001b[33mconfig.options_stage: local\u001b[39m\n",
      "Serverless: \u001b[33mserverless.service.custom.stage: local\u001b[39m\n",
      "Serverless: \u001b[33mserverless.service.provider.stage: local\u001b[39m\n",
      "Serverless: \u001b[33mconfig.stage: local\u001b[39m\n",
      "Serverless: \u001b[33mUsing serverless-localstack\u001b[39m\n",
      "Serverless: \u001b[33mReconfiguring service apigateway to use http://localhost:4567\u001b[39m\n",
      "Serverless: \u001b[33mReconfiguring service cloudformation to use http://localhost:4581\u001b[39m\n",
      "Serverless: \u001b[33mReconfiguring service cloudwatch to use http://localhost:4582\u001b[39m\n",
      "Serverless: \u001b[33mReconfiguring service lambda to use http://localhost:4574\u001b[39m\n",
      "Serverless: \u001b[33mReconfiguring service dynamodb to use http://localhost:4569\u001b[39m\n",
      "Serverless: \u001b[33mReconfiguring service kinesis to use http://localhost:4568\u001b[39m\n",
      "Serverless: \u001b[33mReconfiguring service route53 to use http://localhost:4580\u001b[39m\n",
      "Serverless: \u001b[33mReconfiguring service firehose to use http://localhost:4573\u001b[39m\n",
      "Serverless: \u001b[33mReconfiguring service stepfunctions to use http://localhost:4585\u001b[39m\n",
      "Serverless: \u001b[33mReconfiguring service es to use http://localhost:4578\u001b[39m\n",
      "Serverless: \u001b[33mReconfiguring service s3 to use http://localhost:4572\u001b[39m\n",
      "Serverless: \u001b[33mReconfiguring service ses to use http://localhost:4579\u001b[39m\n",
      "Serverless: \u001b[33mReconfiguring service sns to use http://localhost:4575\u001b[39m\n",
      "Serverless: \u001b[33mReconfiguring service sqs to use http://localhost:4576\u001b[39m\n",
      "Serverless: \u001b[33mReconfiguring service sts to use http://localhost:4592\u001b[39m\n",
      "Serverless: \u001b[33mReconfiguring service iam to use http://localhost:4593\u001b[39m\n",
      "Serverless: \u001b[33mReconfiguring service ssm to use http://localhost:4583\u001b[39m\n",
      "Serverless: \u001b[33mPackaging service...\u001b[39m\n",
      "Serverless: \u001b[33mExcluding development dependencies...\u001b[39m\n",
      "Serverless: \u001b[33mCreating deployment bucket pluto.user.existence.lambdas\u001b[39m\n",
      "Serverless: \u001b[33mUploading CloudFormation file to S3...\u001b[39m\n",
      "Serverless: \u001b[33mUploading artifacts...\u001b[39m\n",
      "Serverless: \u001b[33mUploading service user-existence-api.zip file to S3 (34.19 MB)...\u001b[39m\n",
      "Serverless: \u001b[33mValidating template...\u001b[39m\n",
      "Serverless: \u001b[33mSkipping template validation: Unsupported in Localstack\u001b[39m\n",
      "Serverless: \u001b[33mCreating Stack...\u001b[39m\n",
      "Serverless: \u001b[33mChecking Stack create progress...\u001b[39m\n",
      "\u001b[33m.\u001b[39m\u001b[33m.\u001b[39m\n",
      "Serverless: \u001b[33mStack create finished...\u001b[39m\n",
      "\u001b[33m\u001b[4mService Information\u001b[24m\u001b[39m\n",
      "\u001b[33mservice:\u001b[39m user-existence-api\n",
      "\u001b[33mstage:\u001b[39m local\n",
      "\u001b[33mregion:\u001b[39m eu-west-1\n",
      "\u001b[33mstack:\u001b[39m user-existence-api-local\n",
      "\u001b[33mresources:\u001b[39m 9\n",
      "\u001b[33mapi keys:\u001b[39m\n",
      "  None\n",
      "\u001b[33mendpoints:\u001b[39m\n",
      "  POST - https://8A-Z61964411.execute-api.eu-west-1.amazonaws.com/local/create\n",
      "\u001b[33mfunctions:\u001b[39m\n",
      "  create: create-account\n",
      "\u001b[33mlayers:\u001b[39m\n",
      "  None\n",
      "\n",
      "\u001b[33m\u001b[39m\n",
      "\u001b[33m   ╭───────────────────────────────────────╮\u001b[39m\n",
      "   \u001b[33m│\u001b[39m                                       \u001b[33m│\u001b[39m\n",
      "   \u001b[33m│\u001b[39m   Update available \u001b[2m1.43.0\u001b[22m\u001b[0m → \u001b[0m\u001b[32m1.44.1\u001b[39m    \u001b[33m│\u001b[39m\n",
      "   \u001b[33m│\u001b[39m   Run \u001b[36mnpm i -g serverless\u001b[39m to update   \u001b[33m│\u001b[39m\n",
      "   \u001b[33m│\u001b[39m                                       \u001b[33m│\u001b[39m\n",
      "\u001b[33m   ╰───────────────────────────────────────╯\u001b[39m\n",
      "\u001b[33m\u001b[39m\n",
      "Deploying the save transaction lambda\n",
      "Serverless: \u001b[33mconfig.options_stage: local\u001b[39m\n",
      "Serverless: \u001b[33mserverless.service.custom.stage: undefined\u001b[39m\n",
      "Serverless: \u001b[33mserverless.service.provider.stage: dev\u001b[39m\n",
      "Serverless: \u001b[33mconfig.stage: local\u001b[39m\n",
      "Serverless: \u001b[33mUsing serverless-localstack\u001b[39m\n",
      "Serverless: \u001b[33mReconfiguring service apigateway to use http://localhost:4567\u001b[39m\n",
      "Serverless: \u001b[33mReconfiguring service cloudformation to use http://localhost:4581\u001b[39m\n",
      "Serverless: \u001b[33mReconfiguring service cloudwatch to use http://localhost:4582\u001b[39m\n",
      "Serverless: \u001b[33mReconfiguring service lambda to use http://localhost:4574\u001b[39m\n",
      "Serverless: \u001b[33mReconfiguring service dynamodb to use http://localhost:4569\u001b[39m\n",
      "Serverless: \u001b[33mReconfiguring service kinesis to use http://localhost:4568\u001b[39m\n",
      "Serverless: \u001b[33mReconfiguring service route53 to use http://localhost:4580\u001b[39m\n",
      "Serverless: \u001b[33mReconfiguring service firehose to use http://localhost:4573\u001b[39m\n",
      "Serverless: \u001b[33mReconfiguring service stepfunctions to use http://localhost:4585\u001b[39m\n",
      "Serverless: \u001b[33mReconfiguring service es to use http://localhost:4578\u001b[39m\n",
      "Serverless: \u001b[33mReconfiguring service s3 to use http://localhost:4572\u001b[39m\n",
      "Serverless: \u001b[33mReconfiguring service ses to use http://localhost:4579\u001b[39m\n",
      "Serverless: \u001b[33mReconfiguring service sns to use http://localhost:4575\u001b[39m\n",
      "Serverless: \u001b[33mReconfiguring service sqs to use http://localhost:4576\u001b[39m\n",
      "Serverless: \u001b[33mReconfiguring service sts to use http://localhost:4592\u001b[39m\n",
      "Serverless: \u001b[33mReconfiguring service iam to use http://localhost:4593\u001b[39m\n",
      "Serverless: \u001b[33mReconfiguring service ssm to use http://localhost:4583\u001b[39m\n",
      "Serverless: \u001b[33mPackaging service...\u001b[39m\n",
      "Serverless: \u001b[33mExcluding development dependencies...\u001b[39m\n",
      "Serverless: \u001b[33mCreating deployment bucket pluto.user.action.lambdas\u001b[39m\n",
      "Serverless: \u001b[33mUploading CloudFormation file to S3...\u001b[39m\n",
      "Serverless: \u001b[33mUploading artifacts...\u001b[39m\n",
      "Serverless: \u001b[33mUploading service user-activity-api.zip file to S3 (27.12 MB)...\u001b[39m\n",
      "Serverless: \u001b[33mValidating template...\u001b[39m\n",
      "Serverless: \u001b[33mSkipping template validation: Unsupported in Localstack\u001b[39m\n",
      "Serverless: \u001b[33mCreating Stack...\u001b[39m\n",
      "Serverless: \u001b[33mChecking Stack create progress...\u001b[39m\n",
      "\u001b[33m.\u001b[39m\u001b[33m.\u001b[39m\n",
      "Serverless: \u001b[33mStack create finished...\u001b[39m\n",
      "\u001b[33m\u001b[4mService Information\u001b[24m\u001b[39m\n",
      "\u001b[33mservice:\u001b[39m user-activity-api\n",
      "\u001b[33mstage:\u001b[39m local\n",
      "\u001b[33mregion:\u001b[39m eu-west-1\n",
      "\u001b[33mstack:\u001b[39m user-activity-api-local\n",
      "\u001b[33mresources:\u001b[39m 9\n",
      "\u001b[33mapi keys:\u001b[39m\n",
      "  None\n",
      "\u001b[33mendpoints:\u001b[39m\n",
      "  POST - https://37A-Z959A-Z599.execute-api.eu-west-1.amazonaws.com/local/save\n",
      "\u001b[33mfunctions:\u001b[39m\n",
      "  save: add-savings\n",
      "\u001b[33mlayers:\u001b[39m\n",
      "  None\n"
     ]
    }
   ],
   "source": [
    "!./deploylambdas.sh"
   ]
  },
  {
   "cell_type": "code",
   "execution_count": 5,
   "metadata": {},
   "outputs": [],
   "source": [
    "dynamodb = boto3.client('dynamodb', endpoint_url = 'http://localhost:4569')\n",
    "local_lambda = boto3.client('lambda', endpoint_url = 'http://localhost:4574')"
   ]
  },
  {
   "cell_type": "code",
   "execution_count": 6,
   "metadata": {},
   "outputs": [],
   "source": [
    "def print_deployed_functions():\n",
    "    function_list = local_lambda.list_functions()\n",
    "    # print(function_list)\n",
    "    print('Function list: ', [function['FunctionName'] for function in function_list['Functions']])"
   ]
  },
  {
   "cell_type": "code",
   "execution_count": 7,
   "metadata": {},
   "outputs": [],
   "source": [
    "def generate_account(client_id = 'zar_client_co', float_id = 'zar_cash_float'):\n",
    "    first_name = names.get_first_name()\n",
    "    family_name = names.get_last_name()\n",
    "    user_id = str(uuid.uuid4())\n",
    "    return { 'clientId': client_id, 'floatId': float_id, 'ownerUserId': user_id, 'userFirstName': first_name, 'userFamilyName': family_name}"
   ]
  },
  {
   "cell_type": "code",
   "execution_count": 8,
   "metadata": {},
   "outputs": [],
   "source": [
    "def decode_lambda_result(lambda_result):\n",
    "    lambda_payload = lambda_result['Payload'].read()\n",
    "    lambda_pload_decoded = lambda_payload.decode('utf-8')\n",
    "    lambda_pload_object = json.loads(lambda_pload_decoded)\n",
    "    return lambda_pload_object"
   ]
  },
  {
   "cell_type": "code",
   "execution_count": 9,
   "metadata": {},
   "outputs": [],
   "source": [
    "def create_number_accounts(number_accounts = 1, client_id = 'zar_client_co'):\n",
    "    account_dicts = [generate_account(client_id) for i in range(number_accounts)]\n",
    "    persisted_accounts = []\n",
    "    for account in account_dicts:\n",
    "        lambda_result = local_lambda.invoke(FunctionName='create-account', InvocationType='RequestResponse', \n",
    "                                           Payload=json.dumps(account))\n",
    "        lambda_payload = json.loads(decode_lambda_result(lambda_result)['body'])\n",
    "        persisted_account = copy.deepcopy(account)\n",
    "        persisted_account['accountId'] = lambda_payload['accountId']\n",
    "        persisted_account['persistedTime'] = lambda_payload['persistedTime']\n",
    "        print('Account with ID %s persisted at %s' % (persisted_account['accountId'], persisted_account['persistedTime']))\n",
    "        persisted_accounts.append(persisted_account)\n",
    "    \n",
    "    return persisted_accounts\n",
    "    "
   ]
  },
  {
   "cell_type": "code",
   "execution_count": 22,
   "metadata": {},
   "outputs": [],
   "source": [
    "def generate_saving_transaction(account_id, ref_amount = 100, float_id = 'zar_cash_primary'):\n",
    "    current_time = datetime.datetime.now()\n",
    "    saved_amount = round(random.random() * ref_amount * 10 * 10) # random proportion of ref amount, \n",
    "    test_saving_dict = { \n",
    "        'accountId': account_id, \n",
    "        'initiationTime': str(current_time), \n",
    "        'settlementTime': str(current_time), \n",
    "        'savedAmount': saved_amount, \n",
    "        'savedCurrency': 'ZAR', \n",
    "        'savedUnit': 'HUNDREDTH_CENT',\n",
    "        'floatId': float_id\n",
    "    }\n",
    "    return test_saving_dict"
   ]
  },
  {
   "cell_type": "code",
   "execution_count": 42,
   "metadata": {},
   "outputs": [],
   "source": [
    "def seed_savings_for_accounts(accounts, tx_per_account = 1, base_amount = 100):\n",
    "    transactions = []\n",
    "    for i in range(tx_per_account):\n",
    "        transactions.extend([generate_saving_transaction(account['accountId'], base_amount) for account in accounts])\n",
    "#     print('transactions: ', transactions)\n",
    "    tx_records = []\n",
    "    for tx in transactions:\n",
    "        lambda_result = local_lambda.invoke(FunctionName='add-savings', InvocationType='RequestResponse', \n",
    "                                           Payload=json.dumps(tx, default=str))\n",
    "        lambda_payload = json.loads(decode_lambda_result(lambda_result)['body'])\n",
    "        persisted_tx = copy.deepcopy(tx)\n",
    "        persisted_tx['transactionId'] = lambda_payload['transactionDetails'][0][0]['transaction_id']\n",
    "        persisted_tx['currentBalance'] = lambda_payload['newBalance']\n",
    "        # persisted_account['persistedTime'] = lambda_payload['persistedTime']\n",
    "        print('Transaction persisted with ID %s' % (persisted_tx['transactionId']))\n",
    "        tx_records.append(persisted_tx)\n",
    "    \n",
    "    return tx_records"
   ]
  },
  {
   "cell_type": "code",
   "execution_count": 12,
   "metadata": {},
   "outputs": [
    {
     "name": "stdout",
     "output_type": "stream",
     "text": [
      "Function list:  ['float-api-local-accrue', 'create-account', 'add-savings']\n"
     ]
    }
   ],
   "source": [
    "print_deployed_functions()"
   ]
  },
  {
   "cell_type": "code",
   "execution_count": 13,
   "metadata": {},
   "outputs": [
    {
     "name": "stdout",
     "output_type": "stream",
     "text": [
      "Account with ID 987d21b0-6353-49c5-91e6-fc842220a1a9 persisted at 2019-05-29T12:45:51.693Z\n",
      "Account with ID d7167b20-1761-4ce6-a824-72cc0e547105 persisted at 2019-05-29T12:45:52.697Z\n",
      "Account with ID 4fcb7361-8f8a-4e54-b4f2-39fcddd21ea2 persisted at 2019-05-29T12:45:53.195Z\n",
      "Account with ID 30271a08-21f9-47ad-a2e1-fc4c631de02c persisted at 2019-05-29T12:45:53.753Z\n",
      "Account with ID 5ec9cf7f-1760-4ad9-94ae-271c82e6ba9f persisted at 2019-05-29T12:45:54.290Z\n",
      "Account with ID d2a1d3d5-7427-40b7-b09a-8f6734c5a78e persisted at 2019-05-29T12:45:54.813Z\n",
      "Account with ID 5a845113-51c2-42ba-9548-4be9994d08ab persisted at 2019-05-29T12:45:55.342Z\n",
      "Account with ID 93196722-686c-47e3-94c6-b08e676b755d persisted at 2019-05-29T12:45:55.864Z\n",
      "Account with ID 6408d593-2b09-4653-bf28-ba6db2bc2919 persisted at 2019-05-29T12:45:56.361Z\n",
      "Account with ID 5f07f4bf-8a62-4141-adc9-e291beaa58d7 persisted at 2019-05-29T12:45:56.872Z\n",
      "Account with ID 84c52f59-d483-42f4-ab73-2f1919d84a83 persisted at 2019-05-29T12:45:57.383Z\n",
      "Account with ID bc2053da-3a9c-408e-9e2d-f12f2ae70b70 persisted at 2019-05-29T12:45:57.897Z\n",
      "Account with ID c74f0608-4df4-45e1-9806-668b2cdb324c persisted at 2019-05-29T12:45:58.451Z\n",
      "Account with ID 400b06a9-bcdb-455e-8c61-db8aa0dafc12 persisted at 2019-05-29T12:45:58.964Z\n",
      "Account with ID 36d0fdc1-974e-4a80-bbed-e426ebf3ac04 persisted at 2019-05-29T12:45:59.474Z\n",
      "Account with ID 0b543593-533a-496a-8e36-0aa10ad7e6de persisted at 2019-05-29T12:46:00.165Z\n",
      "Account with ID 253f7ee8-37b5-424a-8a27-5e7343b88ff8 persisted at 2019-05-29T12:46:00.669Z\n",
      "Account with ID 2692f0c7-f7d9-42e7-a8b6-e3a660261694 persisted at 2019-05-29T12:46:01.223Z\n",
      "Account with ID f413cc31-9eac-463e-96bb-fc33065ff2c6 persisted at 2019-05-29T12:46:01.780Z\n",
      "Account with ID d9becc1c-a14d-4100-9f27-5ff21e748dd0 persisted at 2019-05-29T12:46:02.364Z\n"
     ]
    }
   ],
   "source": [
    "accounts = create_number_accounts(number_accounts = 20)"
   ]
  },
  {
   "cell_type": "code",
   "execution_count": 14,
   "metadata": {},
   "outputs": [
    {
     "name": "stdout",
     "output_type": "stream",
     "text": [
      "Name              AccountId\n",
      "----------------  ------------------------------------\n",
      "Karl Warner       987d21b0-6353-49c5-91e6-fc842220a1a9\n",
      "Joshua Stout      d7167b20-1761-4ce6-a824-72cc0e547105\n",
      "Jose Holder       4fcb7361-8f8a-4e54-b4f2-39fcddd21ea2\n",
      "Fannie Warren     30271a08-21f9-47ad-a2e1-fc4c631de02c\n",
      "Garry Oneill      5ec9cf7f-1760-4ad9-94ae-271c82e6ba9f\n",
      "Paula Kimes       d2a1d3d5-7427-40b7-b09a-8f6734c5a78e\n",
      "Raymond Caminiti  5a845113-51c2-42ba-9548-4be9994d08ab\n",
      "Edgar Coca        93196722-686c-47e3-94c6-b08e676b755d\n",
      "Francisco Boren   6408d593-2b09-4653-bf28-ba6db2bc2919\n",
      "Kelly Rodman      5f07f4bf-8a62-4141-adc9-e291beaa58d7\n",
      "Theresa Garcia    84c52f59-d483-42f4-ab73-2f1919d84a83\n",
      "Gary Jolly        bc2053da-3a9c-408e-9e2d-f12f2ae70b70\n",
      "Mark Mcdonald     c74f0608-4df4-45e1-9806-668b2cdb324c\n",
      "Barbara Reed      400b06a9-bcdb-455e-8c61-db8aa0dafc12\n",
      "Jennifer Dejesus  36d0fdc1-974e-4a80-bbed-e426ebf3ac04\n",
      "Samantha Trumbo   0b543593-533a-496a-8e36-0aa10ad7e6de\n",
      "Barbara Mcdaniel  253f7ee8-37b5-424a-8a27-5e7343b88ff8\n",
      "Shirley Adkins    2692f0c7-f7d9-42e7-a8b6-e3a660261694\n",
      "Houston Flores    f413cc31-9eac-463e-96bb-fc33065ff2c6\n",
      "Magali Larson     d9becc1c-a14d-4100-9f27-5ff21e748dd0\n"
     ]
    }
   ],
   "source": [
    "account_info = [{ 'Name': account['userFirstName'] + ' ' + account['userFamilyName'], \n",
    "                'AccountId': account['accountId'] } for account in accounts]\n",
    "print(tabulate.tabulate(account_info, headers = 'keys'))"
   ]
  },
  {
   "cell_type": "code",
   "execution_count": 36,
   "metadata": {},
   "outputs": [
    {
     "name": "stdout",
     "output_type": "stream",
     "text": [
      "Lambda result {'body': '{\"transactionDetails\":[[{\"transaction_id\":\"22116c27-8647-45e0-ad07-94d0052e74c3\",\"tags\":[],\"flags\":[]}],[{\"transaction_id\":\"7549d020-c254-4967-9e27-de534ff34577\",\"creation_time\":\"2019-05-29T13:40:39.641Z\"}]],\"newBalance\":\"15856\"}', 'statusCode': 200}\n"
     ]
    }
   ],
   "source": [
    "single_tx = generate_saving_transaction(accounts[0]['accountId'], 100)\n",
    "lambda_result = local_lambda.invoke(FunctionName='add-savings', Payload=json.dumps(single_tx, default=str))\n",
    "result_decoded = decode_lambda_result(lambda_result)\n",
    "print('Lambda result', result_decoded)"
   ]
  },
  {
   "cell_type": "code",
   "execution_count": 48,
   "metadata": {},
   "outputs": [
    {
     "name": "stdout",
     "output_type": "stream",
     "text": [
      "transactions:  [{'accountId': '987d21b0-6353-49c5-91e6-fc842220a1a9', 'initiationTime': '2019-05-29 15:59:54.985508', 'settlementTime': '2019-05-29 15:59:54.985508', 'savedAmount': 7018, 'savedCurrency': 'ZAR', 'savedUnit': 'HUNDREDTH_CENT', 'floatId': 'zar_cash_primary'}, {'accountId': 'd7167b20-1761-4ce6-a824-72cc0e547105', 'initiationTime': '2019-05-29 15:59:54.985790', 'settlementTime': '2019-05-29 15:59:54.985790', 'savedAmount': 5320, 'savedCurrency': 'ZAR', 'savedUnit': 'HUNDREDTH_CENT', 'floatId': 'zar_cash_primary'}, {'accountId': '4fcb7361-8f8a-4e54-b4f2-39fcddd21ea2', 'initiationTime': '2019-05-29 15:59:54.985797', 'settlementTime': '2019-05-29 15:59:54.985797', 'savedAmount': 216, 'savedCurrency': 'ZAR', 'savedUnit': 'HUNDREDTH_CENT', 'floatId': 'zar_cash_primary'}, {'accountId': '30271a08-21f9-47ad-a2e1-fc4c631de02c', 'initiationTime': '2019-05-29 15:59:54.985802', 'settlementTime': '2019-05-29 15:59:54.985802', 'savedAmount': 4482, 'savedCurrency': 'ZAR', 'savedUnit': 'HUNDREDTH_CENT', 'floatId': 'zar_cash_primary'}, {'accountId': '5ec9cf7f-1760-4ad9-94ae-271c82e6ba9f', 'initiationTime': '2019-05-29 15:59:54.985805', 'settlementTime': '2019-05-29 15:59:54.985805', 'savedAmount': 1715, 'savedCurrency': 'ZAR', 'savedUnit': 'HUNDREDTH_CENT', 'floatId': 'zar_cash_primary'}, {'accountId': 'd2a1d3d5-7427-40b7-b09a-8f6734c5a78e', 'initiationTime': '2019-05-29 15:59:54.985810', 'settlementTime': '2019-05-29 15:59:54.985810', 'savedAmount': 9894, 'savedCurrency': 'ZAR', 'savedUnit': 'HUNDREDTH_CENT', 'floatId': 'zar_cash_primary'}, {'accountId': '5a845113-51c2-42ba-9548-4be9994d08ab', 'initiationTime': '2019-05-29 15:59:54.985814', 'settlementTime': '2019-05-29 15:59:54.985814', 'savedAmount': 7012, 'savedCurrency': 'ZAR', 'savedUnit': 'HUNDREDTH_CENT', 'floatId': 'zar_cash_primary'}, {'accountId': '93196722-686c-47e3-94c6-b08e676b755d', 'initiationTime': '2019-05-29 15:59:54.985818', 'settlementTime': '2019-05-29 15:59:54.985818', 'savedAmount': 6173, 'savedCurrency': 'ZAR', 'savedUnit': 'HUNDREDTH_CENT', 'floatId': 'zar_cash_primary'}, {'accountId': '6408d593-2b09-4653-bf28-ba6db2bc2919', 'initiationTime': '2019-05-29 15:59:54.985822', 'settlementTime': '2019-05-29 15:59:54.985822', 'savedAmount': 1091, 'savedCurrency': 'ZAR', 'savedUnit': 'HUNDREDTH_CENT', 'floatId': 'zar_cash_primary'}, {'accountId': '5f07f4bf-8a62-4141-adc9-e291beaa58d7', 'initiationTime': '2019-05-29 15:59:54.985826', 'settlementTime': '2019-05-29 15:59:54.985826', 'savedAmount': 9280, 'savedCurrency': 'ZAR', 'savedUnit': 'HUNDREDTH_CENT', 'floatId': 'zar_cash_primary'}, {'accountId': '84c52f59-d483-42f4-ab73-2f1919d84a83', 'initiationTime': '2019-05-29 15:59:54.985830', 'settlementTime': '2019-05-29 15:59:54.985830', 'savedAmount': 3604, 'savedCurrency': 'ZAR', 'savedUnit': 'HUNDREDTH_CENT', 'floatId': 'zar_cash_primary'}, {'accountId': 'bc2053da-3a9c-408e-9e2d-f12f2ae70b70', 'initiationTime': '2019-05-29 15:59:54.985834', 'settlementTime': '2019-05-29 15:59:54.985834', 'savedAmount': 2469, 'savedCurrency': 'ZAR', 'savedUnit': 'HUNDREDTH_CENT', 'floatId': 'zar_cash_primary'}, {'accountId': 'c74f0608-4df4-45e1-9806-668b2cdb324c', 'initiationTime': '2019-05-29 15:59:54.985838', 'settlementTime': '2019-05-29 15:59:54.985838', 'savedAmount': 354, 'savedCurrency': 'ZAR', 'savedUnit': 'HUNDREDTH_CENT', 'floatId': 'zar_cash_primary'}, {'accountId': '400b06a9-bcdb-455e-8c61-db8aa0dafc12', 'initiationTime': '2019-05-29 15:59:54.985842', 'settlementTime': '2019-05-29 15:59:54.985842', 'savedAmount': 5785, 'savedCurrency': 'ZAR', 'savedUnit': 'HUNDREDTH_CENT', 'floatId': 'zar_cash_primary'}, {'accountId': '36d0fdc1-974e-4a80-bbed-e426ebf3ac04', 'initiationTime': '2019-05-29 15:59:54.985846', 'settlementTime': '2019-05-29 15:59:54.985846', 'savedAmount': 7372, 'savedCurrency': 'ZAR', 'savedUnit': 'HUNDREDTH_CENT', 'floatId': 'zar_cash_primary'}, {'accountId': '0b543593-533a-496a-8e36-0aa10ad7e6de', 'initiationTime': '2019-05-29 15:59:54.985850', 'settlementTime': '2019-05-29 15:59:54.985850', 'savedAmount': 4995, 'savedCurrency': 'ZAR', 'savedUnit': 'HUNDREDTH_CENT', 'floatId': 'zar_cash_primary'}, {'accountId': '253f7ee8-37b5-424a-8a27-5e7343b88ff8', 'initiationTime': '2019-05-29 15:59:54.985854', 'settlementTime': '2019-05-29 15:59:54.985854', 'savedAmount': 2184, 'savedCurrency': 'ZAR', 'savedUnit': 'HUNDREDTH_CENT', 'floatId': 'zar_cash_primary'}, {'accountId': '2692f0c7-f7d9-42e7-a8b6-e3a660261694', 'initiationTime': '2019-05-29 15:59:54.985858', 'settlementTime': '2019-05-29 15:59:54.985858', 'savedAmount': 5000, 'savedCurrency': 'ZAR', 'savedUnit': 'HUNDREDTH_CENT', 'floatId': 'zar_cash_primary'}, {'accountId': 'f413cc31-9eac-463e-96bb-fc33065ff2c6', 'initiationTime': '2019-05-29 15:59:54.985862', 'settlementTime': '2019-05-29 15:59:54.985862', 'savedAmount': 7796, 'savedCurrency': 'ZAR', 'savedUnit': 'HUNDREDTH_CENT', 'floatId': 'zar_cash_primary'}, {'accountId': 'd9becc1c-a14d-4100-9f27-5ff21e748dd0', 'initiationTime': '2019-05-29 15:59:54.985866', 'settlementTime': '2019-05-29 15:59:54.985866', 'savedAmount': 8779, 'savedCurrency': 'ZAR', 'savedUnit': 'HUNDREDTH_CENT', 'floatId': 'zar_cash_primary'}]\n",
      "Transaction persisted with ID 9d98d9b9-a432-4cae-8489-7ddbf964cb41\n",
      "Transaction persisted with ID 707a3b97-cb15-4c3e-bc76-cdeb38069478\n",
      "Transaction persisted with ID 48e01770-0af1-44fa-beef-31b154abe734\n",
      "Transaction persisted with ID f1b42aeb-80d2-4ae6-8157-3af13ebfed93\n",
      "Transaction persisted with ID 624957f1-fad1-4fcb-8031-9121b2530c47\n",
      "Transaction persisted with ID 9b3a6bd1-1c94-4f36-af75-317b45956ff0\n",
      "Transaction persisted with ID a4854947-fa07-4472-b7d8-90aa892ed803\n",
      "Transaction persisted with ID 0009d359-cd1b-46a0-8498-8f3e5a3424ea\n",
      "Transaction persisted with ID e19180a1-9059-4b5e-89ac-3a112f4fa3e1\n",
      "Transaction persisted with ID e9974d82-b496-46fb-a204-3c6971399e0b\n",
      "Transaction persisted with ID a6ccb243-5f06-423a-a0fb-b21678dc2efc\n",
      "Transaction persisted with ID 1632504d-12b7-4677-8a51-ad4cccd795ff\n",
      "Transaction persisted with ID 7d92c244-769a-463e-a7e4-d989739bae67\n",
      "Transaction persisted with ID 1487de87-2abb-4848-a427-b7e00675ee4f\n",
      "Transaction persisted with ID eef90092-ec1e-43a8-8a02-c281f1d0bf4a\n",
      "Transaction persisted with ID bde8992d-ba43-4952-87d0-c939b8e0a6fd\n",
      "Transaction persisted with ID 16cde2ab-a660-42f8-bc49-d267912dcb30\n",
      "Transaction persisted with ID e35f82c5-d6fe-4eb9-a34e-731a6fdd4e53\n",
      "Transaction persisted with ID 401e1885-2383-4392-9135-f20f6065439f\n",
      "Transaction persisted with ID d5a1f634-28df-49e7-be38-12c76e0bd077\n"
     ]
    }
   ],
   "source": [
    "account_balances = seed_savings_for_accounts(accounts, 1, 100)"
   ]
  },
  {
   "cell_type": "code",
   "execution_count": 50,
   "metadata": {},
   "outputs": [
    {
     "name": "stdout",
     "output_type": "stream",
     "text": [
      "['62834', '5320', '216', '4482', '1715', '9894', '7012', '6173', '1091', '9280', '3604', '2469', '354', '5785', '7372', '4995', '2184', '5000', '7796', '8779']\n"
     ]
    }
   ],
   "source": [
    "print([account['currentBalance'] for account in account_balances])"
   ]
  },
  {
   "cell_type": "code",
   "execution_count": null,
   "metadata": {},
   "outputs": [],
   "source": []
  }
 ],
 "metadata": {
  "kernelspec": {
   "display_name": "Python [conda env:pluto-local-dev]",
   "language": "python",
   "name": "conda-env-pluto-local-dev-py"
  },
  "language_info": {
   "codemirror_mode": {
    "name": "ipython",
    "version": 3
   },
   "file_extension": ".py",
   "mimetype": "text/x-python",
   "name": "python",
   "nbconvert_exporter": "python",
   "pygments_lexer": "ipython3",
   "version": "3.6.8"
  }
 },
 "nbformat": 4,
 "nbformat_minor": 2
}
