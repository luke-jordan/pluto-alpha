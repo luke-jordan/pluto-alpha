{
 "cells": [
  {
   "cell_type": "code",
   "execution_count": 4,
   "metadata": {},
   "outputs": [],
   "source": [
    "import boto3\n",
    "import json, uuid"
   ]
  },
  {
   "cell_type": "code",
   "execution_count": null,
   "metadata": {},
   "outputs": [],
   "source": [
    "# open_cmd_in_new_terminal(\"docker-compose up\")\n",
    "!gnome-terminal -- docker-compose up"
   ]
  },
  {
   "cell_type": "code",
   "execution_count": null,
   "metadata": {},
   "outputs": [],
   "source": [
    "!./setuprds.sh\n",
    "!./setupdynamo.sh"
   ]
  },
  {
   "cell_type": "code",
   "execution_count": 8,
   "metadata": {},
   "outputs": [
    {
     "name": "stdout",
     "output_type": "stream",
     "text": [
      "Deploying the float lambda\n",
      "Serverless: \u001b[33mconfig.options_stage: local\u001b[39m\n",
      "Serverless: \u001b[33mserverless.service.custom.stage: undefined\u001b[39m\n",
      "Serverless: \u001b[33mserverless.service.provider.stage: dev\u001b[39m\n",
      "Serverless: \u001b[33mconfig.stage: local\u001b[39m\n",
      "Serverless: \u001b[33mUsing serverless-localstack\u001b[39m\n",
      "Serverless: \u001b[33mReconfiguring service apigateway to use http://localhost:4567\u001b[39m\n",
      "Serverless: \u001b[33mReconfiguring service cloudformation to use http://localhost:4581\u001b[39m\n",
      "Serverless: \u001b[33mReconfiguring service cloudwatch to use http://localhost:4582\u001b[39m\n",
      "Serverless: \u001b[33mReconfiguring service lambda to use http://localhost:4574\u001b[39m\n",
      "Serverless: \u001b[33mReconfiguring service dynamodb to use http://localhost:4569\u001b[39m\n",
      "Serverless: \u001b[33mReconfiguring service kinesis to use http://localhost:4568\u001b[39m\n",
      "Serverless: \u001b[33mReconfiguring service route53 to use http://localhost:4580\u001b[39m\n",
      "Serverless: \u001b[33mReconfiguring service firehose to use http://localhost:4573\u001b[39m\n",
      "Serverless: \u001b[33mReconfiguring service stepfunctions to use http://localhost:4585\u001b[39m\n",
      "Serverless: \u001b[33mReconfiguring service es to use http://localhost:4578\u001b[39m\n",
      "Serverless: \u001b[33mReconfiguring service s3 to use http://localhost:4572\u001b[39m\n",
      "Serverless: \u001b[33mReconfiguring service ses to use http://localhost:4579\u001b[39m\n",
      "Serverless: \u001b[33mReconfiguring service sns to use http://localhost:4575\u001b[39m\n",
      "Serverless: \u001b[33mReconfiguring service sqs to use http://localhost:4576\u001b[39m\n",
      "Serverless: \u001b[33mReconfiguring service sts to use http://localhost:4592\u001b[39m\n",
      "Serverless: \u001b[33mReconfiguring service iam to use http://localhost:4593\u001b[39m\n",
      "Serverless: \u001b[33mReconfiguring service ssm to use http://localhost:4583\u001b[39m\n",
      "Serverless: \u001b[33mPackaging service...\u001b[39m\n",
      "Serverless: \u001b[33mExcluding development dependencies...\u001b[39m\n",
      "Serverless: \u001b[33mCreating deployment bucket pluto.float.lambdas\u001b[39m\n",
      "Serverless: \u001b[33mUploading CloudFormation file to S3...\u001b[39m\n",
      "Serverless: \u001b[33mUploading artifacts...\u001b[39m\n",
      "Serverless: \u001b[33mUploading service float-api.zip file to S3 (8.38 MB)...\u001b[39m\n",
      "Serverless: \u001b[33mValidating template...\u001b[39m\n",
      "Serverless: \u001b[33mSkipping template validation: Unsupported in Localstack\u001b[39m\n",
      "Serverless: \u001b[33mCreating Stack...\u001b[39m\n",
      "Serverless: \u001b[33mChecking Stack create progress...\u001b[39m\n",
      "\u001b[33m.\u001b[39m\u001b[33m.\u001b[39m\n",
      "Serverless: \u001b[33mStack create finished...\u001b[39m\n",
      "\u001b[33m\u001b[4mService Information\u001b[24m\u001b[39m\n",
      "\u001b[33mservice:\u001b[39m float-api\n",
      "\u001b[33mstage:\u001b[39m local\n",
      "\u001b[33mregion:\u001b[39m eu-west-1\n",
      "\u001b[33mstack:\u001b[39m float-api-local\n",
      "\u001b[33mresources:\u001b[39m 9\n",
      "\u001b[33mapi keys:\u001b[39m\n",
      "  None\n",
      "\u001b[33mendpoints:\u001b[39m\n",
      "  POST - https://22742A-Z2685.execute-api.eu-west-1.amazonaws.com/local/save\n",
      "\u001b[33mfunctions:\u001b[39m\n",
      "  accrue: float-api-local-accrue\n",
      "\u001b[33mlayers:\u001b[39m\n",
      "  None\n",
      "Deploying the user account mgmt lambda\n",
      "Serverless: \u001b[33mconfig.options_stage: local\u001b[39m\n",
      "Serverless: \u001b[33mserverless.service.custom.stage: local\u001b[39m\n",
      "Serverless: \u001b[33mserverless.service.provider.stage: local\u001b[39m\n",
      "Serverless: \u001b[33mconfig.stage: local\u001b[39m\n",
      "Serverless: \u001b[33mUsing serverless-localstack\u001b[39m\n",
      "Serverless: \u001b[33mReconfiguring service apigateway to use http://localhost:4567\u001b[39m\n",
      "Serverless: \u001b[33mReconfiguring service cloudformation to use http://localhost:4581\u001b[39m\n",
      "Serverless: \u001b[33mReconfiguring service cloudwatch to use http://localhost:4582\u001b[39m\n",
      "Serverless: \u001b[33mReconfiguring service lambda to use http://localhost:4574\u001b[39m\n",
      "Serverless: \u001b[33mReconfiguring service dynamodb to use http://localhost:4569\u001b[39m\n",
      "Serverless: \u001b[33mReconfiguring service kinesis to use http://localhost:4568\u001b[39m\n",
      "Serverless: \u001b[33mReconfiguring service route53 to use http://localhost:4580\u001b[39m\n",
      "Serverless: \u001b[33mReconfiguring service firehose to use http://localhost:4573\u001b[39m\n",
      "Serverless: \u001b[33mReconfiguring service stepfunctions to use http://localhost:4585\u001b[39m\n",
      "Serverless: \u001b[33mReconfiguring service es to use http://localhost:4578\u001b[39m\n",
      "Serverless: \u001b[33mReconfiguring service s3 to use http://localhost:4572\u001b[39m\n",
      "Serverless: \u001b[33mReconfiguring service ses to use http://localhost:4579\u001b[39m\n",
      "Serverless: \u001b[33mReconfiguring service sns to use http://localhost:4575\u001b[39m\n",
      "Serverless: \u001b[33mReconfiguring service sqs to use http://localhost:4576\u001b[39m\n",
      "Serverless: \u001b[33mReconfiguring service sts to use http://localhost:4592\u001b[39m\n",
      "Serverless: \u001b[33mReconfiguring service iam to use http://localhost:4593\u001b[39m\n",
      "Serverless: \u001b[33mReconfiguring service ssm to use http://localhost:4583\u001b[39m\n",
      "Serverless: \u001b[33mPackaging service...\u001b[39m\n",
      "Serverless: \u001b[33mExcluding development dependencies...\u001b[39m\n",
      "Serverless: \u001b[33mCreating deployment bucket pluto.user.existence.lambdas\u001b[39m\n",
      "Serverless: \u001b[33mUploading CloudFormation file to S3...\u001b[39m\n",
      "Serverless: \u001b[33mUploading artifacts...\u001b[39m\n",
      "Serverless: \u001b[33mUploading service user-existence-api.zip file to S3 (40.93 MB)...\u001b[39m\n",
      "Serverless: \u001b[33mValidating template...\u001b[39m\n",
      "Serverless: \u001b[33mSkipping template validation: Unsupported in Localstack\u001b[39m\n",
      "Serverless: \u001b[33mCreating Stack...\u001b[39m\n",
      "Serverless: \u001b[33mHELLO!!! Calling create stack!!!\u001b[39m\n",
      "Serverless: \u001b[33mChecking Stack create progress...\u001b[39m\n",
      "\u001b[33m.\u001b[39m\u001b[33m.\u001b[39m\n",
      "Serverless: \u001b[33mStack create finished...\u001b[39m\n",
      "\u001b[33m\u001b[4mService Information\u001b[24m\u001b[39m\n",
      "\u001b[33mservice:\u001b[39m user-existence-api\n",
      "\u001b[33mstage:\u001b[39m local\n",
      "\u001b[33mregion:\u001b[39m eu-west-1\n",
      "\u001b[33mstack:\u001b[39m user-existence-api-local\n",
      "\u001b[33mresources:\u001b[39m 9\n",
      "\u001b[33mapi keys:\u001b[39m\n",
      "  None\n",
      "\u001b[33mendpoints:\u001b[39m\n",
      "  POST - https://0A-Z1075877A-Z.execute-api.eu-west-1.amazonaws.com/local/create\n",
      "\u001b[33mfunctions:\u001b[39m\n",
      "  create: create-account\n",
      "\u001b[33mlayers:\u001b[39m\n",
      "  None\n",
      "Deploying the save transaction lambda\n",
      "Serverless: \u001b[33mconfig.options_stage: local\u001b[39m\n",
      "Serverless: \u001b[33mserverless.service.custom.stage: undefined\u001b[39m\n",
      "Serverless: \u001b[33mserverless.service.provider.stage: dev\u001b[39m\n",
      "Serverless: \u001b[33mconfig.stage: local\u001b[39m\n",
      "Serverless: \u001b[33mUsing serverless-localstack\u001b[39m\n",
      "Serverless: \u001b[33mReconfiguring service apigateway to use http://localhost:4567\u001b[39m\n",
      "Serverless: \u001b[33mReconfiguring service cloudformation to use http://localhost:4581\u001b[39m\n",
      "Serverless: \u001b[33mReconfiguring service cloudwatch to use http://localhost:4582\u001b[39m\n",
      "Serverless: \u001b[33mReconfiguring service lambda to use http://localhost:4574\u001b[39m\n",
      "Serverless: \u001b[33mReconfiguring service dynamodb to use http://localhost:4569\u001b[39m\n",
      "Serverless: \u001b[33mReconfiguring service kinesis to use http://localhost:4568\u001b[39m\n",
      "Serverless: \u001b[33mReconfiguring service route53 to use http://localhost:4580\u001b[39m\n",
      "Serverless: \u001b[33mReconfiguring service firehose to use http://localhost:4573\u001b[39m\n",
      "Serverless: \u001b[33mReconfiguring service stepfunctions to use http://localhost:4585\u001b[39m\n",
      "Serverless: \u001b[33mReconfiguring service es to use http://localhost:4578\u001b[39m\n",
      "Serverless: \u001b[33mReconfiguring service s3 to use http://localhost:4572\u001b[39m\n",
      "Serverless: \u001b[33mReconfiguring service ses to use http://localhost:4579\u001b[39m\n",
      "Serverless: \u001b[33mReconfiguring service sns to use http://localhost:4575\u001b[39m\n",
      "Serverless: \u001b[33mReconfiguring service sqs to use http://localhost:4576\u001b[39m\n",
      "Serverless: \u001b[33mReconfiguring service sts to use http://localhost:4592\u001b[39m\n",
      "Serverless: \u001b[33mReconfiguring service iam to use http://localhost:4593\u001b[39m\n",
      "Serverless: \u001b[33mReconfiguring service ssm to use http://localhost:4583\u001b[39m\n",
      "Serverless: \u001b[33mPackaging service...\u001b[39m\n",
      "Serverless: \u001b[33mExcluding development dependencies...\u001b[39m\n",
      "Serverless: \u001b[33mCreating deployment bucket pluto.user.action.lambdas\u001b[39m\n",
      "Serverless: \u001b[33mUploading CloudFormation file to S3...\u001b[39m\n",
      "Serverless: \u001b[33mUploading artifacts...\u001b[39m\n",
      "Serverless: \u001b[33mUploading service user-activity-api.zip file to S3 (9.54 MB)...\u001b[39m\n",
      "Serverless: \u001b[33mValidating template...\u001b[39m\n",
      "Serverless: \u001b[33mSkipping template validation: Unsupported in Localstack\u001b[39m\n",
      "Serverless: \u001b[33mCreating Stack...\u001b[39m\n",
      "Serverless: \u001b[33mChecking Stack create progress...\u001b[39m\n",
      "\u001b[33m.\u001b[39m\u001b[33m.\u001b[39m\n",
      "Serverless: \u001b[33mStack create finished...\u001b[39m\n",
      "\u001b[33m\u001b[4mService Information\u001b[24m\u001b[39m\n",
      "\u001b[33mservice:\u001b[39m user-activity-api\n",
      "\u001b[33mstage:\u001b[39m local\n",
      "\u001b[33mregion:\u001b[39m eu-west-1\n",
      "\u001b[33mstack:\u001b[39m user-activity-api-local\n",
      "\u001b[33mresources:\u001b[39m 9\n",
      "\u001b[33mapi keys:\u001b[39m\n",
      "  None\n",
      "\u001b[33mendpoints:\u001b[39m\n",
      "  POST - https://3111273340.execute-api.eu-west-1.amazonaws.com/local/save\n",
      "\u001b[33mfunctions:\u001b[39m\n",
      "  save: add-savings\n",
      "\u001b[33mlayers:\u001b[39m\n",
      "  None\n"
     ]
    }
   ],
   "source": [
    "!./deploylambdas.sh"
   ]
  },
  {
   "cell_type": "code",
   "execution_count": 9,
   "metadata": {},
   "outputs": [],
   "source": [
    "dynamodb = boto3.client('dynamodb', endpoint_url = 'http://localhost:4569')\n",
    "local_lambda = boto3.client('lambda', endpoint_url = 'http://localhost:4574')"
   ]
  },
  {
   "cell_type": "code",
   "execution_count": 15,
   "metadata": {},
   "outputs": [
    {
     "name": "stdout",
     "output_type": "stream",
     "text": [
      "Function list:  ['create-account']\n"
     ]
    }
   ],
   "source": [
    "function_list = local_lambda.list_functions()\n",
    "# print(function_list)\n",
    "print('Function list: ', [function['FunctionName'] for function in function_list['Functions']])"
   ]
  },
  {
   "cell_type": "code",
   "execution_count": 11,
   "metadata": {},
   "outputs": [],
   "source": [
    "import uuid\n",
    "test_account_dict = { 'clientId': 'something-or-other', 'ownerUserId': str(uuid.uuid4()), 'userFirstName': 'Luke', 'userFamilyName': 'Jordan' }\n",
    "test_payload = json.dumps(test_account_dict)"
   ]
  },
  {
   "cell_type": "code",
   "execution_count": 18,
   "metadata": {},
   "outputs": [
    {
     "data": {
      "text/plain": [
       "{'ResponseMetadata': {'HTTPStatusCode': 200,\n",
       "  'HTTPHeaders': {'content-type': 'application/json',\n",
       "   'content-length': '132',\n",
       "   'access-control-allow-origin': '*',\n",
       "   'server': 'Werkzeug/0.15.4 Python/3.6.8',\n",
       "   'date': 'Fri, 24 May 2019 11:28:17 GMT'},\n",
       "  'RetryAttempts': 0},\n",
       " 'StatusCode': 200,\n",
       " 'Payload': <botocore.response.StreamingBody at 0x7f4db149f7f0>}"
      ]
     },
     "execution_count": 18,
     "metadata": {},
     "output_type": "execute_result"
    }
   ],
   "source": [
    "local_lambda.invoke(FunctionName='create-account', InvocationType='RequestResponse', Payload=json.dumps(test_account_dict))"
   ]
  },
  {
   "cell_type": "code",
   "execution_count": 14,
   "metadata": {},
   "outputs": [
    {
     "ename": "ResourceNotFoundException",
     "evalue": "An error occurred (ResourceNotFoundException) when calling the DeleteFunction operation: Function does not exist: create-account",
     "output_type": "error",
     "traceback": [
      "\u001b[0;31m---------------------------------------------------------------------------\u001b[0m",
      "\u001b[0;31mResourceNotFoundException\u001b[0m                 Traceback (most recent call last)",
      "\u001b[0;32m<ipython-input-14-0ef3afc57daf>\u001b[0m in \u001b[0;36m<module>\u001b[0;34m\u001b[0m\n\u001b[0;32m----> 1\u001b[0;31m \u001b[0mlocal_lambda\u001b[0m\u001b[0;34m.\u001b[0m\u001b[0mdelete_function\u001b[0m\u001b[0;34m(\u001b[0m\u001b[0mFunctionName\u001b[0m\u001b[0;34m=\u001b[0m\u001b[0;34m'create-account'\u001b[0m\u001b[0;34m)\u001b[0m\u001b[0;34m\u001b[0m\u001b[0;34m\u001b[0m\u001b[0m\n\u001b[0m",
      "\u001b[0;32m~/anaconda3/envs/pluto-local-dev/lib/python3.6/site-packages/botocore/client.py\u001b[0m in \u001b[0;36m_api_call\u001b[0;34m(self, *args, **kwargs)\u001b[0m\n\u001b[1;32m    355\u001b[0m                     \"%s() only accepts keyword arguments.\" % py_operation_name)\n\u001b[1;32m    356\u001b[0m             \u001b[0;31m# The \"self\" in this scope is referring to the BaseClient.\u001b[0m\u001b[0;34m\u001b[0m\u001b[0;34m\u001b[0m\u001b[0;34m\u001b[0m\u001b[0m\n\u001b[0;32m--> 357\u001b[0;31m             \u001b[0;32mreturn\u001b[0m \u001b[0mself\u001b[0m\u001b[0;34m.\u001b[0m\u001b[0m_make_api_call\u001b[0m\u001b[0;34m(\u001b[0m\u001b[0moperation_name\u001b[0m\u001b[0;34m,\u001b[0m \u001b[0mkwargs\u001b[0m\u001b[0;34m)\u001b[0m\u001b[0;34m\u001b[0m\u001b[0;34m\u001b[0m\u001b[0m\n\u001b[0m\u001b[1;32m    358\u001b[0m \u001b[0;34m\u001b[0m\u001b[0m\n\u001b[1;32m    359\u001b[0m         \u001b[0m_api_call\u001b[0m\u001b[0;34m.\u001b[0m\u001b[0m__name__\u001b[0m \u001b[0;34m=\u001b[0m \u001b[0mstr\u001b[0m\u001b[0;34m(\u001b[0m\u001b[0mpy_operation_name\u001b[0m\u001b[0;34m)\u001b[0m\u001b[0;34m\u001b[0m\u001b[0;34m\u001b[0m\u001b[0m\n",
      "\u001b[0;32m~/anaconda3/envs/pluto-local-dev/lib/python3.6/site-packages/botocore/client.py\u001b[0m in \u001b[0;36m_make_api_call\u001b[0;34m(self, operation_name, api_params)\u001b[0m\n\u001b[1;32m    659\u001b[0m             \u001b[0merror_code\u001b[0m \u001b[0;34m=\u001b[0m \u001b[0mparsed_response\u001b[0m\u001b[0;34m.\u001b[0m\u001b[0mget\u001b[0m\u001b[0;34m(\u001b[0m\u001b[0;34m\"Error\"\u001b[0m\u001b[0;34m,\u001b[0m \u001b[0;34m{\u001b[0m\u001b[0;34m}\u001b[0m\u001b[0;34m)\u001b[0m\u001b[0;34m.\u001b[0m\u001b[0mget\u001b[0m\u001b[0;34m(\u001b[0m\u001b[0;34m\"Code\"\u001b[0m\u001b[0;34m)\u001b[0m\u001b[0;34m\u001b[0m\u001b[0;34m\u001b[0m\u001b[0m\n\u001b[1;32m    660\u001b[0m             \u001b[0merror_class\u001b[0m \u001b[0;34m=\u001b[0m \u001b[0mself\u001b[0m\u001b[0;34m.\u001b[0m\u001b[0mexceptions\u001b[0m\u001b[0;34m.\u001b[0m\u001b[0mfrom_code\u001b[0m\u001b[0;34m(\u001b[0m\u001b[0merror_code\u001b[0m\u001b[0;34m)\u001b[0m\u001b[0;34m\u001b[0m\u001b[0;34m\u001b[0m\u001b[0m\n\u001b[0;32m--> 661\u001b[0;31m             \u001b[0;32mraise\u001b[0m \u001b[0merror_class\u001b[0m\u001b[0;34m(\u001b[0m\u001b[0mparsed_response\u001b[0m\u001b[0;34m,\u001b[0m \u001b[0moperation_name\u001b[0m\u001b[0;34m)\u001b[0m\u001b[0;34m\u001b[0m\u001b[0;34m\u001b[0m\u001b[0m\n\u001b[0m\u001b[1;32m    662\u001b[0m         \u001b[0;32melse\u001b[0m\u001b[0;34m:\u001b[0m\u001b[0;34m\u001b[0m\u001b[0;34m\u001b[0m\u001b[0m\n\u001b[1;32m    663\u001b[0m             \u001b[0;32mreturn\u001b[0m \u001b[0mparsed_response\u001b[0m\u001b[0;34m\u001b[0m\u001b[0;34m\u001b[0m\u001b[0m\n",
      "\u001b[0;31mResourceNotFoundException\u001b[0m: An error occurred (ResourceNotFoundException) when calling the DeleteFunction operation: Function does not exist: create-account"
     ]
    }
   ],
   "source": []
  },
  {
   "cell_type": "code",
   "execution_count": null,
   "metadata": {},
   "outputs": [],
   "source": []
  }
 ],
 "metadata": {
  "kernelspec": {
   "display_name": "Python [conda env:pluto-local-dev]",
   "language": "python",
   "name": "conda-env-pluto-local-dev-py"
  },
  "language_info": {
   "codemirror_mode": {
    "name": "ipython",
    "version": 3
   },
   "file_extension": ".py",
   "mimetype": "text/x-python",
   "name": "python",
   "nbconvert_exporter": "python",
   "pygments_lexer": "ipython3",
   "version": "3.6.8"
  }
 },
 "nbformat": 4,
 "nbformat_minor": 2
}
