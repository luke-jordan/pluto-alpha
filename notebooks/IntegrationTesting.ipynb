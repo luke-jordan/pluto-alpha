{
 "cells": [
  {
   "cell_type": "code",
   "execution_count": 4,
   "metadata": {},
   "outputs": [],
   "source": [
    "import boto3\n",
    "import json, uuid, copy, datetime\n",
    "import random, names, tabulate\n",
    "import pandas as pd"
   ]
  },
  {
   "cell_type": "code",
   "execution_count": null,
   "metadata": {},
   "outputs": [],
   "source": [
    "# open_cmd_in_new_terminal(\"docker-compose up\")\n",
    "!gnome-terminal -- docker-compose up"
   ]
  },
  {
   "cell_type": "code",
   "execution_count": 1,
   "metadata": {},
   "outputs": [
    {
     "name": "stdout",
     "output_type": "stream",
     "text": [
      "Setting up users\n",
      "CREATE ROLE\n",
      "CREATE ROLE\n",
      "CREATE ROLE\n",
      "Setting up account ledger in RDS local\n",
      "CREATE SCHEMA\n",
      "CREATE TABLE\n",
      "CREATE INDEX\n",
      "CREATE INDEX\n",
      "REVOKE\n",
      "GRANT\n",
      "GRANT\n",
      "GRANT\n",
      "GRANT\n",
      "GRANT\n",
      "GRANT\n",
      "Setting up transaction ledger in RDS local\n",
      "CREATE SCHEMA\n",
      "CREATE TABLE\n",
      "REVOKE\n",
      "GRANT\n",
      "GRANT\n",
      "GRANT\n",
      "GRANT\n",
      "GRANT\n",
      "Setting up float ledger in RDS local\n",
      "CREATE SCHEMA\n",
      "CREATE TABLE\n",
      "REVOKE\n",
      "GRANT\n",
      "GRANT\n",
      "GRANT\n",
      "GRANT\n",
      "GRANT\n",
      "GRANT\n",
      "Creating the DynamoDB table that holds the client floats\n",
      "{\n",
      "    \"StackId\": \"arn:aws:cloudformation:us-east-1:123456789:stack/client-float-table/9cbbf9fe-b2a4-429a-95af-efce442d4a43\"\n",
      "}\n",
      "Adding in item for core, ZAR wholesale float\n"
     ]
    }
   ],
   "source": [
    "!./setuprds.sh\n",
    "!./setupdynamo.sh"
   ]
  },
  {
   "cell_type": "code",
   "execution_count": null,
   "metadata": {},
   "outputs": [],
   "source": [
    "!./deploylambdas.sh"
   ]
  },
  {
   "cell_type": "code",
   "execution_count": 5,
   "metadata": {},
   "outputs": [],
   "source": [
    "dynamodb = boto3.client('dynamodb', endpoint_url = 'http://localhost:4569')\n",
    "local_lambda = boto3.client('lambda', endpoint_url = 'http://localhost:4574')"
   ]
  },
  {
   "cell_type": "code",
   "execution_count": 6,
   "metadata": {},
   "outputs": [],
   "source": [
    "def print_deployed_functions():\n",
    "    function_list = local_lambda.list_functions()\n",
    "    # print(function_list)\n",
    "    print('Function list: ', [function['FunctionName'] for function in function_list['Functions']])"
   ]
  },
  {
   "cell_type": "code",
   "execution_count": null,
   "metadata": {},
   "outputs": [],
   "source": [
    "def generate_account(client_id = 'zar_client_co', float_id = 'zar_cash_float'):\n",
    "    first_name = names.get_first_name()\n",
    "    family_name = names.get_last_name()\n",
    "    user_id = str(uuid.uuid4())\n",
    "    return { 'clientId': client_id, 'floatId': float_id, 'ownerUserId': user_id, 'userFirstName': first_name, 'userFamilyName': family_name}"
   ]
  },
  {
   "cell_type": "code",
   "execution_count": null,
   "metadata": {},
   "outputs": [],
   "source": [
    "def decode_lambda_result(lambda_result):\n",
    "    lambda_payload = lambda_result['Payload'].read()\n",
    "    lambda_pload_decoded = lambda_payload.decode('utf-8')\n",
    "    lambda_pload_object = json.loads(lambda_pload_decoded)\n",
    "    return lambda_pload_object"
   ]
  },
  {
   "cell_type": "code",
   "execution_count": null,
   "metadata": {},
   "outputs": [],
   "source": [
    "def create_number_accounts(number_accounts = 1, client_id = 'zar_client_co'):\n",
    "    account_dicts = [generate_account(client_id) for i in range(number_accounts)]\n",
    "    persisted_accounts = []\n",
    "    for account in account_dicts:\n",
    "        lambda_result = local_lambda.invoke(FunctionName='create-account', InvocationType='RequestResponse', \n",
    "                                           Payload=json.dumps(account))\n",
    "        lambda_payload = json.loads(decode_lambda_result(lambda_result)['body'])\n",
    "        persisted_account = copy.deepcopy(account)\n",
    "        persisted_account['accountId'] = lambda_payload['accountId']\n",
    "        persisted_account['persistedTime'] = lambda_payload['persistedTime']\n",
    "        print('Account with ID %s persisted at %s' % (persisted_account['accountId'], persisted_account['persistedTime']))\n",
    "        persisted_accounts.append(persisted_account)\n",
    "    \n",
    "    return persisted_accounts\n",
    "    "
   ]
  },
  {
   "cell_type": "code",
   "execution_count": null,
   "metadata": {},
   "outputs": [],
   "source": [
    "def generate_saving_transaction(account_id, ref_amount = 100, float_id = 'zar_cash_primary'):\n",
    "    current_time = datetime.datetime.now()\n",
    "    saved_amount = round(random.random() * ref_amount * 10 * 10) # random proportion of ref amount, \n",
    "    test_saving_dict = { \n",
    "        'accountId': account_id, \n",
    "        'initiationTime': str(current_time), \n",
    "        'settlementTime': str(current_time), \n",
    "        'savedAmount': saved_amount, \n",
    "        'savedCurrency': 'ZAR', \n",
    "        'savedUnit': 'HUNDREDTH_CENT',\n",
    "        'floatId': float_id\n",
    "    }\n",
    "    return test_saving_dict"
   ]
  },
  {
   "cell_type": "code",
   "execution_count": null,
   "metadata": {},
   "outputs": [],
   "source": [
    "def seed_savings_for_accounts(accounts, tx_per_account = 1, base_amount = 100):\n",
    "    transactions = []\n",
    "    for i in range(tx_per_account):\n",
    "        transactions.extend([generate_saving_transaction(account['accountId'], base_amount) for account in accounts])\n",
    "#     print('transactions: ', transactions)\n",
    "    tx_records = []\n",
    "    for tx in transactions:\n",
    "        lambda_result = local_lambda.invoke(FunctionName='add-savings', InvocationType='RequestResponse', \n",
    "                                           Payload=json.dumps(tx, default=str))\n",
    "        lambda_payload = json.loads(decode_lambda_result(lambda_result)['body'])\n",
    "        persisted_tx = copy.deepcopy(tx)\n",
    "        persisted_tx['transactionId'] = lambda_payload['transactionDetails'][0][0]['transaction_id']\n",
    "        persisted_tx['currentBalance'] = lambda_payload['newBalance']\n",
    "        # persisted_account['persistedTime'] = lambda_payload['persistedTime']\n",
    "        print('Tx for account %s persisted with new balance %s' % (tx['accountId'], persisted_tx['currentBalance']))\n",
    "        tx_records.append(persisted_tx)\n",
    "    \n",
    "    return tx_records"
   ]
  },
  {
   "cell_type": "code",
   "execution_count": null,
   "metadata": {},
   "outputs": [],
   "source": [
    "print_deployed_functions()"
   ]
  },
  {
   "cell_type": "code",
   "execution_count": null,
   "metadata": {},
   "outputs": [],
   "source": [
    "accounts = create_number_accounts(number_accounts = 1)"
   ]
  },
  {
   "cell_type": "code",
   "execution_count": null,
   "metadata": {},
   "outputs": [],
   "source": [
    "account_info = [{ 'Name': account['userFirstName'] + ' ' + account['userFamilyName'], \n",
    "                'AccountId': account['accountId'] } for account in accounts[:100]]\n",
    "print(tabulate.tabulate(account_info, headers = 'keys'))"
   ]
  },
  {
   "cell_type": "code",
   "execution_count": null,
   "metadata": {},
   "outputs": [],
   "source": [
    "single_tx = generate_saving_transaction(accounts[0]['accountId'], 100)\n",
    "lambda_result = local_lambda.invoke(FunctionName='add-savings', Payload=json.dumps(single_tx, default=str))\n",
    "result_decoded = decode_lambda_result(lambda_result)\n",
    "print('Lambda result', result_decoded)"
   ]
  },
  {
   "cell_type": "code",
   "execution_count": null,
   "metadata": {},
   "outputs": [],
   "source": [
    "account_balances = seed_savings_for_accounts(accounts[:100], tx_per_account = 3, base_amount = 100 * 100 * 100)"
   ]
  },
  {
   "cell_type": "code",
   "execution_count": null,
   "metadata": {},
   "outputs": [],
   "source": [
    "def merge_dataframes(accounts, account_balances):\n",
    "    df = pd.DataFrame(account_balances)\n",
    "    df = df[df['currentBalance'] == df.groupby('accountId')['currentBalance'].transform('max')]\n",
    "    df = df[['accountId', 'currentBalance']]\n",
    "    df['currentBalance'] = pd.to_numeric(df['currentBalance'])\n",
    "    df['balanceRand'] = df['currentBalance']/10000\n",
    "    account_name_df = pd.DataFrame(accounts)[['accountId', 'floatId', 'userFamilyName', 'userFirstName']]\n",
    "    account_name_df['Holder Name'] = account_name_df['userFirstName'] + ' ' + account_name_df['userFamilyName']\n",
    "    account_name_df.set_index('accountId')\n",
    "    df.set_index('accountId')\n",
    "    merged_df = pd.merge(account_name_df, df)[['accountId', 'floatId', 'Holder Name', 'balanceRand']]\n",
    "    return merged_df"
   ]
  },
  {
   "cell_type": "code",
   "execution_count": null,
   "metadata": {},
   "outputs": [],
   "source": [
    "merged_df = merge_dataframes(accounts, account_balances)"
   ]
  },
  {
   "cell_type": "code",
   "execution_count": null,
   "metadata": {},
   "outputs": [],
   "source": [
    "merged_df"
   ]
  },
  {
   "cell_type": "code",
   "execution_count": 7,
   "metadata": {},
   "outputs": [
    {
     "ename": "ClientError",
     "evalue": "An error occurred (InternalFailure) when calling the Invoke operation (reached max retries: 4): Error executing Lambda function arn:aws:lambda:eu-west-1:000000000000:function:float-api-local-accrue: Lambda process returned error status code: 1. Output:\n\u001b[32mSTART RequestId: 876cddd5-82f4-10c9-681d-70baf392976a Version: $LATEST\u001b[0m\n2019-05-31T15:26:20.235Z pluto:dynamo:main Set endpoint for DynamoDB:  http://172.17.0.1:4569\n2019-05-31T15:26:20.278Z pluto:float:handler Initiated execution, attempting to reach DynamoDB ...\n2019-05-31T15:26:20.280Z pluto:dynamo:main Transformed key:  { client_id: 'zar_client_co', float_id: 'zar_cash_float' }\n2019-05-31T15:26:20.281Z pluto:dynamo:main Passing parameters to docClient:  { TableName: 'ClientFloatTable',\n  Key: { client_id: 'zar_client_co', float_id: 'zar_cash_float' },\n  ProjectionExpression: 'bonus_pool_share_of_accrual, bonus_pool_system_wide_id, client_share_of_accrual, client_share_of_system_wide_id' }\n2019-05-31T15:26:20.281Z pluto:dynamo:main Table name for DynamoDB ? : ClientFloatTable\n2019-05-31T15:26:20.335Z pluto:dynamo:main Retrieved result:  { Item: \n   { client_share_of_accrual: 0.1,\n     bonus_pool_system_wide_id: 'zar_cash_bonus_pool',\n     bonus_pool_share_of_accrual: 0.1 } }\n2019-05-31T15:26:20.336Z pluto:float:dynamo Fetched config var row from dynamo:  { clientShareOfAccrual: 0.1,\n  bonusPoolSystemWideId: 'zar_cash_bonus_pool',\n  bonusPoolShareOfAccrual: 0.1 }\n2019-05-31T15:26:20.337Z pluto:float:handler Fetched float config:  { bonusPoolShare: 0.1,\n  bonusPoolTracker: 'zar_cash_bonus_pool',\n  clientCoShare: 0.1,\n  clientCoShareTracker: undefined }\n2019-05-31T15:26:20.337Z pluto:float:handler Calculating an apportionment, total pool : 1000000, and share: 0.1\n2019-05-31T15:26:20.338Z pluto:float:handler Result of calculation: 100000\n2019-05-31T15:26:20.338Z pluto:float:handler Calculating an apportionment, total pool : 1000000, and share: 0.1\n2019-05-31T15:26:20.338Z pluto:float:handler Result of calculation: 100000\n2019-05-31T15:26:20.338Z pluto:float:handler Company allocation:  { currency: 'ZAR',\n  unit: 'HUNDREDTH_CENT',\n  relatedEntityType: 'ACCRUAL_EVENT',\n  relatedEntityId: 'tx-id-backing',\n  label: 'CLIENT',\n  amount: 100000,\n  allocatedToType: 'COMPANY_SHARE',\n  allocatedToId: undefined }\n2019-05-31T15:26:20.339Z pluto:rds-common:main Template:  ${transaction_id}, ${client_id}, ${float_id}, ${t_type}, ${currency}, ${unit}, ${amount}, ${allocated_to_type}, ${allocated_to_id}, ${related_entity_type}, ${related_entity_id}\n2019-05-31T15:26:20.340Z pluto:rds-common:main Split items:  [ '${transaction_id}',\n  '${client_id}',\n  '${float_id}',\n  '${t_type}',\n  '${currency}',\n  '${unit}',\n  '${amount}',\n  '${allocated_to_type}',\n  '${allocated_to_id}',\n  '${related_entity_type}',\n  '${related_entity_id}' ]\n2019-05-31T15:26:20.340Z pluto:rds-common:main Map:  [ { type: 'PARAM', value: 'transaction_id' },\n  { type: 'PARAM', value: 'client_id' },\n  { type: 'PARAM', value: 'float_id' },\n  { type: 'PARAM', value: 't_type' },\n  { type: 'PARAM', value: 'currency' },\n  { type: 'PARAM', value: 'unit' },\n  { type: 'PARAM', value: 'amount' },\n  { type: 'PARAM', value: 'allocated_to_type' },\n  { type: 'PARAM', value: 'allocated_to_id' },\n  { type: 'PARAM', value: 'related_entity_type' },\n  { type: 'PARAM', value: 'related_entity_id' } ]\n2019-05-31T15:26:20.340Z pluto:rds-common:main For template ${transaction_id}, ${client_id}, ${float_id}, ${t_type}, ${currency}, ${unit}, ${amount}, ${allocated_to_type}, ${allocated_to_id}, ${related_entity_type}, ${related_entity_id}, and objects [{\"transaction_id\":\"83a7abe5-aa80-4a9a-a71d-a56c2628e73f\",\"client_id\":\"zar_client_co\",\"float_id\":\"zar_cash_float\",\"currency\":\"ZAR\",\"unit\":\"HUNDREDTH_CENT\",\"amount\":1000000,\"allocated_to_type\":\"FLOAT_ITSELF\",\"allocated_to_id\":\"zar_cash_float\",\"related_entity_id\":\"tx-id-backing\"}], have nested array [[\"83a7abe5-aa80-4a9a-a71d-a56c2628e73f\",\"zar_client_co\",\"zar_cash_float\",null,\"ZAR\",\"HUNDREDTH_CENT\",1000000,\"FLOAT_ITSELF\",\"zar_cash_float\",null,\"tx-id-backing\"]]\n2019-05-31T15:26:20.340Z pluto:rds-common:main SINGLE: Nested array:  [ [ '83a7abe5-aa80-4a9a-a71d-a56c2628e73f',\n    'zar_client_co',\n    'zar_cash_float',\n    undefined,\n    'ZAR',\n    'HUNDREDTH_CENT',\n    1000000,\n    'FLOAT_ITSELF',\n    'zar_cash_float',\n    undefined,\n    'tx-id-backing' ] ]\n2019-05-31T15:26:20.341Z pluto:rds-common:main SINGLE: Formatted query:  insert into float_data.float_transaction_ledger (transaction_id, client_id, float_id, t_type, currency, unit, amount, allocated_to_type, allocated_to_id, related_entity_type, related_entity_id) values ('83a7abe5-aa80-4a9a-a71d-a56c2628e73f', 'zar_client_co', 'zar_cash_float', NULL, 'ZAR', 'HUNDREDTH_CENT', '1000000', 'FLOAT_ITSELF', 'zar_cash_float', NULL, 'tx-id-backing') returning transaction_id\n2019-05-31T15:26:20.351Z pluto:rds-common:main Error running insertion:  { error: null value in column \"t_type\" violates not-null constraint\n    at Connection.parseE (/var/task/node_modules/rds-common/node_modules/pg/lib/connection.js:602:11)\n    at Connection.parseMessage (/var/task/node_modules/rds-common/node_modules/pg/lib/connection.js:399:19)\n    at Socket.<anonymous> (/var/task/node_modules/rds-common/node_modules/pg/lib/connection.js:121:22)\n    at emitOne (events.js:116:13)\n    at Socket.emit (events.js:211:7)\n    at addChunk (_stream_readable.js:263:12)\n    at readableAddChunk (_stream_readable.js:250:11)\n    at Socket.Readable.push (_stream_readable.js:208:10)\n    at TCP.onread (net.js:607:20)\n  name: 'error',\n  length: 378,\n  severity: 'ERROR',\n  code: '23502',\n  detail: 'Failing row contains (83a7abe5-aa80-4a9a-a71d-a56c2628e73f, 2019-05-31 15:26:20.349842+00, zar_client_co, zar_cash_float, null, ZAR, HUNDREDTH_CENT, 1000000, FLOAT_ITSELF, zar_cash_float, null, tx-id-backing).',\n  hint: undefined,\n  position: undefined,\n  internalPosition: undefined,\n  internalQuery: undefined,\n  where: undefined,\n  schema: 'float_data',\n  table: 'float_transaction_ledger',\n  column: 't_type',\n  dataType: undefined,\n  constraint: undefined,\n  file: 'execMain.c',\n  line: '2042',\n  routine: 'ExecConstraints' }\n\u001b[34m2019-05-31T15:26:20.354Z\t876cddd5-82f4-10c9-681d-70baf392976a\t\u001b[0m{\"errorMessage\":\"Query 'insert into float_data.float_transaction_ledger (transaction_id, client_id, float_id, t_type, currency, unit, amount, allocated_to_type, allocated_to_id, related_entity_type, related_entity_id) values %L returning transaction_id, with values undefined failed on commit\",\"errorType\":\"CommitError\",\"stackTrace\":[\"RdsConnection.insertRecords (/var/task/node_modules/rds-common/index.js:112:19)\",\"<anonymous>\",\"process._tickDomainCallback (internal/process/next_tick.js:228:7)\"]}\n\u001b[32mEND RequestId: 876cddd5-82f4-10c9-681d-70baf392976a\u001b[0m\n\u001b[32mREPORT RequestId: 876cddd5-82f4-10c9-681d-70baf392976a\tDuration: 325.86 ms\tBilled Duration: 400 ms\tMemory Size: 1536 MB\tMax Memory Used: 49 MB\t\u001b[0m Traceback (most recent call last):\n  File \"/opt/code/localstack/localstack/services/awslambda/lambda_api.py\", line 313, in run_lambda\n    event, context=context, version=version, asynchronous=asynchronous)\n  File \"/opt/code/localstack/localstack/services/awslambda/lambda_executors.py\", line 58, in execute\n    result, log_output = self._execute(func_arn, func_details, event, context, version, asynchronous)\n  File \"/opt/code/localstack/localstack/services/awslambda/lambda_executors.py\", line 200, in _execute\n    result, log_output = self.run_lambda_executor(cmd, environment, asynchronous)\n  File \"/opt/code/localstack/localstack/services/awslambda/lambda_executors.py\", line 133, in run_lambda_executor\n    (return_code, log_output))\nException: Lambda process returned error status code: 1. Output:\n\u001b[32mSTART RequestId: 876cddd5-82f4-10c9-681d-70baf392976a Version: $LATEST\u001b[0m\n2019-05-31T15:26:20.235Z pluto:dynamo:main Set endpoint for DynamoDB:  http://172.17.0.1:4569\n2019-05-31T15:26:20.278Z pluto:float:handler Initiated execution, attempting to reach DynamoDB ...\n2019-05-31T15:26:20.280Z pluto:dynamo:main Transformed key:  { client_id: 'zar_client_co', float_id: 'zar_cash_float' }\n2019-05-31T15:26:20.281Z pluto:dynamo:main Passing parameters to docClient:  { TableName: 'ClientFloatTable',\n  Key: { client_id: 'zar_client_co', float_id: 'zar_cash_float' },\n  ProjectionExpression: 'bonus_pool_share_of_accrual, bonus_pool_system_wide_id, client_share_of_accrual, client_share_of_system_wide_id' }\n2019-05-31T15:26:20.281Z pluto:dynamo:main Table name for DynamoDB ? : ClientFloatTable\n2019-05-31T15:26:20.335Z pluto:dynamo:main Retrieved result:  { Item: \n   { client_share_of_accrual: 0.1,\n     bonus_pool_system_wide_id: 'zar_cash_bonus_pool',\n     bonus_pool_share_of_accrual: 0.1 } }\n2019-05-31T15:26:20.336Z pluto:float:dynamo Fetched config var row from dynamo:  { clientShareOfAccrual: 0.1,\n  bonusPoolSystemWideId: 'zar_cash_bonus_pool',\n  bonusPoolShareOfAccrual: 0.1 }\n2019-05-31T15:26:20.337Z pluto:float:handler Fetched float config:  { bonusPoolShare: 0.1,\n  bonusPoolTracker: 'zar_cash_bonus_pool',\n  clientCoShare: 0.1,\n  clientCoShareTracker: undefined }\n2019-05-31T15:26:20.337Z pluto:float:handler Calculating an apportionment, total pool : 1000000, and share: 0.1\n2019-05-31T15:26:20.338Z pluto:float:handler Result of calculation: 100000\n2019-05-31T15:26:20.338Z pluto:float:handler Calculating an apportionment, total pool : 1000000, and share: 0.1\n2019-05-31T15:26:20.338Z pluto:float:handler Result of calculation: 100000\n2019-05-31T15:26:20.338Z pluto:float:handler Company allocation:  { currency: 'ZAR',\n  unit: 'HUNDREDTH_CENT',\n  relatedEntityType: 'ACCRUAL_EVENT',\n  relatedEntityId: 'tx-id-backing',\n  label: 'CLIENT',\n  amount: 100000,\n  allocatedToType: 'COMPANY_SHARE',\n  allocatedToId: undefined }\n2019-05-31T15:26:20.339Z pluto:rds-common:main Template:  ${transaction_id}, ${client_id}, ${float_id}, ${t_type}, ${currency}, ${unit}, ${amount}, ${allocated_to_type}, ${allocated_to_id}, ${related_entity_type}, ${related_entity_id}\n2019-05-31T15:26:20.340Z pluto:rds-common:main Split items:  [ '${transaction_id}',\n  '${client_id}',\n  '${float_id}',\n  '${t_type}',\n  '${currency}',\n  '${unit}',\n  '${amount}',\n  '${allocated_to_type}',\n  '${allocated_to_id}',\n  '${related_entity_type}',\n  '${related_entity_id}' ]\n2019-05-31T15:26:20.340Z pluto:rds-common:main Map:  [ { type: 'PARAM', value: 'transaction_id' },\n  { type: 'PARAM', value: 'client_id' },\n  { type: 'PARAM', value: 'float_id' },\n  { type: 'PARAM', value: 't_type' },\n  { type: 'PARAM', value: 'currency' },\n  { type: 'PARAM', value: 'unit' },\n  { type: 'PARAM', value: 'amount' },\n  { type: 'PARAM', value: 'allocated_to_type' },\n  { type: 'PARAM', value: 'allocated_to_id' },\n  { type: 'PARAM', value: 'related_entity_type' },\n  { type: 'PARAM', value: 'related_entity_id' } ]\n2019-05-31T15:26:20.340Z pluto:rds-common:main For template ${transaction_id}, ${client_id}, ${float_id}, ${t_type}, ${currency}, ${unit}, ${amount}, ${allocated_to_type}, ${allocated_to_id}, ${related_entity_type}, ${related_entity_id}, and objects [{\"transaction_id\":\"83a7abe5-aa80-4a9a-a71d-a56c2628e73f\",\"client_id\":\"zar_client_co\",\"float_id\":\"zar_cash_float\",\"currency\":\"ZAR\",\"unit\":\"HUNDREDTH_CENT\",\"amount\":1000000,\"allocated_to_type\":\"FLOAT_ITSELF\",\"allocated_to_id\":\"zar_cash_float\",\"related_entity_id\":\"tx-id-backing\"}], have nested array [[\"83a7abe5-aa80-4a9a-a71d-a56c2628e73f\",\"zar_client_co\",\"zar_cash_float\",null,\"ZAR\",\"HUNDREDTH_CENT\",1000000,\"FLOAT_ITSELF\",\"zar_cash_float\",null,\"tx-id-backing\"]]\n2019-05-31T15:26:20.340Z pluto:rds-common:main SINGLE: Nested array:  [ [ '83a7abe5-aa80-4a9a-a71d-a56c2628e73f',\n    'zar_client_co',\n    'zar_cash_float',\n    undefined,\n    'ZAR',\n    'HUNDREDTH_CENT',\n    1000000,\n    'FLOAT_ITSELF',\n    'zar_cash_float',\n    undefined,\n    'tx-id-backing' ] ]\n2019-05-31T15:26:20.341Z pluto:rds-common:main SINGLE: Formatted query:  insert into float_data.float_transaction_ledger (transaction_id, client_id, float_id, t_type, currency, unit, amount, allocated_to_type, allocated_to_id, related_entity_type, related_entity_id) values ('83a7abe5-aa80-4a9a-a71d-a56c2628e73f', 'zar_client_co', 'zar_cash_float', NULL, 'ZAR', 'HUNDREDTH_CENT', '1000000', 'FLOAT_ITSELF', 'zar_cash_float', NULL, 'tx-id-backing') returning transaction_id\n2019-05-31T15:26:20.351Z pluto:rds-common:main Error running insertion:  { error: null value in column \"t_type\" violates not-null constraint\n    at Connection.parseE (/var/task/node_modules/rds-common/node_modules/pg/lib/connection.js:602:11)\n    at Connection.parseMessage (/var/task/node_modules/rds-common/node_modules/pg/lib/connection.js:399:19)\n    at Socket.<anonymous> (/var/task/node_modules/rds-common/node_modules/pg/lib/connection.js:121:22)\n    at emitOne (events.js:116:13)\n    at Socket.emit (events.js:211:7)\n    at addChunk (_stream_readable.js:263:12)\n    at readableAddChunk (_stream_readable.js:250:11)\n    at Socket.Readable.push (_stream_readable.js:208:10)\n    at TCP.onread (net.js:607:20)\n  name: 'error',\n  length: 378,\n  severity: 'ERROR',\n  code: '23502',\n  detail: 'Failing row contains (83a7abe5-aa80-4a9a-a71d-a56c2628e73f, 2019-05-31 15:26:20.349842+00, zar_client_co, zar_cash_float, null, ZAR, HUNDREDTH_CENT, 1000000, FLOAT_ITSELF, zar_cash_float, null, tx-id-backing).',\n  hint: undefined,\n  position: undefined,\n  internalPosition: undefined,\n  internalQuery: undefined,\n  where: undefined,\n  schema: 'float_data',\n  table: 'float_transaction_ledger',\n  column: 't_type',\n  dataType: undefined,\n  constraint: undefined,\n  file: 'execMain.c',\n  line: '2042',\n  routine: 'ExecConstraints' }\n\u001b[34m2019-05-31T15:26:20.354Z\t876cddd5-82f4-10c9-681d-70baf392976a\t\u001b[0m{\"errorMessage\":\"Query 'insert into float_data.float_transaction_ledger (transaction_id, client_id, float_id, t_type, currency, unit, amount, allocated_to_type, allocated_to_id, related_entity_type, related_entity_id) values %L returning transaction_id, with values undefined failed on commit\",\"errorType\":\"CommitError\",\"stackTrace\":[\"RdsConnection.insertRecords (/var/task/node_modules/rds-common/index.js:112:19)\",\"<anonymous>\",\"process._tickDomainCallback (internal/process/next_tick.js:228:7)\"]}\n\u001b[32mEND RequestId: 876cddd5-82f4-10c9-681d-70baf392976a\u001b[0m\n\u001b[32mREPORT RequestId: 876cddd5-82f4-10c9-681d-70baf392976a\tDuration: 325.86 ms\tBilled Duration: 400 ms\tMemory Size: 1536 MB\tMax Memory Used: 49 MB\t\u001b[0m\n",
     "output_type": "error",
     "traceback": [
      "\u001b[0;31m---------------------------------------------------------------------------\u001b[0m",
      "\u001b[0;31mClientError\u001b[0m                               Traceback (most recent call last)",
      "\u001b[0;32m<ipython-input-7-876d6513e09b>\u001b[0m in \u001b[0;36m<module>\u001b[0;34m\u001b[0m\n\u001b[1;32m      8\u001b[0m }\n\u001b[1;32m      9\u001b[0m local_lambda.invoke(FunctionName='float-api-local-accrue', InvocationType='RequestResponse', \n\u001b[0;32m---> 10\u001b[0;31m                                            Payload=json.dumps(accrualDict, default=str))\n\u001b[0m",
      "\u001b[0;32m~/anaconda3/envs/pluto-local-dev/lib/python3.6/site-packages/botocore/client.py\u001b[0m in \u001b[0;36m_api_call\u001b[0;34m(self, *args, **kwargs)\u001b[0m\n\u001b[1;32m    355\u001b[0m                     \"%s() only accepts keyword arguments.\" % py_operation_name)\n\u001b[1;32m    356\u001b[0m             \u001b[0;31m# The \"self\" in this scope is referring to the BaseClient.\u001b[0m\u001b[0;34m\u001b[0m\u001b[0;34m\u001b[0m\u001b[0;34m\u001b[0m\u001b[0m\n\u001b[0;32m--> 357\u001b[0;31m             \u001b[0;32mreturn\u001b[0m \u001b[0mself\u001b[0m\u001b[0;34m.\u001b[0m\u001b[0m_make_api_call\u001b[0m\u001b[0;34m(\u001b[0m\u001b[0moperation_name\u001b[0m\u001b[0;34m,\u001b[0m \u001b[0mkwargs\u001b[0m\u001b[0;34m)\u001b[0m\u001b[0;34m\u001b[0m\u001b[0;34m\u001b[0m\u001b[0m\n\u001b[0m\u001b[1;32m    358\u001b[0m \u001b[0;34m\u001b[0m\u001b[0m\n\u001b[1;32m    359\u001b[0m         \u001b[0m_api_call\u001b[0m\u001b[0;34m.\u001b[0m\u001b[0m__name__\u001b[0m \u001b[0;34m=\u001b[0m \u001b[0mstr\u001b[0m\u001b[0;34m(\u001b[0m\u001b[0mpy_operation_name\u001b[0m\u001b[0;34m)\u001b[0m\u001b[0;34m\u001b[0m\u001b[0;34m\u001b[0m\u001b[0m\n",
      "\u001b[0;32m~/anaconda3/envs/pluto-local-dev/lib/python3.6/site-packages/botocore/client.py\u001b[0m in \u001b[0;36m_make_api_call\u001b[0;34m(self, operation_name, api_params)\u001b[0m\n\u001b[1;32m    659\u001b[0m             \u001b[0merror_code\u001b[0m \u001b[0;34m=\u001b[0m \u001b[0mparsed_response\u001b[0m\u001b[0;34m.\u001b[0m\u001b[0mget\u001b[0m\u001b[0;34m(\u001b[0m\u001b[0;34m\"Error\"\u001b[0m\u001b[0;34m,\u001b[0m \u001b[0;34m{\u001b[0m\u001b[0;34m}\u001b[0m\u001b[0;34m)\u001b[0m\u001b[0;34m.\u001b[0m\u001b[0mget\u001b[0m\u001b[0;34m(\u001b[0m\u001b[0;34m\"Code\"\u001b[0m\u001b[0;34m)\u001b[0m\u001b[0;34m\u001b[0m\u001b[0;34m\u001b[0m\u001b[0m\n\u001b[1;32m    660\u001b[0m             \u001b[0merror_class\u001b[0m \u001b[0;34m=\u001b[0m \u001b[0mself\u001b[0m\u001b[0;34m.\u001b[0m\u001b[0mexceptions\u001b[0m\u001b[0;34m.\u001b[0m\u001b[0mfrom_code\u001b[0m\u001b[0;34m(\u001b[0m\u001b[0merror_code\u001b[0m\u001b[0;34m)\u001b[0m\u001b[0;34m\u001b[0m\u001b[0;34m\u001b[0m\u001b[0m\n\u001b[0;32m--> 661\u001b[0;31m             \u001b[0;32mraise\u001b[0m \u001b[0merror_class\u001b[0m\u001b[0;34m(\u001b[0m\u001b[0mparsed_response\u001b[0m\u001b[0;34m,\u001b[0m \u001b[0moperation_name\u001b[0m\u001b[0;34m)\u001b[0m\u001b[0;34m\u001b[0m\u001b[0;34m\u001b[0m\u001b[0m\n\u001b[0m\u001b[1;32m    662\u001b[0m         \u001b[0;32melse\u001b[0m\u001b[0;34m:\u001b[0m\u001b[0;34m\u001b[0m\u001b[0;34m\u001b[0m\u001b[0m\n\u001b[1;32m    663\u001b[0m             \u001b[0;32mreturn\u001b[0m \u001b[0mparsed_response\u001b[0m\u001b[0;34m\u001b[0m\u001b[0;34m\u001b[0m\u001b[0m\n",
      "\u001b[0;31mClientError\u001b[0m: An error occurred (InternalFailure) when calling the Invoke operation (reached max retries: 4): Error executing Lambda function arn:aws:lambda:eu-west-1:000000000000:function:float-api-local-accrue: Lambda process returned error status code: 1. Output:\n\u001b[32mSTART RequestId: 876cddd5-82f4-10c9-681d-70baf392976a Version: $LATEST\u001b[0m\n2019-05-31T15:26:20.235Z pluto:dynamo:main Set endpoint for DynamoDB:  http://172.17.0.1:4569\n2019-05-31T15:26:20.278Z pluto:float:handler Initiated execution, attempting to reach DynamoDB ...\n2019-05-31T15:26:20.280Z pluto:dynamo:main Transformed key:  { client_id: 'zar_client_co', float_id: 'zar_cash_float' }\n2019-05-31T15:26:20.281Z pluto:dynamo:main Passing parameters to docClient:  { TableName: 'ClientFloatTable',\n  Key: { client_id: 'zar_client_co', float_id: 'zar_cash_float' },\n  ProjectionExpression: 'bonus_pool_share_of_accrual, bonus_pool_system_wide_id, client_share_of_accrual, client_share_of_system_wide_id' }\n2019-05-31T15:26:20.281Z pluto:dynamo:main Table name for DynamoDB ? : ClientFloatTable\n2019-05-31T15:26:20.335Z pluto:dynamo:main Retrieved result:  { Item: \n   { client_share_of_accrual: 0.1,\n     bonus_pool_system_wide_id: 'zar_cash_bonus_pool',\n     bonus_pool_share_of_accrual: 0.1 } }\n2019-05-31T15:26:20.336Z pluto:float:dynamo Fetched config var row from dynamo:  { clientShareOfAccrual: 0.1,\n  bonusPoolSystemWideId: 'zar_cash_bonus_pool',\n  bonusPoolShareOfAccrual: 0.1 }\n2019-05-31T15:26:20.337Z pluto:float:handler Fetched float config:  { bonusPoolShare: 0.1,\n  bonusPoolTracker: 'zar_cash_bonus_pool',\n  clientCoShare: 0.1,\n  clientCoShareTracker: undefined }\n2019-05-31T15:26:20.337Z pluto:float:handler Calculating an apportionment, total pool : 1000000, and share: 0.1\n2019-05-31T15:26:20.338Z pluto:float:handler Result of calculation: 100000\n2019-05-31T15:26:20.338Z pluto:float:handler Calculating an apportionment, total pool : 1000000, and share: 0.1\n2019-05-31T15:26:20.338Z pluto:float:handler Result of calculation: 100000\n2019-05-31T15:26:20.338Z pluto:float:handler Company allocation:  { currency: 'ZAR',\n  unit: 'HUNDREDTH_CENT',\n  relatedEntityType: 'ACCRUAL_EVENT',\n  relatedEntityId: 'tx-id-backing',\n  label: 'CLIENT',\n  amount: 100000,\n  allocatedToType: 'COMPANY_SHARE',\n  allocatedToId: undefined }\n2019-05-31T15:26:20.339Z pluto:rds-common:main Template:  ${transaction_id}, ${client_id}, ${float_id}, ${t_type}, ${currency}, ${unit}, ${amount}, ${allocated_to_type}, ${allocated_to_id}, ${related_entity_type}, ${related_entity_id}\n2019-05-31T15:26:20.340Z pluto:rds-common:main Split items:  [ '${transaction_id}',\n  '${client_id}',\n  '${float_id}',\n  '${t_type}',\n  '${currency}',\n  '${unit}',\n  '${amount}',\n  '${allocated_to_type}',\n  '${allocated_to_id}',\n  '${related_entity_type}',\n  '${related_entity_id}' ]\n2019-05-31T15:26:20.340Z pluto:rds-common:main Map:  [ { type: 'PARAM', value: 'transaction_id' },\n  { type: 'PARAM', value: 'client_id' },\n  { type: 'PARAM', value: 'float_id' },\n  { type: 'PARAM', value: 't_type' },\n  { type: 'PARAM', value: 'currency' },\n  { type: 'PARAM', value: 'unit' },\n  { type: 'PARAM', value: 'amount' },\n  { type: 'PARAM', value: 'allocated_to_type' },\n  { type: 'PARAM', value: 'allocated_to_id' },\n  { type: 'PARAM', value: 'related_entity_type' },\n  { type: 'PARAM', value: 'related_entity_id' } ]\n2019-05-31T15:26:20.340Z pluto:rds-common:main For template ${transaction_id}, ${client_id}, ${float_id}, ${t_type}, ${currency}, ${unit}, ${amount}, ${allocated_to_type}, ${allocated_to_id}, ${related_entity_type}, ${related_entity_id}, and objects [{\"transaction_id\":\"83a7abe5-aa80-4a9a-a71d-a56c2628e73f\",\"client_id\":\"zar_client_co\",\"float_id\":\"zar_cash_float\",\"currency\":\"ZAR\",\"unit\":\"HUNDREDTH_CENT\",\"amount\":1000000,\"allocated_to_type\":\"FLOAT_ITSELF\",\"allocated_to_id\":\"zar_cash_float\",\"related_entity_id\":\"tx-id-backing\"}], have nested array [[\"83a7abe5-aa80-4a9a-a71d-a56c2628e73f\",\"zar_client_co\",\"zar_cash_float\",null,\"ZAR\",\"HUNDREDTH_CENT\",1000000,\"FLOAT_ITSELF\",\"zar_cash_float\",null,\"tx-id-backing\"]]\n2019-05-31T15:26:20.340Z pluto:rds-common:main SINGLE: Nested array:  [ [ '83a7abe5-aa80-4a9a-a71d-a56c2628e73f',\n    'zar_client_co',\n    'zar_cash_float',\n    undefined,\n    'ZAR',\n    'HUNDREDTH_CENT',\n    1000000,\n    'FLOAT_ITSELF',\n    'zar_cash_float',\n    undefined,\n    'tx-id-backing' ] ]\n2019-05-31T15:26:20.341Z pluto:rds-common:main SINGLE: Formatted query:  insert into float_data.float_transaction_ledger (transaction_id, client_id, float_id, t_type, currency, unit, amount, allocated_to_type, allocated_to_id, related_entity_type, related_entity_id) values ('83a7abe5-aa80-4a9a-a71d-a56c2628e73f', 'zar_client_co', 'zar_cash_float', NULL, 'ZAR', 'HUNDREDTH_CENT', '1000000', 'FLOAT_ITSELF', 'zar_cash_float', NULL, 'tx-id-backing') returning transaction_id\n2019-05-31T15:26:20.351Z pluto:rds-common:main Error running insertion:  { error: null value in column \"t_type\" violates not-null constraint\n    at Connection.parseE (/var/task/node_modules/rds-common/node_modules/pg/lib/connection.js:602:11)\n    at Connection.parseMessage (/var/task/node_modules/rds-common/node_modules/pg/lib/connection.js:399:19)\n    at Socket.<anonymous> (/var/task/node_modules/rds-common/node_modules/pg/lib/connection.js:121:22)\n    at emitOne (events.js:116:13)\n    at Socket.emit (events.js:211:7)\n    at addChunk (_stream_readable.js:263:12)\n    at readableAddChunk (_stream_readable.js:250:11)\n    at Socket.Readable.push (_stream_readable.js:208:10)\n    at TCP.onread (net.js:607:20)\n  name: 'error',\n  length: 378,\n  severity: 'ERROR',\n  code: '23502',\n  detail: 'Failing row contains (83a7abe5-aa80-4a9a-a71d-a56c2628e73f, 2019-05-31 15:26:20.349842+00, zar_client_co, zar_cash_float, null, ZAR, HUNDREDTH_CENT, 1000000, FLOAT_ITSELF, zar_cash_float, null, tx-id-backing).',\n  hint: undefined,\n  position: undefined,\n  internalPosition: undefined,\n  internalQuery: undefined,\n  where: undefined,\n  schema: 'float_data',\n  table: 'float_transaction_ledger',\n  column: 't_type',\n  dataType: undefined,\n  constraint: undefined,\n  file: 'execMain.c',\n  line: '2042',\n  routine: 'ExecConstraints' }\n\u001b[34m2019-05-31T15:26:20.354Z\t876cddd5-82f4-10c9-681d-70baf392976a\t\u001b[0m{\"errorMessage\":\"Query 'insert into float_data.float_transaction_ledger (transaction_id, client_id, float_id, t_type, currency, unit, amount, allocated_to_type, allocated_to_id, related_entity_type, related_entity_id) values %L returning transaction_id, with values undefined failed on commit\",\"errorType\":\"CommitError\",\"stackTrace\":[\"RdsConnection.insertRecords (/var/task/node_modules/rds-common/index.js:112:19)\",\"<anonymous>\",\"process._tickDomainCallback (internal/process/next_tick.js:228:7)\"]}\n\u001b[32mEND RequestId: 876cddd5-82f4-10c9-681d-70baf392976a\u001b[0m\n\u001b[32mREPORT RequestId: 876cddd5-82f4-10c9-681d-70baf392976a\tDuration: 325.86 ms\tBilled Duration: 400 ms\tMemory Size: 1536 MB\tMax Memory Used: 49 MB\t\u001b[0m Traceback (most recent call last):\n  File \"/opt/code/localstack/localstack/services/awslambda/lambda_api.py\", line 313, in run_lambda\n    event, context=context, version=version, asynchronous=asynchronous)\n  File \"/opt/code/localstack/localstack/services/awslambda/lambda_executors.py\", line 58, in execute\n    result, log_output = self._execute(func_arn, func_details, event, context, version, asynchronous)\n  File \"/opt/code/localstack/localstack/services/awslambda/lambda_executors.py\", line 200, in _execute\n    result, log_output = self.run_lambda_executor(cmd, environment, asynchronous)\n  File \"/opt/code/localstack/localstack/services/awslambda/lambda_executors.py\", line 133, in run_lambda_executor\n    (return_code, log_output))\nException: Lambda process returned error status code: 1. Output:\n\u001b[32mSTART RequestId: 876cddd5-82f4-10c9-681d-70baf392976a Version: $LATEST\u001b[0m\n2019-05-31T15:26:20.235Z pluto:dynamo:main Set endpoint for DynamoDB:  http://172.17.0.1:4569\n2019-05-31T15:26:20.278Z pluto:float:handler Initiated execution, attempting to reach DynamoDB ...\n2019-05-31T15:26:20.280Z pluto:dynamo:main Transformed key:  { client_id: 'zar_client_co', float_id: 'zar_cash_float' }\n2019-05-31T15:26:20.281Z pluto:dynamo:main Passing parameters to docClient:  { TableName: 'ClientFloatTable',\n  Key: { client_id: 'zar_client_co', float_id: 'zar_cash_float' },\n  ProjectionExpression: 'bonus_pool_share_of_accrual, bonus_pool_system_wide_id, client_share_of_accrual, client_share_of_system_wide_id' }\n2019-05-31T15:26:20.281Z pluto:dynamo:main Table name for DynamoDB ? : ClientFloatTable\n2019-05-31T15:26:20.335Z pluto:dynamo:main Retrieved result:  { Item: \n   { client_share_of_accrual: 0.1,\n     bonus_pool_system_wide_id: 'zar_cash_bonus_pool',\n     bonus_pool_share_of_accrual: 0.1 } }\n2019-05-31T15:26:20.336Z pluto:float:dynamo Fetched config var row from dynamo:  { clientShareOfAccrual: 0.1,\n  bonusPoolSystemWideId: 'zar_cash_bonus_pool',\n  bonusPoolShareOfAccrual: 0.1 }\n2019-05-31T15:26:20.337Z pluto:float:handler Fetched float config:  { bonusPoolShare: 0.1,\n  bonusPoolTracker: 'zar_cash_bonus_pool',\n  clientCoShare: 0.1,\n  clientCoShareTracker: undefined }\n2019-05-31T15:26:20.337Z pluto:float:handler Calculating an apportionment, total pool : 1000000, and share: 0.1\n2019-05-31T15:26:20.338Z pluto:float:handler Result of calculation: 100000\n2019-05-31T15:26:20.338Z pluto:float:handler Calculating an apportionment, total pool : 1000000, and share: 0.1\n2019-05-31T15:26:20.338Z pluto:float:handler Result of calculation: 100000\n2019-05-31T15:26:20.338Z pluto:float:handler Company allocation:  { currency: 'ZAR',\n  unit: 'HUNDREDTH_CENT',\n  relatedEntityType: 'ACCRUAL_EVENT',\n  relatedEntityId: 'tx-id-backing',\n  label: 'CLIENT',\n  amount: 100000,\n  allocatedToType: 'COMPANY_SHARE',\n  allocatedToId: undefined }\n2019-05-31T15:26:20.339Z pluto:rds-common:main Template:  ${transaction_id}, ${client_id}, ${float_id}, ${t_type}, ${currency}, ${unit}, ${amount}, ${allocated_to_type}, ${allocated_to_id}, ${related_entity_type}, ${related_entity_id}\n2019-05-31T15:26:20.340Z pluto:rds-common:main Split items:  [ '${transaction_id}',\n  '${client_id}',\n  '${float_id}',\n  '${t_type}',\n  '${currency}',\n  '${unit}',\n  '${amount}',\n  '${allocated_to_type}',\n  '${allocated_to_id}',\n  '${related_entity_type}',\n  '${related_entity_id}' ]\n2019-05-31T15:26:20.340Z pluto:rds-common:main Map:  [ { type: 'PARAM', value: 'transaction_id' },\n  { type: 'PARAM', value: 'client_id' },\n  { type: 'PARAM', value: 'float_id' },\n  { type: 'PARAM', value: 't_type' },\n  { type: 'PARAM', value: 'currency' },\n  { type: 'PARAM', value: 'unit' },\n  { type: 'PARAM', value: 'amount' },\n  { type: 'PARAM', value: 'allocated_to_type' },\n  { type: 'PARAM', value: 'allocated_to_id' },\n  { type: 'PARAM', value: 'related_entity_type' },\n  { type: 'PARAM', value: 'related_entity_id' } ]\n2019-05-31T15:26:20.340Z pluto:rds-common:main For template ${transaction_id}, ${client_id}, ${float_id}, ${t_type}, ${currency}, ${unit}, ${amount}, ${allocated_to_type}, ${allocated_to_id}, ${related_entity_type}, ${related_entity_id}, and objects [{\"transaction_id\":\"83a7abe5-aa80-4a9a-a71d-a56c2628e73f\",\"client_id\":\"zar_client_co\",\"float_id\":\"zar_cash_float\",\"currency\":\"ZAR\",\"unit\":\"HUNDREDTH_CENT\",\"amount\":1000000,\"allocated_to_type\":\"FLOAT_ITSELF\",\"allocated_to_id\":\"zar_cash_float\",\"related_entity_id\":\"tx-id-backing\"}], have nested array [[\"83a7abe5-aa80-4a9a-a71d-a56c2628e73f\",\"zar_client_co\",\"zar_cash_float\",null,\"ZAR\",\"HUNDREDTH_CENT\",1000000,\"FLOAT_ITSELF\",\"zar_cash_float\",null,\"tx-id-backing\"]]\n2019-05-31T15:26:20.340Z pluto:rds-common:main SINGLE: Nested array:  [ [ '83a7abe5-aa80-4a9a-a71d-a56c2628e73f',\n    'zar_client_co',\n    'zar_cash_float',\n    undefined,\n    'ZAR',\n    'HUNDREDTH_CENT',\n    1000000,\n    'FLOAT_ITSELF',\n    'zar_cash_float',\n    undefined,\n    'tx-id-backing' ] ]\n2019-05-31T15:26:20.341Z pluto:rds-common:main SINGLE: Formatted query:  insert into float_data.float_transaction_ledger (transaction_id, client_id, float_id, t_type, currency, unit, amount, allocated_to_type, allocated_to_id, related_entity_type, related_entity_id) values ('83a7abe5-aa80-4a9a-a71d-a56c2628e73f', 'zar_client_co', 'zar_cash_float', NULL, 'ZAR', 'HUNDREDTH_CENT', '1000000', 'FLOAT_ITSELF', 'zar_cash_float', NULL, 'tx-id-backing') returning transaction_id\n2019-05-31T15:26:20.351Z pluto:rds-common:main Error running insertion:  { error: null value in column \"t_type\" violates not-null constraint\n    at Connection.parseE (/var/task/node_modules/rds-common/node_modules/pg/lib/connection.js:602:11)\n    at Connection.parseMessage (/var/task/node_modules/rds-common/node_modules/pg/lib/connection.js:399:19)\n    at Socket.<anonymous> (/var/task/node_modules/rds-common/node_modules/pg/lib/connection.js:121:22)\n    at emitOne (events.js:116:13)\n    at Socket.emit (events.js:211:7)\n    at addChunk (_stream_readable.js:263:12)\n    at readableAddChunk (_stream_readable.js:250:11)\n    at Socket.Readable.push (_stream_readable.js:208:10)\n    at TCP.onread (net.js:607:20)\n  name: 'error',\n  length: 378,\n  severity: 'ERROR',\n  code: '23502',\n  detail: 'Failing row contains (83a7abe5-aa80-4a9a-a71d-a56c2628e73f, 2019-05-31 15:26:20.349842+00, zar_client_co, zar_cash_float, null, ZAR, HUNDREDTH_CENT, 1000000, FLOAT_ITSELF, zar_cash_float, null, tx-id-backing).',\n  hint: undefined,\n  position: undefined,\n  internalPosition: undefined,\n  internalQuery: undefined,\n  where: undefined,\n  schema: 'float_data',\n  table: 'float_transaction_ledger',\n  column: 't_type',\n  dataType: undefined,\n  constraint: undefined,\n  file: 'execMain.c',\n  line: '2042',\n  routine: 'ExecConstraints' }\n\u001b[34m2019-05-31T15:26:20.354Z\t876cddd5-82f4-10c9-681d-70baf392976a\t\u001b[0m{\"errorMessage\":\"Query 'insert into float_data.float_transaction_ledger (transaction_id, client_id, float_id, t_type, currency, unit, amount, allocated_to_type, allocated_to_id, related_entity_type, related_entity_id) values %L returning transaction_id, with values undefined failed on commit\",\"errorType\":\"CommitError\",\"stackTrace\":[\"RdsConnection.insertRecords (/var/task/node_modules/rds-common/index.js:112:19)\",\"<anonymous>\",\"process._tickDomainCallback (internal/process/next_tick.js:228:7)\"]}\n\u001b[32mEND RequestId: 876cddd5-82f4-10c9-681d-70baf392976a\u001b[0m\n\u001b[32mREPORT RequestId: 876cddd5-82f4-10c9-681d-70baf392976a\tDuration: 325.86 ms\tBilled Duration: 400 ms\tMemory Size: 1536 MB\tMax Memory Used: 49 MB\t\u001b[0m\n"
     ]
    }
   ],
   "source": [
    "accrualDict = {\n",
    "    'clientId': 'zar_client_co',\n",
    "    'floatId': 'zar_cash_float',\n",
    "    'accrualAmount': 100 * 100 * 100,\n",
    "    'currency': 'ZAR',\n",
    "    'unit': 'HUNDREDTH_CENT',\n",
    "    'backingEntityIdentifier': 'tx-id-backing'\n",
    "}\n",
    "local_lambda.invoke(FunctionName='float-api-local-accrue', InvocationType='RequestResponse', \n",
    "                                           Payload=json.dumps(accrualDict, default=str))"
   ]
  },
  {
   "cell_type": "code",
   "execution_count": null,
   "metadata": {},
   "outputs": [],
   "source": []
  }
 ],
 "metadata": {
  "kernelspec": {
   "display_name": "Python [conda env:pluto-local-dev]",
   "language": "python",
   "name": "conda-env-pluto-local-dev-py"
  },
  "language_info": {
   "codemirror_mode": {
    "name": "ipython",
    "version": 3
   },
   "file_extension": ".py",
   "mimetype": "text/x-python",
   "name": "python",
   "nbconvert_exporter": "python",
   "pygments_lexer": "ipython3",
   "version": "3.6.8"
  }
 },
 "nbformat": 4,
 "nbformat_minor": 2
}
