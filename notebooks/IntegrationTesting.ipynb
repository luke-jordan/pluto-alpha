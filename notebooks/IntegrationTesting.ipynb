{
 "cells": [
  {
   "cell_type": "code",
   "execution_count": null,
   "metadata": {
    "collapsed": true
   },
   "outputs": [],
   "source": [
    "import boto3\n",
    "import json, uuid, copy, datetime\n",
    "import random, names"
   ]
  },
  {
   "cell_type": "code",
   "execution_count": null,
   "metadata": {
    "collapsed": true
   },
   "outputs": [],
   "source": [
    "# open_cmd_in_new_terminal(\"docker-compose up\")\n",
    "!gnome-terminal -- docker-compose up"
   ]
  },
  {
   "cell_type": "code",
   "execution_count": null,
   "metadata": {
    "collapsed": true
   },
   "outputs": [],
   "source": [
    "!./setuprds.sh\n",
    "!./setupdynamo.sh"
   ]
  },
  {
   "cell_type": "code",
   "execution_count": null,
   "metadata": {
    "collapsed": true
   },
   "outputs": [],
   "source": [
    "!./deploylambdas.sh"
   ]
  },
  {
   "cell_type": "code",
   "execution_count": null,
   "metadata": {
    "collapsed": true
   },
   "outputs": [],
   "source": [
    "dynamodb = boto3.client('dynamodb', endpoint_url = 'http://localhost:4569')\n",
    "local_lambda = boto3.client('lambda', endpoint_url = 'http://localhost:4574')"
   ]
  },
  {
   "cell_type": "code",
   "execution_count": null,
   "metadata": {
    "collapsed": true
   },
   "outputs": [],
   "source": [
    "def print_deployed_functions():\n",
    "    function_list = local_lambda.list_functions()\n",
    "    # print(function_list)\n",
    "    print('Function list: ', [function['FunctionName'] for function in function_list['Functions']])"
   ]
  },
  {
   "cell_type": "code",
   "execution_count": null,
   "metadata": {
    "collapsed": true
   },
   "outputs": [],
   "source": [
    "def generate_account(client_id = 'zar_client_co'):\n",
    "    first_name = names.get_first_name()\n",
    "    family_name = names.get_last_name()\n",
    "    user_id = str(uuid.uuid4())\n",
    "    return { 'clientId': client_id, 'ownerUserId': user_id, 'userFirstName': first_name, 'userFamilyName': family_name}"
   ]
  },
  {
   "cell_type": "code",
   "execution_count": null,
   "metadata": {
    "collapsed": true
   },
   "outputs": [],
   "source": [
    "def decode_lambda_result(lambda_result):\n",
    "    lambda_payload = lambda_result['Payload'].read()\n",
    "    lambda_pload_decoded = lambda_payload.decode('utf-8')\n",
    "    lambda_pload_object = json.loads(lambda_pload_decoded)\n",
    "    return lambda_pload_object"
   ]
  },
  {
   "cell_type": "code",
   "execution_count": null,
   "metadata": {
    "collapsed": true
   },
   "outputs": [],
   "source": [
    "def create_number_accounts(number_accounts = 1, client_id = 'zar_client_co'):\n",
    "    account_dicts = [generate_account(client_id) for i in range(number_accounts)]\n",
    "    persisted_accounts = []\n",
    "    for account in account_dicts:\n",
    "        lambda_result = local_lambda.invoke(FunctionName='create-account', InvocationType='RequestResponse', \n",
    "                                           Payload=json.dumps(account))\n",
    "        lambda_payload = json.loads(decode_lambda_result(lambda_result)['body'])\n",
    "        persisted_account = copy.deepcopy(account)\n",
    "        persisted_account['accountId'] = lambda_payload['accountId']\n",
    "        persisted_account['persistedTime'] = lambda_payload['persistedTime']\n",
    "        print('Account with ID %s persisted at %s' % (persisted_account['accountId'], persisted_account['persistedTime']))\n",
    "        persisted_accounts.append(persisted_account)\n",
    "    \n",
    "    return persisted_accounts\n",
    "    "
   ]
  },
  {
   "cell_type": "code",
   "execution_count": null,
   "metadata": {
    "collapsed": true
   },
   "outputs": [],
   "source": [
    "def generate_saving_transaction(account_id, ref_amount = 100, float_id = 'zar_cash_primary'):\n",
    "    current_time = datetime.datetime.now()\n",
    "    saved_amount = round(random.random() * ref_amount * 10 * 10) # random proportion of ref amount, \n",
    "    test_saving_dict = { \n",
    "        'accountId': account_id, \n",
    "        'initiationTime': str(current_time), \n",
    "        'settlementTime': str(current_time), \n",
    "        'savedAmount': saved_amount, \n",
    "        'savedCurrency': 'ZAR', \n",
    "        'savedUnit': 'HUNDREDTH_CENT' \n",
    "    }\n",
    "    return test_saving_dict"
   ]
  },
  {
   "cell_type": "code",
   "execution_count": null,
   "metadata": {
    "collapsed": true
   },
   "outputs": [],
   "source": [
    "def seed_savings_for_accounts(accounts, tx_per_account = 1, base_amount = 100):\n",
    "    transactions = []\n",
    "    for i in range(tx_per_account):\n",
    "        transactions.extend([generate_saving_transaction(account['accountId'], base_amount) for account in accounts])\n",
    "    # print('transactions: ', transactions)\n",
    "    tx_records = []\n",
    "    for tx in transactions:\n",
    "        lambda_result = local_lambda.invoke(FunctionName='add-savings', InvocationType='RequestResponse', \n",
    "                                           Payload=json.dumps(tx, default=str))\n",
    "        lambda_payload = json.loads(decode_lambda_result(lambda_result)['body'])\n",
    "        persisted_tx = copy.deepcopy(tx)\n",
    "        persisted_tx['transactionId'] = lambda_payload['transaction_id']\n",
    "        persisted_tx['currentBalance'] = lambda_payload['newBalance']\n",
    "        # persisted_account['persistedTime'] = lambda_payload['persistedTime']\n",
    "        print('Transaction persisted with ID %s' % (persisted_tx['transactionId']))\n",
    "        tx_records.append(persisted_tx)\n",
    "    \n",
    "    return tx_records"
   ]
  },
  {
   "cell_type": "code",
   "execution_count": null,
   "metadata": {
    "collapsed": true
   },
   "outputs": [],
   "source": [
    "accounts = create_number_accounts(number_accounts = 2)\n",
    "print(accounts)"
   ]
  },
  {
   "cell_type": "code",
   "execution_count": null,
   "metadata": {
    "collapsed": true
   },
   "outputs": [],
   "source": [
    "print_deployed_functions()"
   ]
  },
  {
   "cell_type": "code",
   "execution_count": null,
   "metadata": {
    "collapsed": true
   },
   "outputs": [],
   "source": [
    "seed_savings_for_accounts(accounts, 1, 100)"
   ]
  },
  {
   "cell_type": "code",
   "execution_count": null,
   "metadata": {
    "collapsed": true
   },
   "outputs": [],
   "source": [
    "seed_savings_for_accounts(accounts, 1, 100)"
   ]
  },
  {
   "cell_type": "code",
   "execution_count": null,
   "metadata": {
    "collapsed": true
   },
   "outputs": [],
   "source": []
  }
 ],
 "metadata": {
  "kernelspec": {
   "display_name": "Python 3",
   "language": "python",
   "name": "python3"
  },
  "language_info": {
   "codemirror_mode": {
    "name": "ipython",
    "version": 3
   },
   "file_extension": ".py",
   "mimetype": "text/x-python",
   "name": "python",
   "nbconvert_exporter": "python",
   "pygments_lexer": "ipython3",
   "version": "3.6.1"
  }
 },
 "nbformat": 4,
 "nbformat_minor": 2
}
