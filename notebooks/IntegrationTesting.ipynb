{
 "cells": [
  {
   "cell_type": "code",
   "execution_count": 1,
   "metadata": {},
   "outputs": [],
   "source": [
    "import boto3\n",
    "import json, uuid, copy, datetime\n",
    "import random, names, tabulate\n",
    "import pandas as pd"
   ]
  },
  {
   "cell_type": "code",
   "execution_count": null,
   "metadata": {},
   "outputs": [],
   "source": [
    "# open_cmd_in_new_terminal(\"docker-compose up\")\n",
    "!gnome-terminal -- docker-compose up"
   ]
  },
  {
   "cell_type": "code",
   "execution_count": null,
   "metadata": {},
   "outputs": [],
   "source": [
    "# !./setuprds.sh\n",
    "!./setupdynamo.sh"
   ]
  },
  {
   "cell_type": "code",
   "execution_count": null,
   "metadata": {},
   "outputs": [],
   "source": [
    "!./deploylambdas.sh"
   ]
  },
  {
   "cell_type": "code",
   "execution_count": null,
   "metadata": {},
   "outputs": [],
   "source": [
    "dynamodb = boto3.client('dynamodb', endpoint_url = 'http://localhost:4569')\n",
    "local_lambda = boto3.client('lambda', endpoint_url = 'http://localhost:4574')"
   ]
  },
  {
   "cell_type": "code",
   "execution_count": 2,
   "metadata": {},
   "outputs": [],
   "source": [
    "# Use this one for staging\n",
    "dynamodb = boto3.client('dynamodb', region_name = 'us-east-1')\n",
    "local_lambda = boto3.client('lambda', region_name = 'us-east-1')"
   ]
  },
  {
   "cell_type": "code",
   "execution_count": null,
   "metadata": {},
   "outputs": [],
   "source": [
    "# Setup the RDS roles\n",
    "role_payload = { \"type\": \"CREATE_ROLES\", \"credentials\": {\n",
    "        \"account_api_worker\": \"pwd_for_account_api\",\n",
    "        \"save_tx_api_worker\": \"pwd_for_transaction_api\",\n",
    "        \"float_api_worker\": \"pwd_for_float_api\",\n",
    "        \"auth_api_worker\": \"pwd_for_auth_api_worker\"\n",
    "    }\n",
    "}\n",
    "local_lambda.invoke(FunctionName='db-migration-local-migrate', InvocationType='RequestResponse', Payload=json.dumps(role_payload))"
   ]
  },
  {
   "cell_type": "code",
   "execution_count": 9,
   "metadata": {},
   "outputs": [
    {
     "data": {
      "text/plain": [
       "{'ResponseMetadata': {'HTTPStatusCode': 200,\n",
       "  'HTTPHeaders': {'content-type': 'application/json',\n",
       "   'content-length': '68',\n",
       "   'access-control-allow-origin': '*',\n",
       "   'server': 'Werkzeug/0.15.4 Python/3.6.8',\n",
       "   'date': 'Tue, 09 Jul 2019 09:33:59 GMT'},\n",
       "  'RetryAttempts': 0},\n",
       " 'StatusCode': 200,\n",
       " 'Payload': <botocore.response.StreamingBody at 0x7ff96f8f8fd0>}"
      ]
     },
     "execution_count": 9,
     "metadata": {},
     "output_type": "execute_result"
    }
   ],
   "source": [
    "# Setup the RDS tables\n",
    "local_lambda.invoke(FunctionName='db-migration-local-migrate', InvocationType='RequestResponse', Payload=json.dumps({'type': 'SETUP_TABLES'}))"
   ]
  },
  {
   "cell_type": "code",
   "execution_count": 3,
   "metadata": {},
   "outputs": [],
   "source": [
    "def print_deployed_functions():\n",
    "    function_list = local_lambda.list_functions()\n",
    "    # print(function_list)\n",
    "    print('Function list: ', [function['FunctionName'] for function in function_list['Functions']])"
   ]
  },
  {
   "cell_type": "code",
   "execution_count": 11,
   "metadata": {},
   "outputs": [],
   "source": [
    "def generate_account(client_id = 'zar_client_co', float_id = 'zar_cash_float'):\n",
    "    first_name = names.get_first_name()\n",
    "    family_name = names.get_last_name()\n",
    "    user_id = str(uuid.uuid4())\n",
    "    return { 'clientId': client_id, 'defaultFloatId': float_id, 'ownerUserId': user_id, 'userFirstName': first_name, 'userFamilyName': family_name}"
   ]
  },
  {
   "cell_type": "code",
   "execution_count": 12,
   "metadata": {},
   "outputs": [],
   "source": [
    "def decode_lambda_result(lambda_result):\n",
    "    lambda_payload = lambda_result['Payload'].read()\n",
    "    lambda_pload_decoded = lambda_payload.decode('utf-8')\n",
    "    lambda_pload_object = json.loads(lambda_pload_decoded)\n",
    "    return lambda_pload_object"
   ]
  },
  {
   "cell_type": "code",
   "execution_count": 5,
   "metadata": {},
   "outputs": [],
   "source": [
    "def create_number_accounts(number_accounts = 1, client_id = 'zar_client_co', lambda_name = 'account-create'):\n",
    "    account_dicts = [generate_account(client_id) for i in range(number_accounts)]\n",
    "    persisted_accounts = []\n",
    "    for account in account_dicts:\n",
    "        lambda_result = local_lambda.invoke(FunctionName='user_existence_api', InvocationType='RequestResponse', \n",
    "                                           Payload=json.dumps(account))\n",
    "        lambda_payload = json.loads(decode_lambda_result(lambda_result)['body'])\n",
    "        persisted_account = copy.deepcopy(account)\n",
    "        persisted_account['accountId'] = lambda_payload['accountId']\n",
    "        persisted_account['persistedTime'] = lambda_payload['persistedTime']\n",
    "        print('Account with ID %s persisted at %s' % (persisted_account['accountId'], persisted_account['persistedTime']))\n",
    "        persisted_accounts.append(persisted_account)\n",
    "    \n",
    "    return persisted_accounts\n",
    "    "
   ]
  },
  {
   "cell_type": "code",
   "execution_count": null,
   "metadata": {},
   "outputs": [],
   "source": [
    "def generate_saving_transaction(account_id, ref_amount = 100, client_id = 'zar_client_co', float_id = 'zar_cash_primary'):\n",
    "    current_time = datetime.datetime.now()\n",
    "    saved_amount = round(random.random() * ref_amount * 10 * 10) # random proportion of ref amount, \n",
    "    test_saving_dict = { \n",
    "        'accountId': account_id, \n",
    "        'initiationTime': str(current_time), \n",
    "        'settlementTime': str(current_time), \n",
    "        'savedAmount': saved_amount, \n",
    "        'savedCurrency': 'ZAR', \n",
    "        'savedUnit': 'HUNDREDTH_CENT',\n",
    "        'floatId': float_id,\n",
    "        'clientId': client_id\n",
    "    }\n",
    "    return test_saving_dict"
   ]
  },
  {
   "cell_type": "code",
   "execution_count": null,
   "metadata": {},
   "outputs": [],
   "source": [
    "def seed_savings_for_accounts(accounts, tx_per_account = 1, base_amount = 100):\n",
    "    transactions = []\n",
    "    for i in range(tx_per_account):\n",
    "        transactions.extend([generate_saving_transaction(account['accountId'], base_amount) for account in accounts])\n",
    "#     print('transactions: ', transactions)\n",
    "    tx_records = []\n",
    "    for tx in transactions:\n",
    "        lambda_result = local_lambda.invoke(FunctionName='activity-save', InvocationType='RequestResponse', \n",
    "                                           Payload=json.dumps(tx, default=str))\n",
    "        lambda_payload = json.loads(decode_lambda_result(lambda_result)['body'])\n",
    "        persisted_tx = copy.deepcopy(tx)\n",
    "        persisted_tx['transactionId'] = lambda_payload['transactionDetails'][0][0]['transaction_id']\n",
    "        persisted_tx['currentBalance'] = lambda_payload['newBalance']['amount']\n",
    "        # persisted_account['persistedTime'] = lambda_payload['persistedTime']\n",
    "        print('Tx for account %s persisted with new balance %s' % (tx['accountId'], persisted_tx['currentBalance']))\n",
    "        tx_records.append(persisted_tx)\n",
    "    \n",
    "    return tx_records"
   ]
  },
  {
   "cell_type": "code",
   "execution_count": null,
   "metadata": {},
   "outputs": [],
   "source": [
    "def run_accrual_for_float(client_id = 'zar_client_co', float_id = 'zar_cash_primary', accrued_amount = 100):\n",
    "    accrualDict = {\n",
    "        'clientId': client_id,\n",
    "        'floatId': float_id,\n",
    "        'accrualAmount': accrued_amount,\n",
    "        'currency': 'ZAR',\n",
    "        'unit': 'HUNDREDTH_CENT',\n",
    "        'backingEntityIdentifier': 'tx-id-backing'\n",
    "    }\n",
    "    lambda_result = local_lambda.invoke(FunctionName='float-accrue', InvocationType='RequestResponse', \n",
    "                                               Payload=json.dumps(accrualDict, default=str))\n",
    "    lambda_payload = json.loads(decode_lambda_result(lambda_result)['body'])\n",
    "    return lambda_payload"
   ]
  },
  {
   "cell_type": "code",
   "execution_count": 4,
   "metadata": {},
   "outputs": [
    {
     "name": "stdout",
     "output_type": "stream",
     "text": [
      "Function list:  ['user_existence_api', 'insert_user_credentials', 'user_activity_api', 'verify_jwt', 'sign_jwt', 'db_migration', 'db_migration_auth', 'float_api', 'update_password', 'seed_initial_admin', 'verify_user_credentials']\n"
     ]
    }
   ],
   "source": [
    "print_deployed_functions()"
   ]
  },
  {
   "cell_type": "code",
   "execution_count": 12,
   "metadata": {},
   "outputs": [
    {
     "ename": "JSONDecodeError",
     "evalue": "Expecting value: line 1 column 1 (char 0)",
     "output_type": "error",
     "traceback": [
      "\u001b[0;31m---------------------------------------------------------------------------\u001b[0m",
      "\u001b[0;31mJSONDecodeError\u001b[0m                           Traceback (most recent call last)",
      "\u001b[0;32m<ipython-input-12-59d8e6dda9c7>\u001b[0m in \u001b[0;36m<module>\u001b[0;34m\u001b[0m\n\u001b[0;32m----> 1\u001b[0;31m \u001b[0maccounts\u001b[0m \u001b[0;34m=\u001b[0m \u001b[0mcreate_number_accounts\u001b[0m\u001b[0;34m(\u001b[0m\u001b[0mnumber_accounts\u001b[0m \u001b[0;34m=\u001b[0m \u001b[0;36m1\u001b[0m\u001b[0;34m)\u001b[0m\u001b[0;34m\u001b[0m\u001b[0;34m\u001b[0m\u001b[0m\n\u001b[0m",
      "\u001b[0;32m<ipython-input-5-88dfc9cbcc05>\u001b[0m in \u001b[0;36mcreate_number_accounts\u001b[0;34m(number_accounts, client_id, lambda_name)\u001b[0m\n\u001b[1;32m      5\u001b[0m         lambda_result = local_lambda.invoke(FunctionName='user_existence_api', InvocationType='RequestResponse', \n\u001b[1;32m      6\u001b[0m                                            Payload=json.dumps(account))\n\u001b[0;32m----> 7\u001b[0;31m         \u001b[0mlambda_payload\u001b[0m \u001b[0;34m=\u001b[0m \u001b[0mjson\u001b[0m\u001b[0;34m.\u001b[0m\u001b[0mloads\u001b[0m\u001b[0;34m(\u001b[0m\u001b[0mdecode_lambda_result\u001b[0m\u001b[0;34m(\u001b[0m\u001b[0mlambda_result\u001b[0m\u001b[0;34m)\u001b[0m\u001b[0;34m[\u001b[0m\u001b[0;34m'body'\u001b[0m\u001b[0;34m]\u001b[0m\u001b[0;34m)\u001b[0m\u001b[0;34m\u001b[0m\u001b[0;34m\u001b[0m\u001b[0m\n\u001b[0m\u001b[1;32m      8\u001b[0m         \u001b[0mpersisted_account\u001b[0m \u001b[0;34m=\u001b[0m \u001b[0mcopy\u001b[0m\u001b[0;34m.\u001b[0m\u001b[0mdeepcopy\u001b[0m\u001b[0;34m(\u001b[0m\u001b[0maccount\u001b[0m\u001b[0;34m)\u001b[0m\u001b[0;34m\u001b[0m\u001b[0;34m\u001b[0m\u001b[0m\n\u001b[1;32m      9\u001b[0m         \u001b[0mpersisted_account\u001b[0m\u001b[0;34m[\u001b[0m\u001b[0;34m'accountId'\u001b[0m\u001b[0;34m]\u001b[0m \u001b[0;34m=\u001b[0m \u001b[0mlambda_payload\u001b[0m\u001b[0;34m[\u001b[0m\u001b[0;34m'accountId'\u001b[0m\u001b[0;34m]\u001b[0m\u001b[0;34m\u001b[0m\u001b[0;34m\u001b[0m\u001b[0m\n",
      "\u001b[0;32m~/anaconda3/envs/pluto-local-dev/lib/python3.6/json/__init__.py\u001b[0m in \u001b[0;36mloads\u001b[0;34m(s, encoding, cls, object_hook, parse_float, parse_int, parse_constant, object_pairs_hook, **kw)\u001b[0m\n\u001b[1;32m    352\u001b[0m             \u001b[0mparse_int\u001b[0m \u001b[0;32mis\u001b[0m \u001b[0;32mNone\u001b[0m \u001b[0;32mand\u001b[0m \u001b[0mparse_float\u001b[0m \u001b[0;32mis\u001b[0m \u001b[0;32mNone\u001b[0m \u001b[0;32mand\u001b[0m\u001b[0;34m\u001b[0m\u001b[0;34m\u001b[0m\u001b[0m\n\u001b[1;32m    353\u001b[0m             parse_constant is None and object_pairs_hook is None and not kw):\n\u001b[0;32m--> 354\u001b[0;31m         \u001b[0;32mreturn\u001b[0m \u001b[0m_default_decoder\u001b[0m\u001b[0;34m.\u001b[0m\u001b[0mdecode\u001b[0m\u001b[0;34m(\u001b[0m\u001b[0ms\u001b[0m\u001b[0;34m)\u001b[0m\u001b[0;34m\u001b[0m\u001b[0;34m\u001b[0m\u001b[0m\n\u001b[0m\u001b[1;32m    355\u001b[0m     \u001b[0;32mif\u001b[0m \u001b[0mcls\u001b[0m \u001b[0;32mis\u001b[0m \u001b[0;32mNone\u001b[0m\u001b[0;34m:\u001b[0m\u001b[0;34m\u001b[0m\u001b[0;34m\u001b[0m\u001b[0m\n\u001b[1;32m    356\u001b[0m         \u001b[0mcls\u001b[0m \u001b[0;34m=\u001b[0m \u001b[0mJSONDecoder\u001b[0m\u001b[0;34m\u001b[0m\u001b[0;34m\u001b[0m\u001b[0m\n",
      "\u001b[0;32m~/anaconda3/envs/pluto-local-dev/lib/python3.6/json/decoder.py\u001b[0m in \u001b[0;36mdecode\u001b[0;34m(self, s, _w)\u001b[0m\n\u001b[1;32m    337\u001b[0m \u001b[0;34m\u001b[0m\u001b[0m\n\u001b[1;32m    338\u001b[0m         \"\"\"\n\u001b[0;32m--> 339\u001b[0;31m         \u001b[0mobj\u001b[0m\u001b[0;34m,\u001b[0m \u001b[0mend\u001b[0m \u001b[0;34m=\u001b[0m \u001b[0mself\u001b[0m\u001b[0;34m.\u001b[0m\u001b[0mraw_decode\u001b[0m\u001b[0;34m(\u001b[0m\u001b[0ms\u001b[0m\u001b[0;34m,\u001b[0m \u001b[0midx\u001b[0m\u001b[0;34m=\u001b[0m\u001b[0m_w\u001b[0m\u001b[0;34m(\u001b[0m\u001b[0ms\u001b[0m\u001b[0;34m,\u001b[0m \u001b[0;36m0\u001b[0m\u001b[0;34m)\u001b[0m\u001b[0;34m.\u001b[0m\u001b[0mend\u001b[0m\u001b[0;34m(\u001b[0m\u001b[0;34m)\u001b[0m\u001b[0;34m)\u001b[0m\u001b[0;34m\u001b[0m\u001b[0;34m\u001b[0m\u001b[0m\n\u001b[0m\u001b[1;32m    340\u001b[0m         \u001b[0mend\u001b[0m \u001b[0;34m=\u001b[0m \u001b[0m_w\u001b[0m\u001b[0;34m(\u001b[0m\u001b[0ms\u001b[0m\u001b[0;34m,\u001b[0m \u001b[0mend\u001b[0m\u001b[0;34m)\u001b[0m\u001b[0;34m.\u001b[0m\u001b[0mend\u001b[0m\u001b[0;34m(\u001b[0m\u001b[0;34m)\u001b[0m\u001b[0;34m\u001b[0m\u001b[0;34m\u001b[0m\u001b[0m\n\u001b[1;32m    341\u001b[0m         \u001b[0;32mif\u001b[0m \u001b[0mend\u001b[0m \u001b[0;34m!=\u001b[0m \u001b[0mlen\u001b[0m\u001b[0;34m(\u001b[0m\u001b[0ms\u001b[0m\u001b[0;34m)\u001b[0m\u001b[0;34m:\u001b[0m\u001b[0;34m\u001b[0m\u001b[0;34m\u001b[0m\u001b[0m\n",
      "\u001b[0;32m~/anaconda3/envs/pluto-local-dev/lib/python3.6/json/decoder.py\u001b[0m in \u001b[0;36mraw_decode\u001b[0;34m(self, s, idx)\u001b[0m\n\u001b[1;32m    355\u001b[0m             \u001b[0mobj\u001b[0m\u001b[0;34m,\u001b[0m \u001b[0mend\u001b[0m \u001b[0;34m=\u001b[0m \u001b[0mself\u001b[0m\u001b[0;34m.\u001b[0m\u001b[0mscan_once\u001b[0m\u001b[0;34m(\u001b[0m\u001b[0ms\u001b[0m\u001b[0;34m,\u001b[0m \u001b[0midx\u001b[0m\u001b[0;34m)\u001b[0m\u001b[0;34m\u001b[0m\u001b[0;34m\u001b[0m\u001b[0m\n\u001b[1;32m    356\u001b[0m         \u001b[0;32mexcept\u001b[0m \u001b[0mStopIteration\u001b[0m \u001b[0;32mas\u001b[0m \u001b[0merr\u001b[0m\u001b[0;34m:\u001b[0m\u001b[0;34m\u001b[0m\u001b[0;34m\u001b[0m\u001b[0m\n\u001b[0;32m--> 357\u001b[0;31m             \u001b[0;32mraise\u001b[0m \u001b[0mJSONDecodeError\u001b[0m\u001b[0;34m(\u001b[0m\u001b[0;34m\"Expecting value\"\u001b[0m\u001b[0;34m,\u001b[0m \u001b[0ms\u001b[0m\u001b[0;34m,\u001b[0m \u001b[0merr\u001b[0m\u001b[0;34m.\u001b[0m\u001b[0mvalue\u001b[0m\u001b[0;34m)\u001b[0m \u001b[0;32mfrom\u001b[0m \u001b[0;32mNone\u001b[0m\u001b[0;34m\u001b[0m\u001b[0;34m\u001b[0m\u001b[0m\n\u001b[0m\u001b[1;32m    358\u001b[0m         \u001b[0;32mreturn\u001b[0m \u001b[0mobj\u001b[0m\u001b[0;34m,\u001b[0m \u001b[0mend\u001b[0m\u001b[0;34m\u001b[0m\u001b[0;34m\u001b[0m\u001b[0m\n",
      "\u001b[0;31mJSONDecodeError\u001b[0m: Expecting value: line 1 column 1 (char 0)"
     ]
    }
   ],
   "source": [
    "accounts = create_number_accounts(number_accounts = 1)"
   ]
  },
  {
   "cell_type": "code",
   "execution_count": null,
   "metadata": {},
   "outputs": [],
   "source": [
    "account_info = [{ 'Name': account['userFirstName'] + ' ' + account['userFamilyName'], \n",
    "                'AccountId': account['accountId'] } for account in accounts[:100]]\n",
    "print(tabulate.tabulate(account_info, headers = 'keys'))"
   ]
  },
  {
   "cell_type": "code",
   "execution_count": null,
   "metadata": {},
   "outputs": [],
   "source": [
    "single_tx = generate_saving_transaction(accounts[0]['accountId'], 100)\n",
    "lambda_result = local_lambda.invoke(FunctionName='activity-save', Payload=json.dumps(single_tx, default=str))\n",
    "result_decoded = decode_lambda_result(lambda_result)\n",
    "print('Lambda result', result_decoded)"
   ]
  },
  {
   "cell_type": "code",
   "execution_count": null,
   "metadata": {},
   "outputs": [],
   "source": [
    "account_balances = seed_savings_for_accounts(accounts[:100], tx_per_account = 3, base_amount = 100 * 100 * 100)"
   ]
  },
  {
   "cell_type": "code",
   "execution_count": null,
   "metadata": {},
   "outputs": [],
   "source": [
    "def merge_dataframes(accounts, account_balances):\n",
    "    df = pd.DataFrame(account_balances)\n",
    "    df = df[df['currentBalance'] == df.groupby('accountId')['currentBalance'].transform('max')]\n",
    "    df = df[['accountId', 'currentBalance']]\n",
    "    df['currentBalance'] = pd.to_numeric(df['currentBalance'])\n",
    "    df['balanceRand'] = df['currentBalance']/10000\n",
    "    account_name_df = pd.DataFrame(accounts)[['accountId', 'floatId', 'userFamilyName', 'userFirstName']]\n",
    "    account_name_df['Holder Name'] = account_name_df['userFirstName'] + ' ' + account_name_df['userFamilyName']\n",
    "    account_name_df.set_index('accountId')\n",
    "    df.set_index('accountId')\n",
    "    merged_df = pd.merge(account_name_df, df)[['accountId', 'floatId', 'Holder Name', 'balanceRand']]\n",
    "    return merged_df"
   ]
  },
  {
   "cell_type": "code",
   "execution_count": null,
   "metadata": {},
   "outputs": [],
   "source": [
    "merged_df = merge_dataframes(accounts, account_balances)"
   ]
  },
  {
   "cell_type": "code",
   "execution_count": null,
   "metadata": {},
   "outputs": [],
   "source": [
    "merged_df"
   ]
  },
  {
   "cell_type": "code",
   "execution_count": null,
   "metadata": {},
   "outputs": [],
   "source": [
    "amount_to_accrue = round(random.random() * 100 * 100 * 100)\n",
    "print('Instructing accrual of : R', amount_to_accrue / (100 * 100))\n",
    "accrual_result = run_accrual_for_float(accrued_amount = amount_to_accrue)\n",
    "allocation_details = json.loads(accrual_result['userAllocationTransactions']['body'])\n",
    "account_transaction_list = allocation_details['allocationRecords']['accountTxIds']\n",
    "# print(tabulate.tabulate(account_transaction_list, headers = 'keys'))"
   ]
  },
  {
   "cell_type": "code",
   "execution_count": null,
   "metadata": {},
   "outputs": [],
   "source": [
    "# print(accrual_result)\n",
    "account_transactions = allocation_details['allocationRecords']['accountTxIds']\n",
    "number_of_float_transactions = len(allocation_details['allocationRecords']['floatTxIds'])\n",
    "number_of_account_transactions = len(account_transactions)\n",
    "print('%d float transactions, %d account transactions' % (number_of_float_transactions, number_of_account_transactions))\n",
    "sum_of_accounts = sum([transaction['amount'] for transaction in account_transactions])\n",
    "print('Sum of account additions: ', sum_of_accounts)\n",
    "bonus_allocation = accrual_result['entityAllocations']['bonusShare']\n",
    "company_allocation = accrual_result['entityAllocations']['clientShare']\n",
    "print('Bonus allocation: %d, and client co allocation: %d' % (bonus_allocation, company_allocation))\n",
    "total_allocations = sum_of_accounts + bonus_allocation + company_allocation\n",
    "print('Of accrual %d, allocations %d' % (amount_to_accrue, total_allocations))\n",
    "rounding_allocated_to_bonus = isinstance(allocation_details['bonusAllocation'], list)\n",
    "print('Was there a rounding allocation? : ', rounding_allocated_to_bonus)\n",
    "print('Rounding allocation record: ', allocation_details['bonusAllocation'])"
   ]
  },
  {
   "cell_type": "code",
   "execution_count": null,
   "metadata": {},
   "outputs": [],
   "source": [
    "balance_payload = { \n",
    "    'accountId': accounts[0]['accountId'], \n",
    "    'clientId': 'zar_client_co', \n",
    "    'floatId': 'zar_cash_primary',\n",
    "    'currency': 'ZAR',\n",
    "    'timezone': 'Africa/Johannesburg'\n",
    "}\n",
    "balance_projection = local_lambda.invoke(FunctionName='activity-balance', Payload=json.dumps(balance_payload))\n",
    "projection_decoded = decode_lambda_result(balance_projection)\n",
    "print(projection_decoded)"
   ]
  },
  {
   "cell_type": "code",
   "execution_count": null,
   "metadata": {},
   "outputs": [],
   "source": [
    "def fetch_account_balance(accountId, clientId = 'zar_client_co', floatId = 'zar_cash_primary', currency = 'ZAR', timezone = 'Africa/Johannesburg'):\n",
    "    balance_payload = { \n",
    "        'accountId': accountId, \n",
    "        'clientId': 'zar_client_co', \n",
    "        'floatId': 'zar_cash_primary',\n",
    "        'currency': 'ZAR',\n",
    "        'timezone': 'Africa/Johannesburg'\n",
    "    }\n",
    "    balance_projection = local_lambda.invoke(FunctionName='activity-balance', Payload=json.dumps(balance_payload))\n",
    "    projection_decoded = decode_lambda_result(balance_projection)\n",
    "    return projection_decoded"
   ]
  },
  {
   "cell_type": "code",
   "execution_count": null,
   "metadata": {},
   "outputs": [],
   "source": [
    "def fetch_account_balances(accounts):\n",
    "#     balance_dicts = [fetch_account_balance(account['accountId']) for account in accounts]\n",
    "    balance_dicts = []\n",
    "    for account in accounts:\n",
    "#         print('account: ', account)\n",
    "        balance_dict = fetch_account_balance(account['accountId'])\n",
    "        balance_dict['accountId'] = account['accountId']\n",
    "        projected_dict = {\n",
    "            'accountId': balance_dict['accountId'],\n",
    "            'currentBalanceZAR': balance_dict['currentBalance']['amount'] / 10000,\n",
    "            'balanceEndOfDayZAR': balance_dict['balanceEndOfToday']['amount'] / 10000,\n",
    "            'balanceNextDayZAR': balance_dict['balanceSubsequentDays'][0]['amount'] / 10000\n",
    "        }\n",
    "        balance_dicts.append(projected_dict)\n",
    "    \n",
    "    return balance_dicts"
   ]
  },
  {
   "cell_type": "code",
   "execution_count": null,
   "metadata": {},
   "outputs": [],
   "source": [
    "balances_projections = fetch_account_balances(accounts)"
   ]
  },
  {
   "cell_type": "code",
   "execution_count": null,
   "metadata": {},
   "outputs": [],
   "source": [
    "balance_df = pd.DataFrame(balances_projections)\n",
    "balance_df = balance_df[['accountId', 'currentBalanceZAR', 'balanceEndOfDayZAR', 'balanceNextDayZAR']]\n",
    "balance_df"
   ]
  },
  {
   "cell_type": "code",
   "execution_count": null,
   "metadata": {},
   "outputs": [],
   "source": []
  }
 ],
 "metadata": {
  "kernelspec": {
   "display_name": "Python [conda env:pluto-local-dev]",
   "language": "python",
   "name": "conda-env-pluto-local-dev-py"
  },
  "language_info": {
   "codemirror_mode": {
    "name": "ipython",
    "version": 3
   },
   "file_extension": ".py",
   "mimetype": "text/x-python",
   "name": "python",
   "nbconvert_exporter": "python",
   "pygments_lexer": "ipython3",
   "version": "3.6.8"
  }
 },
 "nbformat": 4,
 "nbformat_minor": 2
}
