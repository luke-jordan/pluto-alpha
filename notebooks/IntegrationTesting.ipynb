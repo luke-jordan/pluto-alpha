{
 "cells": [
  {
   "cell_type": "code",
   "execution_count": 1,
   "metadata": {},
   "outputs": [],
   "source": [
    "import boto3\n",
    "import json, uuid, copy, datetime\n",
    "import random, names, tabulate\n",
    "import pandas as pd"
   ]
  },
  {
   "cell_type": "code",
   "execution_count": 2,
   "metadata": {},
   "outputs": [],
   "source": [
    "# open_cmd_in_new_terminal(\"docker-compose up\")\n",
    "!gnome-terminal -- docker-compose up"
   ]
  },
  {
   "cell_type": "code",
   "execution_count": 3,
   "metadata": {},
   "outputs": [
    {
     "name": "stdout",
     "output_type": "stream",
     "text": [
      "Creating the DynamoDB table that holds the client floats\n",
      "{\n",
      "    \"StackId\": \"arn:aws:cloudformation:us-east-1:123456789:stack/client-float-table/f2e802e9-f6ad-4446-8826-bc8d521ab2ea\"\n",
      "}\n",
      "Adding in item for core, ZAR wholesale float\n"
     ]
    }
   ],
   "source": [
    "# !./setuprds.sh\n",
    "!./setupdynamo.sh"
   ]
  },
  {
   "cell_type": "code",
   "execution_count": 4,
   "metadata": {},
   "outputs": [
    {
     "name": "stdout",
     "output_type": "stream",
     "text": [
      "Deploying the float lambda\n",
      "Serverless: \u001b[33mconfig.options_stage: local\u001b[39m\n",
      "Serverless: \u001b[33mserverless.service.custom.stage: undefined\u001b[39m\n",
      "Serverless: \u001b[33mserverless.service.provider.stage: dev\u001b[39m\n",
      "Serverless: \u001b[33mconfig.stage: local\u001b[39m\n",
      "Serverless: \u001b[33mUsing serverless-localstack\u001b[39m\n",
      "Serverless: \u001b[33mReconfiguring service apigateway to use http://localhost:4567\u001b[39m\n",
      "Serverless: \u001b[33mReconfiguring service cloudformation to use http://localhost:4581\u001b[39m\n",
      "Serverless: \u001b[33mReconfiguring service cloudwatch to use http://localhost:4582\u001b[39m\n",
      "Serverless: \u001b[33mReconfiguring service lambda to use http://localhost:4574\u001b[39m\n",
      "Serverless: \u001b[33mReconfiguring service dynamodb to use http://localhost:4569\u001b[39m\n",
      "Serverless: \u001b[33mReconfiguring service kinesis to use http://localhost:4568\u001b[39m\n",
      "Serverless: \u001b[33mReconfiguring service route53 to use http://localhost:4580\u001b[39m\n",
      "Serverless: \u001b[33mReconfiguring service firehose to use http://localhost:4573\u001b[39m\n",
      "Serverless: \u001b[33mReconfiguring service stepfunctions to use http://localhost:4585\u001b[39m\n",
      "Serverless: \u001b[33mReconfiguring service es to use http://localhost:4578\u001b[39m\n",
      "Serverless: \u001b[33mReconfiguring service s3 to use http://localhost:4572\u001b[39m\n",
      "Serverless: \u001b[33mReconfiguring service ses to use http://localhost:4579\u001b[39m\n",
      "Serverless: \u001b[33mReconfiguring service sns to use http://localhost:4575\u001b[39m\n",
      "Serverless: \u001b[33mReconfiguring service sqs to use http://localhost:4576\u001b[39m\n",
      "Serverless: \u001b[33mReconfiguring service sts to use http://localhost:4592\u001b[39m\n",
      "Serverless: \u001b[33mReconfiguring service iam to use http://localhost:4593\u001b[39m\n",
      "Serverless: \u001b[33mReconfiguring service ssm to use http://localhost:4583\u001b[39m\n",
      "Serverless: \u001b[33mPackaging service...\u001b[39m\n",
      "Serverless: \u001b[33mExcluding development dependencies...\u001b[39m\n",
      "Serverless: \u001b[33mCreating deployment bucket pluto.float.lambdas\u001b[39m\n",
      "Serverless: \u001b[33mUploading CloudFormation file to S3...\u001b[39m\n",
      "Serverless: \u001b[33mUploading artifacts...\u001b[39m\n",
      "Serverless: \u001b[33mUploading service float-api.zip file to S3 (38.62 MB)...\u001b[39m\n",
      "Serverless: \u001b[33mValidating template...\u001b[39m\n",
      "Serverless: \u001b[33mSkipping template validation: Unsupported in Localstack\u001b[39m\n",
      "Serverless: \u001b[33mCreating Stack...\u001b[39m\n",
      "Serverless: \u001b[33mChecking Stack create progress...\u001b[39m\n",
      "\u001b[33m.\u001b[39m\u001b[33m.\u001b[39m\n",
      "Serverless: \u001b[33mStack create finished...\u001b[39m\n",
      "\u001b[33m\u001b[4mService Information\u001b[24m\u001b[39m\n",
      "\u001b[33mservice:\u001b[39m float-api\n",
      "\u001b[33mstage:\u001b[39m local\n",
      "\u001b[33mregion:\u001b[39m eu-west-1\n",
      "\u001b[33mstack:\u001b[39m float-api-local\n",
      "\u001b[33mresources:\u001b[39m 9\n",
      "\u001b[33mapi keys:\u001b[39m\n",
      "  None\n",
      "\u001b[33mendpoints:\u001b[39m\n",
      "  POST - https://2790618322.execute-api.eu-west-1.amazonaws.com/local/save\n",
      "\u001b[33mfunctions:\u001b[39m\n",
      "  accrue: float-accrue\n",
      "\u001b[33mlayers:\u001b[39m\n",
      "  None\n",
      "Serverless Enterprise: \u001b[33mRun `serverless login` and deploy again to explore, monitor, secure your serverless project for free.\u001b[39m\n",
      "Deploying the user account mgmt lambda\n",
      "Serverless: \u001b[33mconfig.options_stage: local\u001b[39m\n",
      "Serverless: \u001b[33mserverless.service.custom.stage: local\u001b[39m\n",
      "Serverless: \u001b[33mserverless.service.provider.stage: local\u001b[39m\n",
      "Serverless: \u001b[33mconfig.stage: local\u001b[39m\n",
      "Serverless: \u001b[33mUsing serverless-localstack\u001b[39m\n",
      "Serverless: \u001b[33mReconfiguring service apigateway to use http://localhost:4567\u001b[39m\n",
      "Serverless: \u001b[33mReconfiguring service cloudformation to use http://localhost:4581\u001b[39m\n",
      "Serverless: \u001b[33mReconfiguring service cloudwatch to use http://localhost:4582\u001b[39m\n",
      "Serverless: \u001b[33mReconfiguring service lambda to use http://localhost:4574\u001b[39m\n",
      "Serverless: \u001b[33mReconfiguring service dynamodb to use http://localhost:4569\u001b[39m\n",
      "Serverless: \u001b[33mReconfiguring service kinesis to use http://localhost:4568\u001b[39m\n",
      "Serverless: \u001b[33mReconfiguring service route53 to use http://localhost:4580\u001b[39m\n",
      "Serverless: \u001b[33mReconfiguring service firehose to use http://localhost:4573\u001b[39m\n",
      "Serverless: \u001b[33mReconfiguring service stepfunctions to use http://localhost:4585\u001b[39m\n",
      "Serverless: \u001b[33mReconfiguring service es to use http://localhost:4578\u001b[39m\n",
      "Serverless: \u001b[33mReconfiguring service s3 to use http://localhost:4572\u001b[39m\n",
      "Serverless: \u001b[33mReconfiguring service ses to use http://localhost:4579\u001b[39m\n",
      "Serverless: \u001b[33mReconfiguring service sns to use http://localhost:4575\u001b[39m\n",
      "Serverless: \u001b[33mReconfiguring service sqs to use http://localhost:4576\u001b[39m\n",
      "Serverless: \u001b[33mReconfiguring service sts to use http://localhost:4592\u001b[39m\n",
      "Serverless: \u001b[33mReconfiguring service iam to use http://localhost:4593\u001b[39m\n",
      "Serverless: \u001b[33mReconfiguring service ssm to use http://localhost:4583\u001b[39m\n",
      "Serverless: \u001b[33mPackaging service...\u001b[39m\n",
      "Serverless: \u001b[33mExcluding development dependencies...\u001b[39m\n",
      "Serverless: \u001b[33mCreating deployment bucket pluto.user.existence.lambdas\u001b[39m\n",
      "Serverless: \u001b[33mUploading CloudFormation file to S3...\u001b[39m\n",
      "Serverless: \u001b[33mUploading artifacts...\u001b[39m\n",
      "Serverless: \u001b[33mUploading service user-existence-api.zip file to S3 (45.58 MB)...\u001b[39m\n",
      "Serverless: \u001b[33mValidating template...\u001b[39m\n",
      "Serverless: \u001b[33mSkipping template validation: Unsupported in Localstack\u001b[39m\n",
      "Serverless: \u001b[33mCreating Stack...\u001b[39m\n",
      "Serverless: \u001b[33mChecking Stack create progress...\u001b[39m\n",
      "\u001b[33m.\u001b[39m\u001b[33m.\u001b[39m\n",
      "Serverless: \u001b[33mStack create finished...\u001b[39m\n",
      "\u001b[33m\u001b[4mService Information\u001b[24m\u001b[39m\n",
      "\u001b[33mservice:\u001b[39m user-existence-api\n",
      "\u001b[33mstage:\u001b[39m local\n",
      "\u001b[33mregion:\u001b[39m eu-west-1\n",
      "\u001b[33mstack:\u001b[39m user-existence-api-local\n",
      "\u001b[33mresources:\u001b[39m 9\n",
      "\u001b[33mapi keys:\u001b[39m\n",
      "  None\n",
      "\u001b[33mendpoints:\u001b[39m\n",
      "  POST - https://A-Z51514A-Z49A-Z.execute-api.eu-west-1.amazonaws.com/local/create\n",
      "\u001b[33mfunctions:\u001b[39m\n",
      "  create: account-create\n",
      "\u001b[33mlayers:\u001b[39m\n",
      "  None\n",
      "Serverless Enterprise: \u001b[33mRun `serverless login` and deploy again to explore, monitor, secure your serverless project for free.\u001b[39m\n",
      "\n",
      "\u001b[33m\u001b[39m\n",
      "\u001b[33m   ╭───────────────────────────────────────╮\u001b[39m\n",
      "   \u001b[33m│\u001b[39m                                       \u001b[33m│\u001b[39m\n",
      "   \u001b[33m│\u001b[39m   Update available \u001b[2m1.46.0\u001b[22m\u001b[0m → \u001b[0m\u001b[32m1.46.1\u001b[39m    \u001b[33m│\u001b[39m\n",
      "   \u001b[33m│\u001b[39m   Run \u001b[36mnpm i -g serverless\u001b[39m to update   \u001b[33m│\u001b[39m\n",
      "   \u001b[33m│\u001b[39m                                       \u001b[33m│\u001b[39m\n",
      "\u001b[33m   ╰───────────────────────────────────────╯\u001b[39m\n",
      "\u001b[33m\u001b[39m\n",
      "Deploying the save transaction lambda\n",
      "Serverless: \u001b[33mconfig.options_stage: local\u001b[39m\n",
      "Serverless: \u001b[33mserverless.service.custom.stage: undefined\u001b[39m\n",
      "Serverless: \u001b[33mserverless.service.provider.stage: dev\u001b[39m\n",
      "Serverless: \u001b[33mconfig.stage: local\u001b[39m\n",
      "Serverless: \u001b[33mUsing serverless-localstack\u001b[39m\n",
      "Serverless: \u001b[33mReconfiguring service apigateway to use http://localhost:4567\u001b[39m\n",
      "Serverless: \u001b[33mReconfiguring service cloudformation to use http://localhost:4581\u001b[39m\n",
      "Serverless: \u001b[33mReconfiguring service cloudwatch to use http://localhost:4582\u001b[39m\n",
      "Serverless: \u001b[33mReconfiguring service lambda to use http://localhost:4574\u001b[39m\n",
      "Serverless: \u001b[33mReconfiguring service dynamodb to use http://localhost:4569\u001b[39m\n",
      "Serverless: \u001b[33mReconfiguring service kinesis to use http://localhost:4568\u001b[39m\n",
      "Serverless: \u001b[33mReconfiguring service route53 to use http://localhost:4580\u001b[39m\n",
      "Serverless: \u001b[33mReconfiguring service firehose to use http://localhost:4573\u001b[39m\n",
      "Serverless: \u001b[33mReconfiguring service stepfunctions to use http://localhost:4585\u001b[39m\n",
      "Serverless: \u001b[33mReconfiguring service es to use http://localhost:4578\u001b[39m\n",
      "Serverless: \u001b[33mReconfiguring service s3 to use http://localhost:4572\u001b[39m\n",
      "Serverless: \u001b[33mReconfiguring service ses to use http://localhost:4579\u001b[39m\n",
      "Serverless: \u001b[33mReconfiguring service sns to use http://localhost:4575\u001b[39m\n",
      "Serverless: \u001b[33mReconfiguring service sqs to use http://localhost:4576\u001b[39m\n",
      "Serverless: \u001b[33mReconfiguring service sts to use http://localhost:4592\u001b[39m\n",
      "Serverless: \u001b[33mReconfiguring service iam to use http://localhost:4593\u001b[39m\n",
      "Serverless: \u001b[33mReconfiguring service ssm to use http://localhost:4583\u001b[39m\n",
      "Serverless: \u001b[33mPackaging service...\u001b[39m\n",
      "Serverless: \u001b[33mExcluding development dependencies...\u001b[39m\n",
      "Serverless: \u001b[33mCreating deployment bucket pluto.user.action.lambdas\u001b[39m\n",
      "Serverless: \u001b[33mUploading CloudFormation file to S3...\u001b[39m\n",
      "Serverless: \u001b[33mUploading artifacts...\u001b[39m\n",
      "Serverless: \u001b[33mUploading service user-activity-api.zip file to S3 (39.38 MB)...\u001b[39m\n",
      "Serverless: \u001b[33mValidating template...\u001b[39m\n",
      "Serverless: \u001b[33mSkipping template validation: Unsupported in Localstack\u001b[39m\n",
      "Serverless: \u001b[33mCreating Stack...\u001b[39m\n"
     ]
    },
    {
     "name": "stdout",
     "output_type": "stream",
     "text": [
      "Serverless: \u001b[33mChecking Stack create progress...\u001b[39m\n",
      "\u001b[33m.\u001b[39m\u001b[33m.\u001b[39m\n",
      "Serverless: \u001b[33mStack create finished...\u001b[39m\n",
      "\u001b[33m\u001b[4mService Information\u001b[24m\u001b[39m\n",
      "\u001b[33mservice:\u001b[39m user-activity-api\n",
      "\u001b[33mstage:\u001b[39m local\n",
      "\u001b[33mregion:\u001b[39m eu-west-1\n",
      "\u001b[33mstack:\u001b[39m user-activity-api-local\n",
      "\u001b[33mresources:\u001b[39m 12\n",
      "\u001b[33mapi keys:\u001b[39m\n",
      "  None\n",
      "\u001b[33mendpoints:\u001b[39m\n",
      "  POST - https://2990973418.execute-api.eu-west-1.amazonaws.com/local/save\n",
      "\u001b[33mfunctions:\u001b[39m\n",
      "  save: activity-save\n",
      "  balance: activity-balance\n",
      "\u001b[33mlayers:\u001b[39m\n",
      "  None\n",
      "Serverless Enterprise: \u001b[33mRun `serverless login` and deploy again to explore, monitor, secure your serverless project for free.\u001b[39m\n",
      "Deploying the migration lambda\n",
      "Serverless: \u001b[33mconfig.options_stage: local\u001b[39m\n",
      "Serverless: \u001b[33mserverless.service.custom.stage: undefined\u001b[39m\n",
      "Serverless: \u001b[33mserverless.service.provider.stage: dev\u001b[39m\n",
      "Serverless: \u001b[33mconfig.stage: local\u001b[39m\n",
      "Serverless: \u001b[33mUsing serverless-localstack\u001b[39m\n",
      "Serverless: \u001b[33mReconfiguring service apigateway to use http://localhost:4567\u001b[39m\n",
      "Serverless: \u001b[33mReconfiguring service cloudformation to use http://localhost:4581\u001b[39m\n",
      "Serverless: \u001b[33mReconfiguring service cloudwatch to use http://localhost:4582\u001b[39m\n",
      "Serverless: \u001b[33mReconfiguring service lambda to use http://localhost:4574\u001b[39m\n",
      "Serverless: \u001b[33mReconfiguring service dynamodb to use http://localhost:4569\u001b[39m\n",
      "Serverless: \u001b[33mReconfiguring service kinesis to use http://localhost:4568\u001b[39m\n",
      "Serverless: \u001b[33mReconfiguring service route53 to use http://localhost:4580\u001b[39m\n",
      "Serverless: \u001b[33mReconfiguring service firehose to use http://localhost:4573\u001b[39m\n",
      "Serverless: \u001b[33mReconfiguring service stepfunctions to use http://localhost:4585\u001b[39m\n",
      "Serverless: \u001b[33mReconfiguring service es to use http://localhost:4578\u001b[39m\n",
      "Serverless: \u001b[33mReconfiguring service s3 to use http://localhost:4572\u001b[39m\n",
      "Serverless: \u001b[33mReconfiguring service ses to use http://localhost:4579\u001b[39m\n",
      "Serverless: \u001b[33mReconfiguring service sns to use http://localhost:4575\u001b[39m\n",
      "Serverless: \u001b[33mReconfiguring service sqs to use http://localhost:4576\u001b[39m\n",
      "Serverless: \u001b[33mReconfiguring service sts to use http://localhost:4592\u001b[39m\n",
      "Serverless: \u001b[33mReconfiguring service iam to use http://localhost:4593\u001b[39m\n",
      "Serverless: \u001b[33mReconfiguring service ssm to use http://localhost:4583\u001b[39m\n",
      "Serverless: \u001b[33mPackaging service...\u001b[39m\n",
      "Serverless: \u001b[33mExcluding development dependencies...\u001b[39m\n",
      "Serverless: \u001b[33mCreating deployment bucket jupiter.migration.lambdas\u001b[39m\n",
      "Serverless: \u001b[33mUploading CloudFormation file to S3...\u001b[39m\n",
      "Serverless: \u001b[33mUploading artifacts...\u001b[39m\n",
      "Serverless: \u001b[33mUploading service db-migration.zip file to S3 (7.51 MB)...\u001b[39m\n",
      "Serverless: \u001b[33mValidating template...\u001b[39m\n",
      "Serverless: \u001b[33mSkipping template validation: Unsupported in Localstack\u001b[39m\n",
      "Serverless: \u001b[33mCreating Stack...\u001b[39m\n",
      "Serverless: \u001b[33mChecking Stack create progress...\u001b[39m\n",
      "\u001b[33m.\u001b[39m\u001b[33m.\u001b[39m\n",
      "Serverless: \u001b[33mStack create finished...\u001b[39m\n",
      "\u001b[33m\u001b[4mService Information\u001b[24m\u001b[39m\n",
      "\u001b[33mservice:\u001b[39m db-migration\n",
      "\u001b[33mstage:\u001b[39m local\n",
      "\u001b[33mregion:\u001b[39m eu-west-1\n",
      "\u001b[33mstack:\u001b[39m db-migration-local\n",
      "\u001b[33mresources:\u001b[39m 4\n",
      "\u001b[33mapi keys:\u001b[39m\n",
      "  None\n",
      "\u001b[33mendpoints:\u001b[39m\n",
      "  None\n",
      "\u001b[33mfunctions:\u001b[39m\n",
      "  migrate: db-migration-local-migrate\n",
      "\u001b[33mlayers:\u001b[39m\n",
      "  None\n",
      "Serverless Enterprise: \u001b[33mRun `serverless login` and deploy again to explore, monitor, secure your serverless project for free.\u001b[39m\n"
     ]
    }
   ],
   "source": [
    "!./deploylambdas.sh"
   ]
  },
  {
   "cell_type": "code",
   "execution_count": 5,
   "metadata": {},
   "outputs": [],
   "source": [
    "dynamodb = boto3.client('dynamodb', endpoint_url = 'http://localhost:4569')\n",
    "local_lambda = boto3.client('lambda', endpoint_url = 'http://localhost:4574')"
   ]
  },
  {
   "cell_type": "code",
   "execution_count": 6,
   "metadata": {},
   "outputs": [
    {
     "data": {
      "text/plain": [
       "{'ResponseMetadata': {'HTTPStatusCode': 200,\n",
       "  'HTTPHeaders': {'content-type': 'application/json',\n",
       "   'content-length': '300',\n",
       "   'access-control-allow-origin': '*',\n",
       "   'server': 'Werkzeug/0.15.4 Python/3.6.8',\n",
       "   'date': 'Tue, 09 Jul 2019 09:23:36 GMT'},\n",
       "  'RetryAttempts': 0},\n",
       " 'StatusCode': 200,\n",
       " 'Payload': <botocore.response.StreamingBody at 0x7ff96f8f8240>}"
      ]
     },
     "execution_count": 6,
     "metadata": {},
     "output_type": "execute_result"
    }
   ],
   "source": [
    "# Setup the RDS roles\n",
    "role_payload = { \"type\": \"CREATE_ROLES\", \"credentials\": {\n",
    "        \"account_api_worker\": \"pwd_for_account_api\",\n",
    "        \"save_tx_api_worker\": \"pwd_for_transaction_api\",\n",
    "        \"float_api_worker\": \"pwd_for_float_api\",\n",
    "        \"auth_api_worker\": \"pwd_for_auth_api_worker\"\n",
    "    }\n",
    "}\n",
    "local_lambda.invoke(FunctionName='db-migration-local-migrate', InvocationType='RequestResponse', Payload=json.dumps(role_payload))"
   ]
  },
  {
   "cell_type": "code",
   "execution_count": 9,
   "metadata": {},
   "outputs": [
    {
     "data": {
      "text/plain": [
       "{'ResponseMetadata': {'HTTPStatusCode': 200,\n",
       "  'HTTPHeaders': {'content-type': 'application/json',\n",
       "   'content-length': '68',\n",
       "   'access-control-allow-origin': '*',\n",
       "   'server': 'Werkzeug/0.15.4 Python/3.6.8',\n",
       "   'date': 'Tue, 09 Jul 2019 09:33:59 GMT'},\n",
       "  'RetryAttempts': 0},\n",
       " 'StatusCode': 200,\n",
       " 'Payload': <botocore.response.StreamingBody at 0x7ff96f8f8fd0>}"
      ]
     },
     "execution_count": 9,
     "metadata": {},
     "output_type": "execute_result"
    }
   ],
   "source": [
    "# Setup the RDS tables\n",
    "local_lambda.invoke(FunctionName='db-migration-local-migrate', InvocationType='RequestResponse', Payload=json.dumps({'type': 'SETUP_TABLES'}))"
   ]
  },
  {
   "cell_type": "code",
   "execution_count": 10,
   "metadata": {},
   "outputs": [],
   "source": [
    "def print_deployed_functions():\n",
    "    function_list = local_lambda.list_functions()\n",
    "    # print(function_list)\n",
    "    print('Function list: ', [function['FunctionName'] for function in function_list['Functions']])"
   ]
  },
  {
   "cell_type": "code",
   "execution_count": 19,
   "metadata": {},
   "outputs": [],
   "source": [
    "def generate_account(client_id = 'zar_client_co', float_id = 'zar_cash_float'):\n",
    "    first_name = names.get_first_name()\n",
    "    family_name = names.get_last_name()\n",
    "    user_id = str(uuid.uuid4())\n",
    "    return { 'clientId': client_id, 'defaultFloatId': float_id, 'ownerUserId': user_id, 'userFirstName': first_name, 'userFamilyName': family_name}"
   ]
  },
  {
   "cell_type": "code",
   "execution_count": 12,
   "metadata": {},
   "outputs": [],
   "source": [
    "def decode_lambda_result(lambda_result):\n",
    "    lambda_payload = lambda_result['Payload'].read()\n",
    "    lambda_pload_decoded = lambda_payload.decode('utf-8')\n",
    "    lambda_pload_object = json.loads(lambda_pload_decoded)\n",
    "    return lambda_pload_object"
   ]
  },
  {
   "cell_type": "code",
   "execution_count": 13,
   "metadata": {},
   "outputs": [],
   "source": [
    "def create_number_accounts(number_accounts = 1, client_id = 'zar_client_co'):\n",
    "    account_dicts = [generate_account(client_id) for i in range(number_accounts)]\n",
    "    persisted_accounts = []\n",
    "    for account in account_dicts:\n",
    "        lambda_result = local_lambda.invoke(FunctionName='account-create', InvocationType='RequestResponse', \n",
    "                                           Payload=json.dumps(account))\n",
    "        lambda_payload = json.loads(decode_lambda_result(lambda_result)['body'])\n",
    "        persisted_account = copy.deepcopy(account)\n",
    "        persisted_account['accountId'] = lambda_payload['accountId']\n",
    "        persisted_account['persistedTime'] = lambda_payload['persistedTime']\n",
    "        print('Account with ID %s persisted at %s' % (persisted_account['accountId'], persisted_account['persistedTime']))\n",
    "        persisted_accounts.append(persisted_account)\n",
    "    \n",
    "    return persisted_accounts\n",
    "    "
   ]
  },
  {
   "cell_type": "code",
   "execution_count": 14,
   "metadata": {},
   "outputs": [],
   "source": [
    "def generate_saving_transaction(account_id, ref_amount = 100, client_id = 'zar_client_co', float_id = 'zar_cash_primary'):\n",
    "    current_time = datetime.datetime.now()\n",
    "    saved_amount = round(random.random() * ref_amount * 10 * 10) # random proportion of ref amount, \n",
    "    test_saving_dict = { \n",
    "        'accountId': account_id, \n",
    "        'initiationTime': str(current_time), \n",
    "        'settlementTime': str(current_time), \n",
    "        'savedAmount': saved_amount, \n",
    "        'savedCurrency': 'ZAR', \n",
    "        'savedUnit': 'HUNDREDTH_CENT',\n",
    "        'floatId': float_id,\n",
    "        'clientId': client_id\n",
    "    }\n",
    "    return test_saving_dict"
   ]
  },
  {
   "cell_type": "code",
   "execution_count": 15,
   "metadata": {},
   "outputs": [],
   "source": [
    "def seed_savings_for_accounts(accounts, tx_per_account = 1, base_amount = 100):\n",
    "    transactions = []\n",
    "    for i in range(tx_per_account):\n",
    "        transactions.extend([generate_saving_transaction(account['accountId'], base_amount) for account in accounts])\n",
    "#     print('transactions: ', transactions)\n",
    "    tx_records = []\n",
    "    for tx in transactions:\n",
    "        lambda_result = local_lambda.invoke(FunctionName='activity-save', InvocationType='RequestResponse', \n",
    "                                           Payload=json.dumps(tx, default=str))\n",
    "        lambda_payload = json.loads(decode_lambda_result(lambda_result)['body'])\n",
    "        persisted_tx = copy.deepcopy(tx)\n",
    "        persisted_tx['transactionId'] = lambda_payload['transactionDetails'][0][0]['transaction_id']\n",
    "        persisted_tx['currentBalance'] = lambda_payload['newBalance']['amount']\n",
    "        # persisted_account['persistedTime'] = lambda_payload['persistedTime']\n",
    "        print('Tx for account %s persisted with new balance %s' % (tx['accountId'], persisted_tx['currentBalance']))\n",
    "        tx_records.append(persisted_tx)\n",
    "    \n",
    "    return tx_records"
   ]
  },
  {
   "cell_type": "code",
   "execution_count": 16,
   "metadata": {},
   "outputs": [],
   "source": [
    "def run_accrual_for_float(client_id = 'zar_client_co', float_id = 'zar_cash_primary', accrued_amount = 100):\n",
    "    accrualDict = {\n",
    "        'clientId': client_id,\n",
    "        'floatId': float_id,\n",
    "        'accrualAmount': accrued_amount,\n",
    "        'currency': 'ZAR',\n",
    "        'unit': 'HUNDREDTH_CENT',\n",
    "        'backingEntityIdentifier': 'tx-id-backing'\n",
    "    }\n",
    "    lambda_result = local_lambda.invoke(FunctionName='float-accrue', InvocationType='RequestResponse', \n",
    "                                               Payload=json.dumps(accrualDict, default=str))\n",
    "    lambda_payload = json.loads(decode_lambda_result(lambda_result)['body'])\n",
    "    return lambda_payload"
   ]
  },
  {
   "cell_type": "code",
   "execution_count": 17,
   "metadata": {},
   "outputs": [
    {
     "name": "stdout",
     "output_type": "stream",
     "text": [
      "Function list:  ['float-accrue', 'account-create', 'activity-save', 'activity-balance', 'db-migration-local-migrate']\n"
     ]
    }
   ],
   "source": [
    "print_deployed_functions()"
   ]
  },
  {
   "cell_type": "code",
   "execution_count": 20,
   "metadata": {},
   "outputs": [
    {
     "name": "stdout",
     "output_type": "stream",
     "text": [
      "Account with ID b12ffd8d-1f24-4b15-a882-cc06770ab938 persisted at 2019-07-09T09:38:56.939Z\n",
      "Account with ID 48f44ff7-099a-4a86-889a-5a7a049d327d persisted at 2019-07-09T09:38:57.673Z\n",
      "Account with ID ffc4d6fb-85c7-4609-b0d0-b0a546a835b5 persisted at 2019-07-09T09:38:58.394Z\n",
      "Account with ID 2bc842bf-db01-4123-b461-827c7599edc5 persisted at 2019-07-09T09:38:59.041Z\n",
      "Account with ID 3aa8a75f-bb60-4268-ae84-2a5d0a622071 persisted at 2019-07-09T09:38:59.731Z\n",
      "Account with ID b2b9a38b-666f-4a18-a4c5-c372dfee9ed5 persisted at 2019-07-09T09:39:00.371Z\n",
      "Account with ID d7e223b5-7b47-4c95-94d6-05fbf211ca89 persisted at 2019-07-09T09:39:01.012Z\n",
      "Account with ID 9d0b19e4-7580-4f68-8e29-767de7f97d46 persisted at 2019-07-09T09:39:01.636Z\n",
      "Account with ID 640add17-bf2f-412a-a938-0a43b403dcbe persisted at 2019-07-09T09:39:02.287Z\n",
      "Account with ID a6c7efc3-904e-4e67-a841-b5a951f0a4e6 persisted at 2019-07-09T09:39:02.951Z\n"
     ]
    }
   ],
   "source": [
    "accounts = create_number_accounts(number_accounts = 10)"
   ]
  },
  {
   "cell_type": "code",
   "execution_count": 21,
   "metadata": {},
   "outputs": [
    {
     "name": "stdout",
     "output_type": "stream",
     "text": [
      "Name                AccountId\n",
      "------------------  ------------------------------------\n",
      "Marvin Moore        b12ffd8d-1f24-4b15-a882-cc06770ab938\n",
      "Jeremiah Phelps     48f44ff7-099a-4a86-889a-5a7a049d327d\n",
      "Audrey Mcclurg      ffc4d6fb-85c7-4609-b0d0-b0a546a835b5\n",
      "Kristine Mcdougall  2bc842bf-db01-4123-b461-827c7599edc5\n",
      "Claude Kelly        3aa8a75f-bb60-4268-ae84-2a5d0a622071\n",
      "Kenna Humphery      b2b9a38b-666f-4a18-a4c5-c372dfee9ed5\n",
      "Johnathon Jones     d7e223b5-7b47-4c95-94d6-05fbf211ca89\n",
      "Bernice Poulin      9d0b19e4-7580-4f68-8e29-767de7f97d46\n",
      "Anna Myers          640add17-bf2f-412a-a938-0a43b403dcbe\n",
      "Eddie Transou       a6c7efc3-904e-4e67-a841-b5a951f0a4e6\n"
     ]
    }
   ],
   "source": [
    "account_info = [{ 'Name': account['userFirstName'] + ' ' + account['userFamilyName'], \n",
    "                'AccountId': account['accountId'] } for account in accounts[:100]]\n",
    "print(tabulate.tabulate(account_info, headers = 'keys'))"
   ]
  },
  {
   "cell_type": "code",
   "execution_count": 22,
   "metadata": {},
   "outputs": [
    {
     "name": "stdout",
     "output_type": "stream",
     "text": [
      "Lambda result {'statusCode': 500}\n"
     ]
    }
   ],
   "source": [
    "single_tx = generate_saving_transaction(accounts[0]['accountId'], 100)\n",
    "lambda_result = local_lambda.invoke(FunctionName='activity-save', Payload=json.dumps(single_tx, default=str))\n",
    "result_decoded = decode_lambda_result(lambda_result)\n",
    "print('Lambda result', result_decoded)"
   ]
  },
  {
   "cell_type": "code",
   "execution_count": null,
   "metadata": {},
   "outputs": [],
   "source": [
    "account_balances = seed_savings_for_accounts(accounts[:100], tx_per_account = 3, base_amount = 100 * 100 * 100)"
   ]
  },
  {
   "cell_type": "code",
   "execution_count": null,
   "metadata": {},
   "outputs": [],
   "source": [
    "def merge_dataframes(accounts, account_balances):\n",
    "    df = pd.DataFrame(account_balances)\n",
    "    df = df[df['currentBalance'] == df.groupby('accountId')['currentBalance'].transform('max')]\n",
    "    df = df[['accountId', 'currentBalance']]\n",
    "    df['currentBalance'] = pd.to_numeric(df['currentBalance'])\n",
    "    df['balanceRand'] = df['currentBalance']/10000\n",
    "    account_name_df = pd.DataFrame(accounts)[['accountId', 'floatId', 'userFamilyName', 'userFirstName']]\n",
    "    account_name_df['Holder Name'] = account_name_df['userFirstName'] + ' ' + account_name_df['userFamilyName']\n",
    "    account_name_df.set_index('accountId')\n",
    "    df.set_index('accountId')\n",
    "    merged_df = pd.merge(account_name_df, df)[['accountId', 'floatId', 'Holder Name', 'balanceRand']]\n",
    "    return merged_df"
   ]
  },
  {
   "cell_type": "code",
   "execution_count": null,
   "metadata": {},
   "outputs": [],
   "source": [
    "merged_df = merge_dataframes(accounts, account_balances)"
   ]
  },
  {
   "cell_type": "code",
   "execution_count": null,
   "metadata": {},
   "outputs": [],
   "source": [
    "merged_df"
   ]
  },
  {
   "cell_type": "code",
   "execution_count": null,
   "metadata": {},
   "outputs": [],
   "source": [
    "amount_to_accrue = round(random.random() * 100 * 100 * 100)\n",
    "print('Instructing accrual of : R', amount_to_accrue / (100 * 100))\n",
    "accrual_result = run_accrual_for_float(accrued_amount = amount_to_accrue)\n",
    "allocation_details = json.loads(accrual_result['userAllocationTransactions']['body'])\n",
    "account_transaction_list = allocation_details['allocationRecords']['accountTxIds']\n",
    "# print(tabulate.tabulate(account_transaction_list, headers = 'keys'))"
   ]
  },
  {
   "cell_type": "code",
   "execution_count": null,
   "metadata": {},
   "outputs": [],
   "source": [
    "# print(accrual_result)\n",
    "account_transactions = allocation_details['allocationRecords']['accountTxIds']\n",
    "number_of_float_transactions = len(allocation_details['allocationRecords']['floatTxIds'])\n",
    "number_of_account_transactions = len(account_transactions)\n",
    "print('%d float transactions, %d account transactions' % (number_of_float_transactions, number_of_account_transactions))\n",
    "sum_of_accounts = sum([transaction['amount'] for transaction in account_transactions])\n",
    "print('Sum of account additions: ', sum_of_accounts)\n",
    "bonus_allocation = accrual_result['entityAllocations']['bonusShare']\n",
    "company_allocation = accrual_result['entityAllocations']['clientShare']\n",
    "print('Bonus allocation: %d, and client co allocation: %d' % (bonus_allocation, company_allocation))\n",
    "total_allocations = sum_of_accounts + bonus_allocation + company_allocation\n",
    "print('Of accrual %d, allocations %d' % (amount_to_accrue, total_allocations))\n",
    "rounding_allocated_to_bonus = isinstance(allocation_details['bonusAllocation'], list)\n",
    "print('Was there a rounding allocation? : ', rounding_allocated_to_bonus)\n",
    "print('Rounding allocation record: ', allocation_details['bonusAllocation'])"
   ]
  },
  {
   "cell_type": "code",
   "execution_count": null,
   "metadata": {},
   "outputs": [],
   "source": [
    "balance_payload = { \n",
    "    'accountId': accounts[0]['accountId'], \n",
    "    'clientId': 'zar_client_co', \n",
    "    'floatId': 'zar_cash_primary',\n",
    "    'currency': 'ZAR',\n",
    "    'timezone': 'Africa/Johannesburg'\n",
    "}\n",
    "balance_projection = local_lambda.invoke(FunctionName='activity-balance', Payload=json.dumps(balance_payload))\n",
    "projection_decoded = decode_lambda_result(balance_projection)\n",
    "print(projection_decoded)"
   ]
  },
  {
   "cell_type": "code",
   "execution_count": null,
   "metadata": {},
   "outputs": [],
   "source": [
    "def fetch_account_balance(accountId, clientId = 'zar_client_co', floatId = 'zar_cash_primary', currency = 'ZAR', timezone = 'Africa/Johannesburg'):\n",
    "    balance_payload = { \n",
    "        'accountId': accountId, \n",
    "        'clientId': 'zar_client_co', \n",
    "        'floatId': 'zar_cash_primary',\n",
    "        'currency': 'ZAR',\n",
    "        'timezone': 'Africa/Johannesburg'\n",
    "    }\n",
    "    balance_projection = local_lambda.invoke(FunctionName='activity-balance', Payload=json.dumps(balance_payload))\n",
    "    projection_decoded = decode_lambda_result(balance_projection)\n",
    "    return projection_decoded"
   ]
  },
  {
   "cell_type": "code",
   "execution_count": null,
   "metadata": {},
   "outputs": [],
   "source": [
    "def fetch_account_balances(accounts):\n",
    "#     balance_dicts = [fetch_account_balance(account['accountId']) for account in accounts]\n",
    "    balance_dicts = []\n",
    "    for account in accounts:\n",
    "#         print('account: ', account)\n",
    "        balance_dict = fetch_account_balance(account['accountId'])\n",
    "        balance_dict['accountId'] = account['accountId']\n",
    "        projected_dict = {\n",
    "            'accountId': balance_dict['accountId'],\n",
    "            'currentBalanceZAR': balance_dict['currentBalance']['amount'] / 10000,\n",
    "            'balanceEndOfDayZAR': balance_dict['balanceEndOfToday']['amount'] / 10000,\n",
    "            'balanceNextDayZAR': balance_dict['balanceSubsequentDays'][0]['amount'] / 10000\n",
    "        }\n",
    "        balance_dicts.append(projected_dict)\n",
    "    \n",
    "    return balance_dicts"
   ]
  },
  {
   "cell_type": "code",
   "execution_count": null,
   "metadata": {},
   "outputs": [],
   "source": [
    "balances_projections = fetch_account_balances(accounts)"
   ]
  },
  {
   "cell_type": "code",
   "execution_count": null,
   "metadata": {},
   "outputs": [],
   "source": [
    "balance_df = pd.DataFrame(balances_projections)\n",
    "balance_df = balance_df[['accountId', 'currentBalanceZAR', 'balanceEndOfDayZAR', 'balanceNextDayZAR']]\n",
    "balance_df"
   ]
  },
  {
   "cell_type": "code",
   "execution_count": null,
   "metadata": {},
   "outputs": [],
   "source": []
  }
 ],
 "metadata": {
  "kernelspec": {
   "display_name": "Python [conda env:pluto-local-dev]",
   "language": "python",
   "name": "conda-env-pluto-local-dev-py"
  },
  "language_info": {
   "codemirror_mode": {
    "name": "ipython",
    "version": 3
   },
   "file_extension": ".py",
   "mimetype": "text/x-python",
   "name": "python",
   "nbconvert_exporter": "python",
   "pygments_lexer": "ipython3",
   "version": "3.6.8"
  }
 },
 "nbformat": 4,
 "nbformat_minor": 2
}
