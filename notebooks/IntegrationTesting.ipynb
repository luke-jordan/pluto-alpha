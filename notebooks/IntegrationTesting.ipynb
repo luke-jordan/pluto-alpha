{
 "cells": [
  {
   "cell_type": "code",
   "execution_count": 1,
   "metadata": {},
   "outputs": [],
   "source": [
    "import boto3\n",
    "import json, uuid, copy, datetime\n",
    "import random, names, tabulate\n",
    "import pandas as pd"
   ]
  },
  {
   "cell_type": "code",
   "execution_count": 2,
   "metadata": {},
   "outputs": [],
   "source": [
    "# open_cmd_in_new_terminal(\"docker-compose up\")\n",
    "!gnome-terminal -- docker-compose up"
   ]
  },
  {
   "cell_type": "code",
   "execution_count": 17,
   "metadata": {},
   "outputs": [
    {
     "name": "stdout",
     "output_type": "stream",
     "text": [
      "Creating the DynamoDB table that holds the client floats\n",
      "{\n",
      "    \"StackId\": \"arn:aws:cloudformation:us-east-1:123456789:stack/client-float-table/d81298b5-eb8b-49bc-b12d-3cf5d5f6b8ce\"\n",
      "}\n",
      "Adding in item for core, ZAR wholesale float\n"
     ]
    }
   ],
   "source": [
    "# !./setuprds.sh\n",
    "!./setupdynamo.sh"
   ]
  },
  {
   "cell_type": "code",
   "execution_count": 4,
   "metadata": {},
   "outputs": [
    {
     "name": "stdout",
     "output_type": "stream",
     "text": [
      "Deploying the float lambda\n",
      "Serverless: \u001b[33mconfig.options_stage: local\u001b[39m\n",
      "Serverless: \u001b[33mserverless.service.custom.stage: undefined\u001b[39m\n",
      "Serverless: \u001b[33mserverless.service.provider.stage: dev\u001b[39m\n",
      "Serverless: \u001b[33mconfig.stage: local\u001b[39m\n",
      "Serverless: \u001b[33mUsing serverless-localstack\u001b[39m\n",
      "Serverless: \u001b[33mReconfiguring service apigateway to use http://localhost:4567\u001b[39m\n",
      "Serverless: \u001b[33mReconfiguring service cloudformation to use http://localhost:4581\u001b[39m\n",
      "Serverless: \u001b[33mReconfiguring service cloudwatch to use http://localhost:4582\u001b[39m\n",
      "Serverless: \u001b[33mReconfiguring service lambda to use http://localhost:4574\u001b[39m\n",
      "Serverless: \u001b[33mReconfiguring service dynamodb to use http://localhost:4569\u001b[39m\n",
      "Serverless: \u001b[33mReconfiguring service kinesis to use http://localhost:4568\u001b[39m\n",
      "Serverless: \u001b[33mReconfiguring service route53 to use http://localhost:4580\u001b[39m\n",
      "Serverless: \u001b[33mReconfiguring service firehose to use http://localhost:4573\u001b[39m\n",
      "Serverless: \u001b[33mReconfiguring service stepfunctions to use http://localhost:4585\u001b[39m\n",
      "Serverless: \u001b[33mReconfiguring service es to use http://localhost:4578\u001b[39m\n",
      "Serverless: \u001b[33mReconfiguring service s3 to use http://localhost:4572\u001b[39m\n",
      "Serverless: \u001b[33mReconfiguring service ses to use http://localhost:4579\u001b[39m\n",
      "Serverless: \u001b[33mReconfiguring service sns to use http://localhost:4575\u001b[39m\n",
      "Serverless: \u001b[33mReconfiguring service sqs to use http://localhost:4576\u001b[39m\n",
      "Serverless: \u001b[33mReconfiguring service sts to use http://localhost:4592\u001b[39m\n",
      "Serverless: \u001b[33mReconfiguring service iam to use http://localhost:4593\u001b[39m\n",
      "Serverless: \u001b[33mReconfiguring service ssm to use http://localhost:4583\u001b[39m\n",
      "Serverless: \u001b[33mPackaging service...\u001b[39m\n",
      "Serverless: \u001b[33mExcluding development dependencies...\u001b[39m\n",
      "Serverless: \u001b[33mCreating deployment bucket pluto.float.lambdas\u001b[39m\n",
      "Serverless: \u001b[33mUploading CloudFormation file to S3...\u001b[39m\n",
      "Serverless: \u001b[33mUploading artifacts...\u001b[39m\n",
      "Serverless: \u001b[33mUploading service float-api.zip file to S3 (27.2 MB)...\u001b[39m\n",
      "Serverless: \u001b[33mValidating template...\u001b[39m\n",
      "Serverless: \u001b[33mSkipping template validation: Unsupported in Localstack\u001b[39m\n",
      "Serverless: \u001b[33mCreating Stack...\u001b[39m\n",
      "Serverless: \u001b[33mChecking Stack create progress...\u001b[39m\n",
      "\u001b[33m.\u001b[39m\u001b[33m.\u001b[39m\n",
      "Serverless: \u001b[33mStack create finished...\u001b[39m\n",
      "\u001b[33m\u001b[4mService Information\u001b[24m\u001b[39m\n",
      "\u001b[33mservice:\u001b[39m float-api\n",
      "\u001b[33mstage:\u001b[39m local\n",
      "\u001b[33mregion:\u001b[39m eu-west-1\n",
      "\u001b[33mstack:\u001b[39m float-api-local\n",
      "\u001b[33mresources:\u001b[39m 9\n",
      "\u001b[33mapi keys:\u001b[39m\n",
      "  None\n",
      "\u001b[33mendpoints:\u001b[39m\n",
      "  POST - https://79158A-Z28A-Z5.execute-api.eu-west-1.amazonaws.com/local/save\n",
      "\u001b[33mfunctions:\u001b[39m\n",
      "  accrue: float-api-local-accrue\n",
      "\u001b[33mlayers:\u001b[39m\n",
      "  None\n",
      "Deploying the user account mgmt lambda\n",
      "Serverless: \u001b[33mconfig.options_stage: local\u001b[39m\n",
      "Serverless: \u001b[33mserverless.service.custom.stage: local\u001b[39m\n",
      "Serverless: \u001b[33mserverless.service.provider.stage: local\u001b[39m\n",
      "Serverless: \u001b[33mconfig.stage: local\u001b[39m\n",
      "Serverless: \u001b[33mUsing serverless-localstack\u001b[39m\n",
      "Serverless: \u001b[33mReconfiguring service apigateway to use http://localhost:4567\u001b[39m\n",
      "Serverless: \u001b[33mReconfiguring service cloudformation to use http://localhost:4581\u001b[39m\n",
      "Serverless: \u001b[33mReconfiguring service cloudwatch to use http://localhost:4582\u001b[39m\n",
      "Serverless: \u001b[33mReconfiguring service lambda to use http://localhost:4574\u001b[39m\n",
      "Serverless: \u001b[33mReconfiguring service dynamodb to use http://localhost:4569\u001b[39m\n",
      "Serverless: \u001b[33mReconfiguring service kinesis to use http://localhost:4568\u001b[39m\n",
      "Serverless: \u001b[33mReconfiguring service route53 to use http://localhost:4580\u001b[39m\n",
      "Serverless: \u001b[33mReconfiguring service firehose to use http://localhost:4573\u001b[39m\n",
      "Serverless: \u001b[33mReconfiguring service stepfunctions to use http://localhost:4585\u001b[39m\n",
      "Serverless: \u001b[33mReconfiguring service es to use http://localhost:4578\u001b[39m\n",
      "Serverless: \u001b[33mReconfiguring service s3 to use http://localhost:4572\u001b[39m\n",
      "Serverless: \u001b[33mReconfiguring service ses to use http://localhost:4579\u001b[39m\n",
      "Serverless: \u001b[33mReconfiguring service sns to use http://localhost:4575\u001b[39m\n",
      "Serverless: \u001b[33mReconfiguring service sqs to use http://localhost:4576\u001b[39m\n",
      "Serverless: \u001b[33mReconfiguring service sts to use http://localhost:4592\u001b[39m\n",
      "Serverless: \u001b[33mReconfiguring service iam to use http://localhost:4593\u001b[39m\n",
      "Serverless: \u001b[33mReconfiguring service ssm to use http://localhost:4583\u001b[39m\n",
      "Serverless: \u001b[33mPackaging service...\u001b[39m\n",
      "Serverless: \u001b[33mExcluding development dependencies...\u001b[39m\n",
      "Serverless: \u001b[33mCreating deployment bucket pluto.user.existence.lambdas\u001b[39m\n",
      "Serverless: \u001b[33mUploading CloudFormation file to S3...\u001b[39m\n",
      "Serverless: \u001b[33mUploading artifacts...\u001b[39m\n",
      "Serverless: \u001b[33mUploading service user-existence-api.zip file to S3 (34.19 MB)...\u001b[39m\n",
      "Serverless: \u001b[33mValidating template...\u001b[39m\n",
      "Serverless: \u001b[33mSkipping template validation: Unsupported in Localstack\u001b[39m\n",
      "Serverless: \u001b[33mCreating Stack...\u001b[39m\n",
      "Serverless: \u001b[33mChecking Stack create progress...\u001b[39m\n",
      "\u001b[33m.\u001b[39m\u001b[33m.\u001b[39m\n",
      "Serverless: \u001b[33mStack create finished...\u001b[39m\n",
      "\u001b[33m\u001b[4mService Information\u001b[24m\u001b[39m\n",
      "\u001b[33mservice:\u001b[39m user-existence-api\n",
      "\u001b[33mstage:\u001b[39m local\n",
      "\u001b[33mregion:\u001b[39m eu-west-1\n",
      "\u001b[33mstack:\u001b[39m user-existence-api-local\n",
      "\u001b[33mresources:\u001b[39m 9\n",
      "\u001b[33mapi keys:\u001b[39m\n",
      "  None\n",
      "\u001b[33mendpoints:\u001b[39m\n",
      "  POST - https://9853825775.execute-api.eu-west-1.amazonaws.com/local/create\n",
      "\u001b[33mfunctions:\u001b[39m\n",
      "  create: create-account\n",
      "\u001b[33mlayers:\u001b[39m\n",
      "  None\n",
      "Deploying the save transaction lambda\n",
      "Serverless: \u001b[33mconfig.options_stage: local\u001b[39m\n",
      "Serverless: \u001b[33mserverless.service.custom.stage: undefined\u001b[39m\n",
      "Serverless: \u001b[33mserverless.service.provider.stage: dev\u001b[39m\n",
      "Serverless: \u001b[33mconfig.stage: local\u001b[39m\n",
      "Serverless: \u001b[33mUsing serverless-localstack\u001b[39m\n",
      "Serverless: \u001b[33mReconfiguring service apigateway to use http://localhost:4567\u001b[39m\n",
      "Serverless: \u001b[33mReconfiguring service cloudformation to use http://localhost:4581\u001b[39m\n",
      "Serverless: \u001b[33mReconfiguring service cloudwatch to use http://localhost:4582\u001b[39m\n",
      "Serverless: \u001b[33mReconfiguring service lambda to use http://localhost:4574\u001b[39m\n",
      "Serverless: \u001b[33mReconfiguring service dynamodb to use http://localhost:4569\u001b[39m\n",
      "Serverless: \u001b[33mReconfiguring service kinesis to use http://localhost:4568\u001b[39m\n",
      "Serverless: \u001b[33mReconfiguring service route53 to use http://localhost:4580\u001b[39m\n",
      "Serverless: \u001b[33mReconfiguring service firehose to use http://localhost:4573\u001b[39m\n",
      "Serverless: \u001b[33mReconfiguring service stepfunctions to use http://localhost:4585\u001b[39m\n",
      "Serverless: \u001b[33mReconfiguring service es to use http://localhost:4578\u001b[39m\n",
      "Serverless: \u001b[33mReconfiguring service s3 to use http://localhost:4572\u001b[39m\n",
      "Serverless: \u001b[33mReconfiguring service ses to use http://localhost:4579\u001b[39m\n",
      "Serverless: \u001b[33mReconfiguring service sns to use http://localhost:4575\u001b[39m\n",
      "Serverless: \u001b[33mReconfiguring service sqs to use http://localhost:4576\u001b[39m\n",
      "Serverless: \u001b[33mReconfiguring service sts to use http://localhost:4592\u001b[39m\n",
      "Serverless: \u001b[33mReconfiguring service iam to use http://localhost:4593\u001b[39m\n",
      "Serverless: \u001b[33mReconfiguring service ssm to use http://localhost:4583\u001b[39m\n",
      "Serverless: \u001b[33mPackaging service...\u001b[39m\n",
      "Serverless: \u001b[33mExcluding development dependencies...\u001b[39m\n",
      "Serverless: \u001b[33mCreating deployment bucket pluto.user.action.lambdas\u001b[39m\n",
      "Serverless: \u001b[33mUploading CloudFormation file to S3...\u001b[39m\n",
      "Serverless: \u001b[33mUploading artifacts...\u001b[39m\n",
      "Serverless: \u001b[33mUploading service user-activity-api.zip file to S3 (27.17 MB)...\u001b[39m\n",
      "Serverless: \u001b[33mValidating template...\u001b[39m\n",
      "Serverless: \u001b[33mSkipping template validation: Unsupported in Localstack\u001b[39m\n",
      "Serverless: \u001b[33mCreating Stack...\u001b[39m\n",
      "Serverless: \u001b[33mChecking Stack create progress...\u001b[39m\n",
      "\u001b[33m.\u001b[39m\u001b[33m.\u001b[39m\n",
      "Serverless: \u001b[33mStack create finished...\u001b[39m\n",
      "\u001b[33m\u001b[4mService Information\u001b[24m\u001b[39m\n",
      "\u001b[33mservice:\u001b[39m user-activity-api\n",
      "\u001b[33mstage:\u001b[39m local\n",
      "\u001b[33mregion:\u001b[39m eu-west-1\n",
      "\u001b[33mstack:\u001b[39m user-activity-api-local\n",
      "\u001b[33mresources:\u001b[39m 9\n",
      "\u001b[33mapi keys:\u001b[39m\n",
      "  None\n",
      "\u001b[33mendpoints:\u001b[39m\n",
      "  POST - https://A-Z7652A-ZA-Z2A-Z9.execute-api.eu-west-1.amazonaws.com/local/save\n",
      "\u001b[33mfunctions:\u001b[39m\n",
      "  save: add-savings\n",
      "\u001b[33mlayers:\u001b[39m\n",
      "  None\n"
     ]
    }
   ],
   "source": [
    "!./deploylambdas.sh"
   ]
  },
  {
   "cell_type": "code",
   "execution_count": 5,
   "metadata": {},
   "outputs": [],
   "source": [
    "dynamodb = boto3.client('dynamodb', endpoint_url = 'http://localhost:4569')\n",
    "local_lambda = boto3.client('lambda', endpoint_url = 'http://localhost:4574')"
   ]
  },
  {
   "cell_type": "code",
   "execution_count": 6,
   "metadata": {},
   "outputs": [],
   "source": [
    "def print_deployed_functions():\n",
    "    function_list = local_lambda.list_functions()\n",
    "    # print(function_list)\n",
    "    print('Function list: ', [function['FunctionName'] for function in function_list['Functions']])"
   ]
  },
  {
   "cell_type": "code",
   "execution_count": 7,
   "metadata": {},
   "outputs": [],
   "source": [
    "def generate_account(client_id = 'zar_client_co', float_id = 'zar_cash_float'):\n",
    "    first_name = names.get_first_name()\n",
    "    family_name = names.get_last_name()\n",
    "    user_id = str(uuid.uuid4())\n",
    "    return { 'clientId': client_id, 'floatId': float_id, 'ownerUserId': user_id, 'userFirstName': first_name, 'userFamilyName': family_name}"
   ]
  },
  {
   "cell_type": "code",
   "execution_count": 8,
   "metadata": {},
   "outputs": [],
   "source": [
    "def decode_lambda_result(lambda_result):\n",
    "    lambda_payload = lambda_result['Payload'].read()\n",
    "    lambda_pload_decoded = lambda_payload.decode('utf-8')\n",
    "    lambda_pload_object = json.loads(lambda_pload_decoded)\n",
    "    return lambda_pload_object"
   ]
  },
  {
   "cell_type": "code",
   "execution_count": 9,
   "metadata": {},
   "outputs": [],
   "source": [
    "def create_number_accounts(number_accounts = 1, client_id = 'zar_client_co'):\n",
    "    account_dicts = [generate_account(client_id) for i in range(number_accounts)]\n",
    "    persisted_accounts = []\n",
    "    for account in account_dicts:\n",
    "        lambda_result = local_lambda.invoke(FunctionName='create-account', InvocationType='RequestResponse', \n",
    "                                           Payload=json.dumps(account))\n",
    "        lambda_payload = json.loads(decode_lambda_result(lambda_result)['body'])\n",
    "        persisted_account = copy.deepcopy(account)\n",
    "        persisted_account['accountId'] = lambda_payload['accountId']\n",
    "        persisted_account['persistedTime'] = lambda_payload['persistedTime']\n",
    "        print('Account with ID %s persisted at %s' % (persisted_account['accountId'], persisted_account['persistedTime']))\n",
    "        persisted_accounts.append(persisted_account)\n",
    "    \n",
    "    return persisted_accounts\n",
    "    "
   ]
  },
  {
   "cell_type": "code",
   "execution_count": 10,
   "metadata": {},
   "outputs": [],
   "source": [
    "def generate_saving_transaction(account_id, ref_amount = 100, float_id = 'zar_cash_primary'):\n",
    "    current_time = datetime.datetime.now()\n",
    "    saved_amount = round(random.random() * ref_amount * 10 * 10) # random proportion of ref amount, \n",
    "    test_saving_dict = { \n",
    "        'accountId': account_id, \n",
    "        'initiationTime': str(current_time), \n",
    "        'settlementTime': str(current_time), \n",
    "        'savedAmount': saved_amount, \n",
    "        'savedCurrency': 'ZAR', \n",
    "        'savedUnit': 'HUNDREDTH_CENT',\n",
    "        'floatId': float_id\n",
    "    }\n",
    "    return test_saving_dict"
   ]
  },
  {
   "cell_type": "code",
   "execution_count": 11,
   "metadata": {},
   "outputs": [],
   "source": [
    "def seed_savings_for_accounts(accounts, tx_per_account = 1, base_amount = 100):\n",
    "    transactions = []\n",
    "    for i in range(tx_per_account):\n",
    "        transactions.extend([generate_saving_transaction(account['accountId'], base_amount) for account in accounts])\n",
    "#     print('transactions: ', transactions)\n",
    "    tx_records = []\n",
    "    for tx in transactions:\n",
    "        lambda_result = local_lambda.invoke(FunctionName='add-savings', InvocationType='RequestResponse', \n",
    "                                           Payload=json.dumps(tx, default=str))\n",
    "        lambda_payload = json.loads(decode_lambda_result(lambda_result)['body'])\n",
    "        persisted_tx = copy.deepcopy(tx)\n",
    "        persisted_tx['transactionId'] = lambda_payload['transactionDetails'][0][0]['transaction_id']\n",
    "        persisted_tx['currentBalance'] = lambda_payload['newBalance']\n",
    "        # persisted_account['persistedTime'] = lambda_payload['persistedTime']\n",
    "        print('Tx for account %s persisted with new balance %s' % (tx['accountId'], persisted_tx['currentBalance']))\n",
    "        tx_records.append(persisted_tx)\n",
    "    \n",
    "    return tx_records"
   ]
  },
  {
   "cell_type": "code",
   "execution_count": 12,
   "metadata": {},
   "outputs": [],
   "source": [
    "def run_accrual_for_float(client_id = 'zar_client_co', float_id = 'zar_cash_primary', accrued_amount = 100):\n",
    "    accrualDict = {\n",
    "        'clientId': client_id,\n",
    "        'floatId': float_id,\n",
    "        'accrualAmount': accrued_amount,\n",
    "        'currency': 'ZAR',\n",
    "        'unit': 'HUNDREDTH_CENT',\n",
    "        'backingEntityIdentifier': 'tx-id-backing'\n",
    "    }\n",
    "    lambda_result = local_lambda.invoke(FunctionName='float-api-local-accrue', InvocationType='RequestResponse', \n",
    "                                               Payload=json.dumps(accrualDict, default=str))\n",
    "    lambda_payload = json.loads(decode_lambda_result(lambda_result)['body'])\n",
    "    return lambda_payload"
   ]
  },
  {
   "cell_type": "code",
   "execution_count": 13,
   "metadata": {},
   "outputs": [
    {
     "name": "stdout",
     "output_type": "stream",
     "text": [
      "Function list:  ['float-api-local-accrue', 'create-account', 'add-savings']\n"
     ]
    }
   ],
   "source": [
    "print_deployed_functions()"
   ]
  },
  {
   "cell_type": "code",
   "execution_count": 14,
   "metadata": {},
   "outputs": [
    {
     "name": "stdout",
     "output_type": "stream",
     "text": [
      "Account with ID debb3be9-2b9c-442b-adbd-e8dd526b9671 persisted at 2019-06-23T15:12:21.452Z\n",
      "Account with ID 7faf4f5e-d0b0-473a-88d1-990f82f5d785 persisted at 2019-06-23T15:12:22.615Z\n",
      "Account with ID b3b4ea2c-174d-4bcf-9be7-8314593deaeb persisted at 2019-06-23T15:12:23.246Z\n",
      "Account with ID a261cc16-16c8-4642-bee6-de8d6430387f persisted at 2019-06-23T15:12:23.772Z\n",
      "Account with ID 682eac07-51d0-4aa9-8091-46ac47a0c74c persisted at 2019-06-23T15:12:24.303Z\n",
      "Account with ID c0a16079-f4f1-4826-a729-9e5c5ceab44e persisted at 2019-06-23T15:12:24.792Z\n",
      "Account with ID f1542815-66f8-4590-b841-27f94c865948 persisted at 2019-06-23T15:12:25.297Z\n",
      "Account with ID 477e6c3c-7ffc-4a3b-b256-ce7273d444db persisted at 2019-06-23T15:12:25.773Z\n",
      "Account with ID 3457d8b1-2918-498a-a7d4-687815595c65 persisted at 2019-06-23T15:12:26.400Z\n",
      "Account with ID ee3f4ab0-a3b3-4aef-9935-74ace7619c43 persisted at 2019-06-23T15:12:26.911Z\n"
     ]
    }
   ],
   "source": [
    "accounts = create_number_accounts(number_accounts = 10)"
   ]
  },
  {
   "cell_type": "code",
   "execution_count": 15,
   "metadata": {},
   "outputs": [
    {
     "name": "stdout",
     "output_type": "stream",
     "text": [
      "Name               AccountId\n",
      "-----------------  ------------------------------------\n",
      "Benny Steib        debb3be9-2b9c-442b-adbd-e8dd526b9671\n",
      "Regina Smith       7faf4f5e-d0b0-473a-88d1-990f82f5d785\n",
      "William Prattis    b3b4ea2c-174d-4bcf-9be7-8314593deaeb\n",
      "Vicki Galvan       a261cc16-16c8-4642-bee6-de8d6430387f\n",
      "Daniel Dickson     682eac07-51d0-4aa9-8091-46ac47a0c74c\n",
      "Christopher Hardy  c0a16079-f4f1-4826-a729-9e5c5ceab44e\n",
      "Bernice White      f1542815-66f8-4590-b841-27f94c865948\n",
      "Wayne Malone       477e6c3c-7ffc-4a3b-b256-ce7273d444db\n",
      "John Thill         3457d8b1-2918-498a-a7d4-687815595c65\n",
      "Roy Rose           ee3f4ab0-a3b3-4aef-9935-74ace7619c43\n"
     ]
    }
   ],
   "source": [
    "account_info = [{ 'Name': account['userFirstName'] + ' ' + account['userFamilyName'], \n",
    "                'AccountId': account['accountId'] } for account in accounts[:100]]\n",
    "print(tabulate.tabulate(account_info, headers = 'keys'))"
   ]
  },
  {
   "cell_type": "code",
   "execution_count": 18,
   "metadata": {},
   "outputs": [
    {
     "name": "stdout",
     "output_type": "stream",
     "text": [
      "Lambda result {'body': '{\"transactionDetails\":[[{\"transaction_id\":\"0b89a0af-979b-470e-a163-f9ed725b016b\",\"creation_time\":\"2019-06-23T15:12:54.747Z\"}],[{\"transaction_id\":\"0fcb3090-1f9e-4e03-a351-4687cfcef3b5\",\"creation_time\":\"2019-06-23T15:12:54.747Z\"},{\"transaction_id\":\"0fcb3090-1f9e-4e03-a351-4687cfcef3b5\",\"creation_time\":\"2019-06-23T15:12:54.747Z\"}]],\"newBalance\":11158}', 'statusCode': 200}\n"
     ]
    }
   ],
   "source": [
    "single_tx = generate_saving_transaction(accounts[0]['accountId'], 100)\n",
    "lambda_result = local_lambda.invoke(FunctionName='add-savings', Payload=json.dumps(single_tx, default=str))\n",
    "result_decoded = decode_lambda_result(lambda_result)\n",
    "print('Lambda result', result_decoded)"
   ]
  },
  {
   "cell_type": "code",
   "execution_count": 19,
   "metadata": {},
   "outputs": [
    {
     "name": "stdout",
     "output_type": "stream",
     "text": [
      "Tx for account debb3be9-2b9c-442b-adbd-e8dd526b9671 persisted with new balance 35897950\n",
      "Tx for account 7faf4f5e-d0b0-473a-88d1-990f82f5d785 persisted with new balance 3136636\n",
      "Tx for account b3b4ea2c-174d-4bcf-9be7-8314593deaeb persisted with new balance 63960078\n",
      "Tx for account a261cc16-16c8-4642-bee6-de8d6430387f persisted with new balance 3274044\n",
      "Tx for account 682eac07-51d0-4aa9-8091-46ac47a0c74c persisted with new balance 67856730\n",
      "Tx for account c0a16079-f4f1-4826-a729-9e5c5ceab44e persisted with new balance 81608100\n",
      "Tx for account f1542815-66f8-4590-b841-27f94c865948 persisted with new balance 81544101\n",
      "Tx for account 477e6c3c-7ffc-4a3b-b256-ce7273d444db persisted with new balance 2099594\n",
      "Tx for account 3457d8b1-2918-498a-a7d4-687815595c65 persisted with new balance 93909036\n",
      "Tx for account ee3f4ab0-a3b3-4aef-9935-74ace7619c43 persisted with new balance 25341274\n",
      "Tx for account debb3be9-2b9c-442b-adbd-e8dd526b9671 persisted with new balance 122142271\n",
      "Tx for account 7faf4f5e-d0b0-473a-88d1-990f82f5d785 persisted with new balance 86472105\n",
      "Tx for account b3b4ea2c-174d-4bcf-9be7-8314593deaeb persisted with new balance 156623063\n",
      "Tx for account a261cc16-16c8-4642-bee6-de8d6430387f persisted with new balance 34130419\n",
      "Tx for account 682eac07-51d0-4aa9-8091-46ac47a0c74c persisted with new balance 151743515\n",
      "Tx for account c0a16079-f4f1-4826-a729-9e5c5ceab44e persisted with new balance 83686312\n",
      "Tx for account f1542815-66f8-4590-b841-27f94c865948 persisted with new balance 138665585\n",
      "Tx for account 477e6c3c-7ffc-4a3b-b256-ce7273d444db persisted with new balance 93069888\n",
      "Tx for account 3457d8b1-2918-498a-a7d4-687815595c65 persisted with new balance 140266590\n",
      "Tx for account ee3f4ab0-a3b3-4aef-9935-74ace7619c43 persisted with new balance 109178955\n",
      "Tx for account debb3be9-2b9c-442b-adbd-e8dd526b9671 persisted with new balance 129718512\n",
      "Tx for account 7faf4f5e-d0b0-473a-88d1-990f82f5d785 persisted with new balance 127579021\n",
      "Tx for account b3b4ea2c-174d-4bcf-9be7-8314593deaeb persisted with new balance 244894202\n",
      "Tx for account a261cc16-16c8-4642-bee6-de8d6430387f persisted with new balance 39080455\n",
      "Tx for account 682eac07-51d0-4aa9-8091-46ac47a0c74c persisted with new balance 155477362\n",
      "Tx for account c0a16079-f4f1-4826-a729-9e5c5ceab44e persisted with new balance 84253119\n",
      "Tx for account f1542815-66f8-4590-b841-27f94c865948 persisted with new balance 163600011\n",
      "Tx for account 477e6c3c-7ffc-4a3b-b256-ce7273d444db persisted with new balance 123009133\n",
      "Tx for account 3457d8b1-2918-498a-a7d4-687815595c65 persisted with new balance 200963681\n",
      "Tx for account ee3f4ab0-a3b3-4aef-9935-74ace7619c43 persisted with new balance 168687695\n"
     ]
    }
   ],
   "source": [
    "account_balances = seed_savings_for_accounts(accounts[:100], tx_per_account = 3, base_amount = 100 * 100 * 100)"
   ]
  },
  {
   "cell_type": "code",
   "execution_count": null,
   "metadata": {},
   "outputs": [],
   "source": [
    "def merge_dataframes(accounts, account_balances):\n",
    "    df = pd.DataFrame(account_balances)\n",
    "    df = df[df['currentBalance'] == df.groupby('accountId')['currentBalance'].transform('max')]\n",
    "    df = df[['accountId', 'currentBalance']]\n",
    "    df['currentBalance'] = pd.to_numeric(df['currentBalance'])\n",
    "    df['balanceRand'] = df['currentBalance']/10000\n",
    "    account_name_df = pd.DataFrame(accounts)[['accountId', 'floatId', 'userFamilyName', 'userFirstName']]\n",
    "    account_name_df['Holder Name'] = account_name_df['userFirstName'] + ' ' + account_name_df['userFamilyName']\n",
    "    account_name_df.set_index('accountId')\n",
    "    df.set_index('accountId')\n",
    "    merged_df = pd.merge(account_name_df, df)[['accountId', 'floatId', 'Holder Name', 'balanceRand']]\n",
    "    return merged_df"
   ]
  },
  {
   "cell_type": "code",
   "execution_count": null,
   "metadata": {},
   "outputs": [],
   "source": [
    "merged_df = merge_dataframes(accounts, account_balances)"
   ]
  },
  {
   "cell_type": "code",
   "execution_count": null,
   "metadata": {},
   "outputs": [],
   "source": [
    "merged_df"
   ]
  },
  {
   "cell_type": "code",
   "execution_count": 20,
   "metadata": {},
   "outputs": [
    {
     "name": "stdout",
     "output_type": "stream",
     "text": [
      "Instructing accrual of : R 14.9734\n"
     ]
    }
   ],
   "source": [
    "amount_to_accrue = round(random.random() * 100 * 100 * 100)\n",
    "print('Instructing accrual of : R', amount_to_accrue / (100 * 100))\n",
    "accrual_result = run_accrual_for_float(accrued_amount = amount_to_accrue)\n",
    "allocation_details = json.loads(accrual_result['userAllocationTransactions']['body'])\n",
    "account_transaction_list = allocation_details['allocationRecords']['accountTxIds']\n",
    "# print(tabulate.tabulate(account_transaction_list, headers = 'keys'))"
   ]
  },
  {
   "cell_type": "code",
   "execution_count": 21,
   "metadata": {},
   "outputs": [
    {
     "name": "stdout",
     "output_type": "stream",
     "text": [
      "31 float transactions, 31 account transactions\n",
      "Sum of account additions:  119786\n",
      "Bonus allocation: 14973, and client co allocation: 14973\n",
      "Of accrual 149734, allocations 149732\n",
      "Was there a rounding allocation? :  True\n",
      "Rounding allocation record:  [{'BONUS': 'dcd9c5c4-3383-4cf3-aacb-f5a20a9d662c'}]\n"
     ]
    }
   ],
   "source": [
    "# print(accrual_result)\n",
    "account_transactions = allocation_details['allocationRecords']['accountTxIds']\n",
    "number_of_float_transactions = len(allocation_details['allocationRecords']['floatTxIds'])\n",
    "number_of_account_transactions = len(account_transactions)\n",
    "print('%d float transactions, %d account transactions' % (number_of_float_transactions, number_of_account_transactions))\n",
    "sum_of_accounts = sum([transaction['amount'] for transaction in account_transactions])\n",
    "print('Sum of account additions: ', sum_of_accounts)\n",
    "bonus_allocation = accrual_result['entityAllocations']['bonusShare']\n",
    "company_allocation = accrual_result['entityAllocations']['clientShare']\n",
    "print('Bonus allocation: %d, and client co allocation: %d' % (bonus_allocation, company_allocation))\n",
    "total_allocations = sum_of_accounts + bonus_allocation + company_allocation\n",
    "print('Of accrual %d, allocations %d' % (amount_to_accrue, total_allocations))\n",
    "rounding_allocated_to_bonus = isinstance(allocation_details['bonusAllocation'], list)\n",
    "print('Was there a rounding allocation? : ', rounding_allocated_to_bonus)\n",
    "print('Rounding allocation record: ', allocation_details['bonusAllocation'])"
   ]
  },
  {
   "cell_type": "code",
   "execution_count": null,
   "metadata": {},
   "outputs": [],
   "source": []
  }
 ],
 "metadata": {
  "kernelspec": {
   "display_name": "Python [conda env:pluto-local-dev]",
   "language": "python",
   "name": "conda-env-pluto-local-dev-py"
  },
  "language_info": {
   "codemirror_mode": {
    "name": "ipython",
    "version": 3
   },
   "file_extension": ".py",
   "mimetype": "text/x-python",
   "name": "python",
   "nbconvert_exporter": "python",
   "pygments_lexer": "ipython3",
   "version": "3.6.8"
  }
 },
 "nbformat": 4,
 "nbformat_minor": 2
}
