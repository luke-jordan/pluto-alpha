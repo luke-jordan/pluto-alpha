{
 "cells": [
  {
   "cell_type": "code",
   "execution_count": 1,
   "metadata": {},
   "outputs": [],
   "source": [
    "import boto3\n",
    "import json, uuid, copy, datetime\n",
    "import random, names, tabulate\n",
    "import pandas as pd"
   ]
  },
  {
   "cell_type": "code",
   "execution_count": 2,
   "metadata": {},
   "outputs": [],
   "source": [
    "# open_cmd_in_new_terminal(\"docker-compose up\")\n",
    "!gnome-terminal -- docker-compose up"
   ]
  },
  {
   "cell_type": "code",
   "execution_count": 3,
   "metadata": {},
   "outputs": [
    {
     "name": "stdout",
     "output_type": "stream",
     "text": [
      "Creating the DynamoDB table that holds the client floats\n",
      "{\n",
      "    \"StackId\": \"arn:aws:cloudformation:us-east-1:123456789:stack/client-float-table/d93ff508-25e8-40a6-8719-531ecf55fd9a\"\n",
      "}\n",
      "Adding in item for core, ZAR wholesale float\n"
     ]
    }
   ],
   "source": [
    "!./setuprds.sh\n",
    "!./setupdynamo.sh"
   ]
  },
  {
   "cell_type": "code",
   "execution_count": 4,
   "metadata": {},
   "outputs": [
    {
     "name": "stdout",
     "output_type": "stream",
     "text": [
      "Deploying the float lambda\n",
      "Serverless: \u001b[33mconfig.options_stage: local\u001b[39m\n",
      "Serverless: \u001b[33mserverless.service.custom.stage: undefined\u001b[39m\n",
      "Serverless: \u001b[33mserverless.service.provider.stage: dev\u001b[39m\n",
      "Serverless: \u001b[33mconfig.stage: local\u001b[39m\n",
      "Serverless: \u001b[33mUsing serverless-localstack\u001b[39m\n",
      "Serverless: \u001b[33mReconfiguring service apigateway to use http://localhost:4567\u001b[39m\n",
      "Serverless: \u001b[33mReconfiguring service cloudformation to use http://localhost:4581\u001b[39m\n",
      "Serverless: \u001b[33mReconfiguring service cloudwatch to use http://localhost:4582\u001b[39m\n",
      "Serverless: \u001b[33mReconfiguring service lambda to use http://localhost:4574\u001b[39m\n",
      "Serverless: \u001b[33mReconfiguring service dynamodb to use http://localhost:4569\u001b[39m\n",
      "Serverless: \u001b[33mReconfiguring service kinesis to use http://localhost:4568\u001b[39m\n",
      "Serverless: \u001b[33mReconfiguring service route53 to use http://localhost:4580\u001b[39m\n",
      "Serverless: \u001b[33mReconfiguring service firehose to use http://localhost:4573\u001b[39m\n",
      "Serverless: \u001b[33mReconfiguring service stepfunctions to use http://localhost:4585\u001b[39m\n",
      "Serverless: \u001b[33mReconfiguring service es to use http://localhost:4578\u001b[39m\n",
      "Serverless: \u001b[33mReconfiguring service s3 to use http://localhost:4572\u001b[39m\n",
      "Serverless: \u001b[33mReconfiguring service ses to use http://localhost:4579\u001b[39m\n",
      "Serverless: \u001b[33mReconfiguring service sns to use http://localhost:4575\u001b[39m\n",
      "Serverless: \u001b[33mReconfiguring service sqs to use http://localhost:4576\u001b[39m\n",
      "Serverless: \u001b[33mReconfiguring service sts to use http://localhost:4592\u001b[39m\n",
      "Serverless: \u001b[33mReconfiguring service iam to use http://localhost:4593\u001b[39m\n",
      "Serverless: \u001b[33mReconfiguring service ssm to use http://localhost:4583\u001b[39m\n",
      "Serverless: \u001b[33mPackaging service...\u001b[39m\n",
      "Serverless: \u001b[33mExcluding development dependencies...\u001b[39m\n",
      "Serverless: \u001b[33mCreating deployment bucket pluto.float.lambdas\u001b[39m\n",
      "Serverless: \u001b[33mUploading CloudFormation file to S3...\u001b[39m\n",
      "Serverless: \u001b[33mUploading artifacts...\u001b[39m\n",
      "Serverless: \u001b[33mUploading service float-api.zip file to S3 (27.19 MB)...\u001b[39m\n",
      "Serverless: \u001b[33mValidating template...\u001b[39m\n",
      "Serverless: \u001b[33mSkipping template validation: Unsupported in Localstack\u001b[39m\n",
      "Serverless: \u001b[33mCreating Stack...\u001b[39m\n",
      "Serverless: \u001b[33mChecking Stack create progress...\u001b[39m\n",
      "\u001b[33m.\u001b[39m\u001b[33m.\u001b[39m\n",
      "Serverless: \u001b[33mStack create finished...\u001b[39m\n",
      "\u001b[33m\u001b[4mService Information\u001b[24m\u001b[39m\n",
      "\u001b[33mservice:\u001b[39m float-api\n",
      "\u001b[33mstage:\u001b[39m local\n",
      "\u001b[33mregion:\u001b[39m eu-west-1\n",
      "\u001b[33mstack:\u001b[39m float-api-local\n",
      "\u001b[33mresources:\u001b[39m 9\n",
      "\u001b[33mapi keys:\u001b[39m\n",
      "  None\n",
      "\u001b[33mendpoints:\u001b[39m\n",
      "  POST - https://2894603833.execute-api.eu-west-1.amazonaws.com/local/save\n",
      "\u001b[33mfunctions:\u001b[39m\n",
      "  accrue: float-api-local-accrue\n",
      "\u001b[33mlayers:\u001b[39m\n",
      "  None\n",
      "Serverless: \u001b[33mRecoverable error occurred (Inaccessible host: `logs.eu-west-1.amazonaws.com'. This service may not be available in the `eu-west-1' region.), sleeping for 5 seconds. Try 1 of 4\u001b[39m\n",
      "Serverless: \u001b[33mRecoverable error occurred (Inaccessible host: `logs.eu-west-1.amazonaws.com'. This service may not be available in the `eu-west-1' region.), sleeping for 5 seconds. Try 2 of 4\u001b[39m\n",
      "Serverless: \u001b[33mRecoverable error occurred (Inaccessible host: `logs.eu-west-1.amazonaws.com'. This service may not be available in the `eu-west-1' region.), sleeping for 5 seconds. Try 3 of 4\u001b[39m\n",
      "Serverless: \u001b[33mRecoverable error occurred (Inaccessible host: `logs.eu-west-1.amazonaws.com'. This service may not be available in the `eu-west-1' region.), sleeping for 5 seconds. Try 4 of 4\u001b[39m\n",
      "Deploying the user account mgmt lambda\n",
      "Serverless: \u001b[33mconfig.options_stage: local\u001b[39m\n",
      "Serverless: \u001b[33mserverless.service.custom.stage: local\u001b[39m\n",
      "Serverless: \u001b[33mserverless.service.provider.stage: local\u001b[39m\n",
      "Serverless: \u001b[33mconfig.stage: local\u001b[39m\n",
      "Serverless: \u001b[33mUsing serverless-localstack\u001b[39m\n",
      "Serverless: \u001b[33mReconfiguring service apigateway to use http://localhost:4567\u001b[39m\n",
      "Serverless: \u001b[33mReconfiguring service cloudformation to use http://localhost:4581\u001b[39m\n",
      "Serverless: \u001b[33mReconfiguring service cloudwatch to use http://localhost:4582\u001b[39m\n",
      "Serverless: \u001b[33mReconfiguring service lambda to use http://localhost:4574\u001b[39m\n",
      "Serverless: \u001b[33mReconfiguring service dynamodb to use http://localhost:4569\u001b[39m\n",
      "Serverless: \u001b[33mReconfiguring service kinesis to use http://localhost:4568\u001b[39m\n",
      "Serverless: \u001b[33mReconfiguring service route53 to use http://localhost:4580\u001b[39m\n",
      "Serverless: \u001b[33mReconfiguring service firehose to use http://localhost:4573\u001b[39m\n",
      "Serverless: \u001b[33mReconfiguring service stepfunctions to use http://localhost:4585\u001b[39m\n",
      "Serverless: \u001b[33mReconfiguring service es to use http://localhost:4578\u001b[39m\n",
      "Serverless: \u001b[33mReconfiguring service s3 to use http://localhost:4572\u001b[39m\n",
      "Serverless: \u001b[33mReconfiguring service ses to use http://localhost:4579\u001b[39m\n",
      "Serverless: \u001b[33mReconfiguring service sns to use http://localhost:4575\u001b[39m\n",
      "Serverless: \u001b[33mReconfiguring service sqs to use http://localhost:4576\u001b[39m\n",
      "Serverless: \u001b[33mReconfiguring service sts to use http://localhost:4592\u001b[39m\n",
      "Serverless: \u001b[33mReconfiguring service iam to use http://localhost:4593\u001b[39m\n",
      "Serverless: \u001b[33mReconfiguring service ssm to use http://localhost:4583\u001b[39m\n",
      "Serverless: \u001b[33mPackaging service...\u001b[39m\n",
      "Serverless: \u001b[33mExcluding development dependencies...\u001b[39m\n",
      "Serverless: \u001b[33mCreating deployment bucket pluto.user.existence.lambdas\u001b[39m\n",
      "Serverless: \u001b[33mUploading CloudFormation file to S3...\u001b[39m\n",
      "Serverless: \u001b[33mUploading artifacts...\u001b[39m\n",
      "Serverless: \u001b[33mUploading service user-existence-api.zip file to S3 (34.19 MB)...\u001b[39m\n",
      "Serverless: \u001b[33mValidating template...\u001b[39m\n",
      "Serverless: \u001b[33mSkipping template validation: Unsupported in Localstack\u001b[39m\n",
      "Serverless: \u001b[33mCreating Stack...\u001b[39m\n",
      "Serverless: \u001b[33mChecking Stack create progress...\u001b[39m\n",
      "\u001b[33m.\u001b[39m\u001b[33m.\u001b[39m\n",
      "Serverless: \u001b[33mStack create finished...\u001b[39m\n",
      "\u001b[33m\u001b[4mService Information\u001b[24m\u001b[39m\n",
      "\u001b[33mservice:\u001b[39m user-existence-api\n",
      "\u001b[33mstage:\u001b[39m local\n",
      "\u001b[33mregion:\u001b[39m eu-west-1\n",
      "\u001b[33mstack:\u001b[39m user-existence-api-local\n",
      "\u001b[33mresources:\u001b[39m 9\n",
      "\u001b[33mapi keys:\u001b[39m\n",
      "  None\n",
      "\u001b[33mendpoints:\u001b[39m\n",
      "  POST - https://324499097A-Z.execute-api.eu-west-1.amazonaws.com/local/create\n",
      "\u001b[33mfunctions:\u001b[39m\n",
      "  create: create-account\n",
      "\u001b[33mlayers:\u001b[39m\n",
      "  None\n",
      "Serverless: \u001b[33mRecoverable error occurred (Inaccessible host: `logs.eu-west-1.amazonaws.com'. This service may not be available in the `eu-west-1' region.), sleeping for 5 seconds. Try 1 of 4\u001b[39m\n",
      "Serverless: \u001b[33mRecoverable error occurred (Inaccessible host: `logs.eu-west-1.amazonaws.com'. This service may not be available in the `eu-west-1' region.), sleeping for 5 seconds. Try 2 of 4\u001b[39m\n",
      "Serverless: \u001b[33mRecoverable error occurred (Inaccessible host: `logs.eu-west-1.amazonaws.com'. This service may not be available in the `eu-west-1' region.), sleeping for 5 seconds. Try 3 of 4\u001b[39m\n",
      "Serverless: \u001b[33mRecoverable error occurred (Inaccessible host: `logs.eu-west-1.amazonaws.com'. This service may not be available in the `eu-west-1' region.), sleeping for 5 seconds. Try 4 of 4\u001b[39m\n",
      "Deploying the save transaction lambda\n",
      "Serverless: \u001b[33mconfig.options_stage: local\u001b[39m\n",
      "Serverless: \u001b[33mserverless.service.custom.stage: undefined\u001b[39m\n",
      "Serverless: \u001b[33mserverless.service.provider.stage: dev\u001b[39m\n",
      "Serverless: \u001b[33mconfig.stage: local\u001b[39m\n",
      "Serverless: \u001b[33mUsing serverless-localstack\u001b[39m\n",
      "Serverless: \u001b[33mReconfiguring service apigateway to use http://localhost:4567\u001b[39m\n",
      "Serverless: \u001b[33mReconfiguring service cloudformation to use http://localhost:4581\u001b[39m\n",
      "Serverless: \u001b[33mReconfiguring service cloudwatch to use http://localhost:4582\u001b[39m\n",
      "Serverless: \u001b[33mReconfiguring service lambda to use http://localhost:4574\u001b[39m\n",
      "Serverless: \u001b[33mReconfiguring service dynamodb to use http://localhost:4569\u001b[39m\n",
      "Serverless: \u001b[33mReconfiguring service kinesis to use http://localhost:4568\u001b[39m\n",
      "Serverless: \u001b[33mReconfiguring service route53 to use http://localhost:4580\u001b[39m\n",
      "Serverless: \u001b[33mReconfiguring service firehose to use http://localhost:4573\u001b[39m\n",
      "Serverless: \u001b[33mReconfiguring service stepfunctions to use http://localhost:4585\u001b[39m\n",
      "Serverless: \u001b[33mReconfiguring service es to use http://localhost:4578\u001b[39m\n",
      "Serverless: \u001b[33mReconfiguring service s3 to use http://localhost:4572\u001b[39m\n",
      "Serverless: \u001b[33mReconfiguring service ses to use http://localhost:4579\u001b[39m\n",
      "Serverless: \u001b[33mReconfiguring service sns to use http://localhost:4575\u001b[39m\n",
      "Serverless: \u001b[33mReconfiguring service sqs to use http://localhost:4576\u001b[39m\n",
      "Serverless: \u001b[33mReconfiguring service sts to use http://localhost:4592\u001b[39m\n",
      "Serverless: \u001b[33mReconfiguring service iam to use http://localhost:4593\u001b[39m\n",
      "Serverless: \u001b[33mReconfiguring service ssm to use http://localhost:4583\u001b[39m\n"
     ]
    },
    {
     "name": "stdout",
     "output_type": "stream",
     "text": [
      "Serverless: \u001b[33mPackaging service...\u001b[39m\n",
      "Serverless: \u001b[33mExcluding development dependencies...\u001b[39m\n",
      "Serverless: \u001b[33mCreating deployment bucket pluto.user.action.lambdas\u001b[39m\n",
      "Serverless: \u001b[33mUploading CloudFormation file to S3...\u001b[39m\n",
      "Serverless: \u001b[33mUploading artifacts...\u001b[39m\n",
      "Serverless: \u001b[33mUploading service user-activity-api.zip file to S3 (27.17 MB)...\u001b[39m\n",
      "Serverless: \u001b[33mValidating template...\u001b[39m\n",
      "Serverless: \u001b[33mSkipping template validation: Unsupported in Localstack\u001b[39m\n",
      "Serverless: \u001b[33mCreating Stack...\u001b[39m\n",
      "Serverless: \u001b[33mChecking Stack create progress...\u001b[39m\n",
      "\u001b[33m.\u001b[39m\u001b[33m.\u001b[39m\n",
      "Serverless: \u001b[33mStack create finished...\u001b[39m\n",
      "\u001b[33m\u001b[4mService Information\u001b[24m\u001b[39m\n",
      "\u001b[33mservice:\u001b[39m user-activity-api\n",
      "\u001b[33mstage:\u001b[39m local\n",
      "\u001b[33mregion:\u001b[39m eu-west-1\n",
      "\u001b[33mstack:\u001b[39m user-activity-api-local\n",
      "\u001b[33mresources:\u001b[39m 9\n",
      "\u001b[33mapi keys:\u001b[39m\n",
      "  None\n",
      "\u001b[33mendpoints:\u001b[39m\n",
      "  POST - https://58822A-Z1033.execute-api.eu-west-1.amazonaws.com/local/save\n",
      "\u001b[33mfunctions:\u001b[39m\n",
      "  save: add-savings\n",
      "\u001b[33mlayers:\u001b[39m\n",
      "  None\n",
      "Serverless: \u001b[33mRecoverable error occurred (Inaccessible host: `logs.eu-west-1.amazonaws.com'. This service may not be available in the `eu-west-1' region.), sleeping for 5 seconds. Try 1 of 4\u001b[39m\n",
      "Serverless: \u001b[33mRecoverable error occurred (Inaccessible host: `logs.eu-west-1.amazonaws.com'. This service may not be available in the `eu-west-1' region.), sleeping for 5 seconds. Try 2 of 4\u001b[39m\n",
      "Serverless: \u001b[33mRecoverable error occurred (Inaccessible host: `logs.eu-west-1.amazonaws.com'. This service may not be available in the `eu-west-1' region.), sleeping for 5 seconds. Try 3 of 4\u001b[39m\n",
      "Serverless: \u001b[33mRecoverable error occurred (Inaccessible host: `logs.eu-west-1.amazonaws.com'. This service may not be available in the `eu-west-1' region.), sleeping for 5 seconds. Try 4 of 4\u001b[39m\n"
     ]
    }
   ],
   "source": [
    "!./deploylambdas.sh"
   ]
  },
  {
   "cell_type": "code",
   "execution_count": 5,
   "metadata": {},
   "outputs": [],
   "source": [
    "dynamodb = boto3.client('dynamodb', endpoint_url = 'http://localhost:4569')\n",
    "local_lambda = boto3.client('lambda', endpoint_url = 'http://localhost:4574')"
   ]
  },
  {
   "cell_type": "code",
   "execution_count": 6,
   "metadata": {},
   "outputs": [],
   "source": [
    "def print_deployed_functions():\n",
    "    function_list = local_lambda.list_functions()\n",
    "    # print(function_list)\n",
    "    print('Function list: ', [function['FunctionName'] for function in function_list['Functions']])"
   ]
  },
  {
   "cell_type": "code",
   "execution_count": 16,
   "metadata": {},
   "outputs": [],
   "source": [
    "def generate_account(client_id = 'zar_client_co', float_id = 'zar_cash_float'):\n",
    "    first_name = names.get_first_name()\n",
    "    family_name = names.get_last_name()\n",
    "    user_id = str(uuid.uuid4())\n",
    "    return { 'clientId': client_id, 'floatId': float_id, 'ownerUserId': user_id, 'userFirstName': first_name, 'userFamilyName': family_name}"
   ]
  },
  {
   "cell_type": "code",
   "execution_count": 17,
   "metadata": {},
   "outputs": [],
   "source": [
    "def decode_lambda_result(lambda_result):\n",
    "    lambda_payload = lambda_result['Payload'].read()\n",
    "    lambda_pload_decoded = lambda_payload.decode('utf-8')\n",
    "    lambda_pload_object = json.loads(lambda_pload_decoded)\n",
    "    return lambda_pload_object"
   ]
  },
  {
   "cell_type": "code",
   "execution_count": 18,
   "metadata": {},
   "outputs": [],
   "source": [
    "def create_number_accounts(number_accounts = 1, client_id = 'zar_client_co'):\n",
    "    account_dicts = [generate_account(client_id) for i in range(number_accounts)]\n",
    "    persisted_accounts = []\n",
    "    for account in account_dicts:\n",
    "        lambda_result = local_lambda.invoke(FunctionName='create-account', InvocationType='RequestResponse', \n",
    "                                           Payload=json.dumps(account))\n",
    "        lambda_payload = json.loads(decode_lambda_result(lambda_result)['body'])\n",
    "        persisted_account = copy.deepcopy(account)\n",
    "        persisted_account['accountId'] = lambda_payload['accountId']\n",
    "        persisted_account['persistedTime'] = lambda_payload['persistedTime']\n",
    "        print('Account with ID %s persisted at %s' % (persisted_account['accountId'], persisted_account['persistedTime']))\n",
    "        persisted_accounts.append(persisted_account)\n",
    "    \n",
    "    return persisted_accounts\n",
    "    "
   ]
  },
  {
   "cell_type": "code",
   "execution_count": 19,
   "metadata": {},
   "outputs": [],
   "source": [
    "def generate_saving_transaction(account_id, ref_amount = 100, float_id = 'zar_cash_primary'):\n",
    "    current_time = datetime.datetime.now()\n",
    "    saved_amount = round(random.random() * ref_amount * 10 * 10) # random proportion of ref amount, \n",
    "    test_saving_dict = { \n",
    "        'accountId': account_id, \n",
    "        'initiationTime': str(current_time), \n",
    "        'settlementTime': str(current_time), \n",
    "        'savedAmount': saved_amount, \n",
    "        'savedCurrency': 'ZAR', \n",
    "        'savedUnit': 'HUNDREDTH_CENT',\n",
    "        'floatId': float_id\n",
    "    }\n",
    "    return test_saving_dict"
   ]
  },
  {
   "cell_type": "code",
   "execution_count": 20,
   "metadata": {},
   "outputs": [],
   "source": [
    "def seed_savings_for_accounts(accounts, tx_per_account = 1, base_amount = 100):\n",
    "    transactions = []\n",
    "    for i in range(tx_per_account):\n",
    "        transactions.extend([generate_saving_transaction(account['accountId'], base_amount) for account in accounts])\n",
    "#     print('transactions: ', transactions)\n",
    "    tx_records = []\n",
    "    for tx in transactions:\n",
    "        lambda_result = local_lambda.invoke(FunctionName='add-savings', InvocationType='RequestResponse', \n",
    "                                           Payload=json.dumps(tx, default=str))\n",
    "        lambda_payload = json.loads(decode_lambda_result(lambda_result)['body'])\n",
    "        persisted_tx = copy.deepcopy(tx)\n",
    "        persisted_tx['transactionId'] = lambda_payload['transactionDetails'][0][0]['transaction_id']\n",
    "        persisted_tx['currentBalance'] = lambda_payload['newBalance']\n",
    "        # persisted_account['persistedTime'] = lambda_payload['persistedTime']\n",
    "        print('Tx for account %s persisted with new balance %s' % (tx['accountId'], persisted_tx['currentBalance']))\n",
    "        tx_records.append(persisted_tx)\n",
    "    \n",
    "    return tx_records"
   ]
  },
  {
   "cell_type": "code",
   "execution_count": 7,
   "metadata": {},
   "outputs": [
    {
     "name": "stdout",
     "output_type": "stream",
     "text": [
      "Function list:  ['float-api-local-accrue', 'create-account', 'add-savings']\n"
     ]
    }
   ],
   "source": [
    "print_deployed_functions()"
   ]
  },
  {
   "cell_type": "code",
   "execution_count": 21,
   "metadata": {},
   "outputs": [
    {
     "name": "stdout",
     "output_type": "stream",
     "text": [
      "Account with ID 608fcab1-73dd-49e0-9a00-43e3fcc61b7d persisted at 2019-06-21T17:03:55.221Z\n",
      "Account with ID 27c5209b-41b5-4884-87f3-92742e5e3888 persisted at 2019-06-21T17:03:55.716Z\n",
      "Account with ID d1ece789-3c78-4d65-81a8-5759137acc16 persisted at 2019-06-21T17:03:56.258Z\n",
      "Account with ID 605e543b-08db-4f58-8355-d7d457db9942 persisted at 2019-06-21T17:03:56.730Z\n",
      "Account with ID 5956efab-307a-4976-8f70-40c14b933920 persisted at 2019-06-21T17:03:57.230Z\n",
      "Account with ID f1c91b93-5a3c-4dd1-bf33-e53eac7cc016 persisted at 2019-06-21T17:03:57.797Z\n",
      "Account with ID c42b1c68-bc79-464a-a7a9-baf9bc933ebf persisted at 2019-06-21T17:03:58.375Z\n",
      "Account with ID 256e01d2-1e93-4a71-b81d-f478c386ee37 persisted at 2019-06-21T17:03:58.906Z\n",
      "Account with ID 6772dd6a-81dd-4ffd-ba95-66c03f8584b6 persisted at 2019-06-21T17:03:59.431Z\n",
      "Account with ID 8b057c21-9b6e-454b-827b-edda7bf1940b persisted at 2019-06-21T17:03:59.966Z\n"
     ]
    }
   ],
   "source": [
    "accounts = create_number_accounts(number_accounts = 10)"
   ]
  },
  {
   "cell_type": "code",
   "execution_count": 22,
   "metadata": {},
   "outputs": [
    {
     "name": "stdout",
     "output_type": "stream",
     "text": [
      "Name                AccountId\n",
      "------------------  ------------------------------------\n",
      "Barbara Hartness    608fcab1-73dd-49e0-9a00-43e3fcc61b7d\n",
      "Belinda Howell      27c5209b-41b5-4884-87f3-92742e5e3888\n",
      "Bertha Rosa         d1ece789-3c78-4d65-81a8-5759137acc16\n",
      "Constance Fletcher  605e543b-08db-4f58-8355-d7d457db9942\n",
      "Georgia Kueny       5956efab-307a-4976-8f70-40c14b933920\n",
      "Steven Butler       f1c91b93-5a3c-4dd1-bf33-e53eac7cc016\n",
      "William Bostian     c42b1c68-bc79-464a-a7a9-baf9bc933ebf\n",
      "Annie Turner        256e01d2-1e93-4a71-b81d-f478c386ee37\n",
      "Julia Reier         6772dd6a-81dd-4ffd-ba95-66c03f8584b6\n",
      "Betty Erickson      8b057c21-9b6e-454b-827b-edda7bf1940b\n"
     ]
    }
   ],
   "source": [
    "account_info = [{ 'Name': account['userFirstName'] + ' ' + account['userFamilyName'], \n",
    "                'AccountId': account['accountId'] } for account in accounts[:100]]\n",
    "print(tabulate.tabulate(account_info, headers = 'keys'))"
   ]
  },
  {
   "cell_type": "code",
   "execution_count": 23,
   "metadata": {},
   "outputs": [
    {
     "name": "stdout",
     "output_type": "stream",
     "text": [
      "Lambda result {'body': '{\"transactionDetails\":[[{\"transaction_id\":\"21368a1a-9621-4207-9032-9e6bf0b88dce\",\"creation_time\":\"2019-06-21T17:04:20.330Z\"}],[{\"transaction_id\":\"d6ea7810-29a8-488f-924e-c7361eae579f\",\"creation_time\":\"2019-06-21T17:04:20.330Z\"},{\"transaction_id\":\"d6ea7810-29a8-488f-924e-c7361eae579f\",\"creation_time\":\"2019-06-21T17:04:20.330Z\"}]],\"newBalance\":508}', 'statusCode': 200}\n"
     ]
    }
   ],
   "source": [
    "single_tx = generate_saving_transaction(accounts[0]['accountId'], 100)\n",
    "lambda_result = local_lambda.invoke(FunctionName='add-savings', Payload=json.dumps(single_tx, default=str))\n",
    "result_decoded = decode_lambda_result(lambda_result)\n",
    "print('Lambda result', result_decoded)"
   ]
  },
  {
   "cell_type": "code",
   "execution_count": 24,
   "metadata": {},
   "outputs": [
    {
     "name": "stdout",
     "output_type": "stream",
     "text": [
      "Tx for account 608fcab1-73dd-49e0-9a00-43e3fcc61b7d persisted with new balance 23729272\n",
      "Tx for account 27c5209b-41b5-4884-87f3-92742e5e3888 persisted with new balance 94441307\n",
      "Tx for account d1ece789-3c78-4d65-81a8-5759137acc16 persisted with new balance 70097762\n",
      "Tx for account 605e543b-08db-4f58-8355-d7d457db9942 persisted with new balance 74275000\n",
      "Tx for account 5956efab-307a-4976-8f70-40c14b933920 persisted with new balance 25605754\n",
      "Tx for account f1c91b93-5a3c-4dd1-bf33-e53eac7cc016 persisted with new balance 96123129\n",
      "Tx for account c42b1c68-bc79-464a-a7a9-baf9bc933ebf persisted with new balance 91492664\n",
      "Tx for account 256e01d2-1e93-4a71-b81d-f478c386ee37 persisted with new balance 62482365\n",
      "Tx for account 6772dd6a-81dd-4ffd-ba95-66c03f8584b6 persisted with new balance 46328481\n",
      "Tx for account 8b057c21-9b6e-454b-827b-edda7bf1940b persisted with new balance 67698268\n",
      "Tx for account 608fcab1-73dd-49e0-9a00-43e3fcc61b7d persisted with new balance 104755158\n",
      "Tx for account 27c5209b-41b5-4884-87f3-92742e5e3888 persisted with new balance 174302057\n",
      "Tx for account d1ece789-3c78-4d65-81a8-5759137acc16 persisted with new balance 126798341\n",
      "Tx for account 605e543b-08db-4f58-8355-d7d457db9942 persisted with new balance 109046259\n",
      "Tx for account 5956efab-307a-4976-8f70-40c14b933920 persisted with new balance 82190091\n",
      "Tx for account f1c91b93-5a3c-4dd1-bf33-e53eac7cc016 persisted with new balance 176434311\n",
      "Tx for account c42b1c68-bc79-464a-a7a9-baf9bc933ebf persisted with new balance 107208361\n",
      "Tx for account 256e01d2-1e93-4a71-b81d-f478c386ee37 persisted with new balance 75332842\n",
      "Tx for account 6772dd6a-81dd-4ffd-ba95-66c03f8584b6 persisted with new balance 126010090\n",
      "Tx for account 8b057c21-9b6e-454b-827b-edda7bf1940b persisted with new balance 108570017\n",
      "Tx for account 608fcab1-73dd-49e0-9a00-43e3fcc61b7d persisted with new balance 113007903\n",
      "Tx for account 27c5209b-41b5-4884-87f3-92742e5e3888 persisted with new balance 204517596\n",
      "Tx for account d1ece789-3c78-4d65-81a8-5759137acc16 persisted with new balance 151394053\n",
      "Tx for account 605e543b-08db-4f58-8355-d7d457db9942 persisted with new balance 162167434\n",
      "Tx for account 5956efab-307a-4976-8f70-40c14b933920 persisted with new balance 120515018\n",
      "Tx for account f1c91b93-5a3c-4dd1-bf33-e53eac7cc016 persisted with new balance 235657509\n",
      "Tx for account c42b1c68-bc79-464a-a7a9-baf9bc933ebf persisted with new balance 122833394\n",
      "Tx for account 256e01d2-1e93-4a71-b81d-f478c386ee37 persisted with new balance 155194452\n",
      "Tx for account 6772dd6a-81dd-4ffd-ba95-66c03f8584b6 persisted with new balance 152084063\n",
      "Tx for account 8b057c21-9b6e-454b-827b-edda7bf1940b persisted with new balance 147926937\n"
     ]
    }
   ],
   "source": [
    "account_balances = seed_savings_for_accounts(accounts[:100], tx_per_account = 3, base_amount = 100 * 100 * 100)"
   ]
  },
  {
   "cell_type": "code",
   "execution_count": 25,
   "metadata": {},
   "outputs": [],
   "source": [
    "def merge_dataframes(accounts, account_balances):\n",
    "    df = pd.DataFrame(account_balances)\n",
    "    df = df[df['currentBalance'] == df.groupby('accountId')['currentBalance'].transform('max')]\n",
    "    df = df[['accountId', 'currentBalance']]\n",
    "    df['currentBalance'] = pd.to_numeric(df['currentBalance'])\n",
    "    df['balanceRand'] = df['currentBalance']/10000\n",
    "    account_name_df = pd.DataFrame(accounts)[['accountId', 'floatId', 'userFamilyName', 'userFirstName']]\n",
    "    account_name_df['Holder Name'] = account_name_df['userFirstName'] + ' ' + account_name_df['userFamilyName']\n",
    "    account_name_df.set_index('accountId')\n",
    "    df.set_index('accountId')\n",
    "    merged_df = pd.merge(account_name_df, df)[['accountId', 'floatId', 'Holder Name', 'balanceRand']]\n",
    "    return merged_df"
   ]
  },
  {
   "cell_type": "code",
   "execution_count": 26,
   "metadata": {},
   "outputs": [],
   "source": [
    "merged_df = merge_dataframes(accounts, account_balances)"
   ]
  },
  {
   "cell_type": "code",
   "execution_count": 27,
   "metadata": {},
   "outputs": [
    {
     "data": {
      "text/html": [
       "<div>\n",
       "<style scoped>\n",
       "    .dataframe tbody tr th:only-of-type {\n",
       "        vertical-align: middle;\n",
       "    }\n",
       "\n",
       "    .dataframe tbody tr th {\n",
       "        vertical-align: top;\n",
       "    }\n",
       "\n",
       "    .dataframe thead th {\n",
       "        text-align: right;\n",
       "    }\n",
       "</style>\n",
       "<table border=\"1\" class=\"dataframe\">\n",
       "  <thead>\n",
       "    <tr style=\"text-align: right;\">\n",
       "      <th></th>\n",
       "      <th>accountId</th>\n",
       "      <th>floatId</th>\n",
       "      <th>Holder Name</th>\n",
       "      <th>balanceRand</th>\n",
       "    </tr>\n",
       "  </thead>\n",
       "  <tbody>\n",
       "    <tr>\n",
       "      <th>0</th>\n",
       "      <td>608fcab1-73dd-49e0-9a00-43e3fcc61b7d</td>\n",
       "      <td>zar_cash_float</td>\n",
       "      <td>Barbara Hartness</td>\n",
       "      <td>11300.7903</td>\n",
       "    </tr>\n",
       "    <tr>\n",
       "      <th>1</th>\n",
       "      <td>27c5209b-41b5-4884-87f3-92742e5e3888</td>\n",
       "      <td>zar_cash_float</td>\n",
       "      <td>Belinda Howell</td>\n",
       "      <td>20451.7596</td>\n",
       "    </tr>\n",
       "    <tr>\n",
       "      <th>2</th>\n",
       "      <td>d1ece789-3c78-4d65-81a8-5759137acc16</td>\n",
       "      <td>zar_cash_float</td>\n",
       "      <td>Bertha Rosa</td>\n",
       "      <td>15139.4053</td>\n",
       "    </tr>\n",
       "    <tr>\n",
       "      <th>3</th>\n",
       "      <td>605e543b-08db-4f58-8355-d7d457db9942</td>\n",
       "      <td>zar_cash_float</td>\n",
       "      <td>Constance Fletcher</td>\n",
       "      <td>16216.7434</td>\n",
       "    </tr>\n",
       "    <tr>\n",
       "      <th>4</th>\n",
       "      <td>5956efab-307a-4976-8f70-40c14b933920</td>\n",
       "      <td>zar_cash_float</td>\n",
       "      <td>Georgia Kueny</td>\n",
       "      <td>12051.5018</td>\n",
       "    </tr>\n",
       "    <tr>\n",
       "      <th>5</th>\n",
       "      <td>f1c91b93-5a3c-4dd1-bf33-e53eac7cc016</td>\n",
       "      <td>zar_cash_float</td>\n",
       "      <td>Steven Butler</td>\n",
       "      <td>23565.7509</td>\n",
       "    </tr>\n",
       "    <tr>\n",
       "      <th>6</th>\n",
       "      <td>c42b1c68-bc79-464a-a7a9-baf9bc933ebf</td>\n",
       "      <td>zar_cash_float</td>\n",
       "      <td>William Bostian</td>\n",
       "      <td>12283.3394</td>\n",
       "    </tr>\n",
       "    <tr>\n",
       "      <th>7</th>\n",
       "      <td>256e01d2-1e93-4a71-b81d-f478c386ee37</td>\n",
       "      <td>zar_cash_float</td>\n",
       "      <td>Annie Turner</td>\n",
       "      <td>15519.4452</td>\n",
       "    </tr>\n",
       "    <tr>\n",
       "      <th>8</th>\n",
       "      <td>6772dd6a-81dd-4ffd-ba95-66c03f8584b6</td>\n",
       "      <td>zar_cash_float</td>\n",
       "      <td>Julia Reier</td>\n",
       "      <td>15208.4063</td>\n",
       "    </tr>\n",
       "    <tr>\n",
       "      <th>9</th>\n",
       "      <td>8b057c21-9b6e-454b-827b-edda7bf1940b</td>\n",
       "      <td>zar_cash_float</td>\n",
       "      <td>Betty Erickson</td>\n",
       "      <td>14792.6937</td>\n",
       "    </tr>\n",
       "  </tbody>\n",
       "</table>\n",
       "</div>"
      ],
      "text/plain": [
       "                              accountId         floatId         Holder Name  \\\n",
       "0  608fcab1-73dd-49e0-9a00-43e3fcc61b7d  zar_cash_float    Barbara Hartness   \n",
       "1  27c5209b-41b5-4884-87f3-92742e5e3888  zar_cash_float      Belinda Howell   \n",
       "2  d1ece789-3c78-4d65-81a8-5759137acc16  zar_cash_float         Bertha Rosa   \n",
       "3  605e543b-08db-4f58-8355-d7d457db9942  zar_cash_float  Constance Fletcher   \n",
       "4  5956efab-307a-4976-8f70-40c14b933920  zar_cash_float       Georgia Kueny   \n",
       "5  f1c91b93-5a3c-4dd1-bf33-e53eac7cc016  zar_cash_float       Steven Butler   \n",
       "6  c42b1c68-bc79-464a-a7a9-baf9bc933ebf  zar_cash_float     William Bostian   \n",
       "7  256e01d2-1e93-4a71-b81d-f478c386ee37  zar_cash_float        Annie Turner   \n",
       "8  6772dd6a-81dd-4ffd-ba95-66c03f8584b6  zar_cash_float         Julia Reier   \n",
       "9  8b057c21-9b6e-454b-827b-edda7bf1940b  zar_cash_float      Betty Erickson   \n",
       "\n",
       "   balanceRand  \n",
       "0   11300.7903  \n",
       "1   20451.7596  \n",
       "2   15139.4053  \n",
       "3   16216.7434  \n",
       "4   12051.5018  \n",
       "5   23565.7509  \n",
       "6   12283.3394  \n",
       "7   15519.4452  \n",
       "8   15208.4063  \n",
       "9   14792.6937  "
      ]
     },
     "execution_count": 27,
     "metadata": {},
     "output_type": "execute_result"
    }
   ],
   "source": [
    "merged_df"
   ]
  },
  {
   "cell_type": "code",
   "execution_count": 28,
   "metadata": {},
   "outputs": [
    {
     "data": {
      "text/plain": [
       "{'ResponseMetadata': {'HTTPStatusCode': 200,\n",
       "  'HTTPHeaders': {'content-type': 'application/json',\n",
       "   'content-length': '2240',\n",
       "   'access-control-allow-origin': '*',\n",
       "   'server': 'Werkzeug/0.15.4 Python/3.6.8',\n",
       "   'date': 'Fri, 21 Jun 2019 17:04:56 GMT'},\n",
       "  'RetryAttempts': 0},\n",
       " 'StatusCode': 200,\n",
       " 'Payload': <botocore.response.StreamingBody at 0x7f98cd844b70>}"
      ]
     },
     "execution_count": 28,
     "metadata": {},
     "output_type": "execute_result"
    }
   ],
   "source": [
    "accrualDict = {\n",
    "    'clientId': 'zar_client_co',\n",
    "    'floatId': 'zar_cash_primary',\n",
    "    'accrualAmount': 100 * 100 * 100,\n",
    "    'currency': 'ZAR',\n",
    "    'unit': 'HUNDREDTH_CENT',\n",
    "    'backingEntityIdentifier': 'tx-id-backing'\n",
    "}\n",
    "local_lambda.invoke(FunctionName='float-api-local-accrue', InvocationType='RequestResponse', \n",
    "                                           Payload=json.dumps(accrualDict, default=str))"
   ]
  },
  {
   "cell_type": "code",
   "execution_count": null,
   "metadata": {},
   "outputs": [],
   "source": []
  }
 ],
 "metadata": {
  "kernelspec": {
   "display_name": "Python [conda env:pluto-local-dev]",
   "language": "python",
   "name": "conda-env-pluto-local-dev-py"
  },
  "language_info": {
   "codemirror_mode": {
    "name": "ipython",
    "version": 3
   },
   "file_extension": ".py",
   "mimetype": "text/x-python",
   "name": "python",
   "nbconvert_exporter": "python",
   "pygments_lexer": "ipython3",
   "version": "3.6.8"
  }
 },
 "nbformat": 4,
 "nbformat_minor": 2
}
