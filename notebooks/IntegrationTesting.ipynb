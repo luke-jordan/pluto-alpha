{
 "cells": [
  {
   "cell_type": "code",
   "execution_count": 1,
   "metadata": {},
   "outputs": [],
   "source": [
    "import boto3\n",
    "import json, uuid, copy, datetime\n",
    "import random, names, tabulate\n",
    "import pandas as pd"
   ]
  },
  {
   "cell_type": "code",
   "execution_count": 2,
   "metadata": {},
   "outputs": [],
   "source": [
    "# open_cmd_in_new_terminal(\"docker-compose up\")\n",
    "!gnome-terminal -- docker-compose up"
   ]
  },
  {
   "cell_type": "code",
   "execution_count": 3,
   "metadata": {},
   "outputs": [
    {
     "name": "stdout",
     "output_type": "stream",
     "text": [
      "Creating the DynamoDB table that holds the client floats\n",
      "{\n",
      "    \"StackId\": \"arn:aws:cloudformation:us-east-1:123456789:stack/client-float-table/3980ade8-82c7-47bf-8197-cbfcc17edd1c\"\n",
      "}\n",
      "Adding in item for core, ZAR wholesale float\n"
     ]
    }
   ],
   "source": [
    "# !./setuprds.sh\n",
    "!./setupdynamo.sh"
   ]
  },
  {
   "cell_type": "code",
   "execution_count": 4,
   "metadata": {},
   "outputs": [
    {
     "name": "stdout",
     "output_type": "stream",
     "text": [
      "Deploying the float lambda\n",
      "Serverless: \u001b[33mconfig.options_stage: local\u001b[39m\n",
      "Serverless: \u001b[33mserverless.service.custom.stage: undefined\u001b[39m\n",
      "Serverless: \u001b[33mserverless.service.provider.stage: dev\u001b[39m\n",
      "Serverless: \u001b[33mconfig.stage: local\u001b[39m\n",
      "Serverless: \u001b[33mUsing serverless-localstack\u001b[39m\n",
      "Serverless: \u001b[33mReconfiguring service apigateway to use http://localhost:4567\u001b[39m\n",
      "Serverless: \u001b[33mReconfiguring service cloudformation to use http://localhost:4581\u001b[39m\n",
      "Serverless: \u001b[33mReconfiguring service cloudwatch to use http://localhost:4582\u001b[39m\n",
      "Serverless: \u001b[33mReconfiguring service lambda to use http://localhost:4574\u001b[39m\n",
      "Serverless: \u001b[33mReconfiguring service dynamodb to use http://localhost:4569\u001b[39m\n",
      "Serverless: \u001b[33mReconfiguring service kinesis to use http://localhost:4568\u001b[39m\n",
      "Serverless: \u001b[33mReconfiguring service route53 to use http://localhost:4580\u001b[39m\n",
      "Serverless: \u001b[33mReconfiguring service firehose to use http://localhost:4573\u001b[39m\n",
      "Serverless: \u001b[33mReconfiguring service stepfunctions to use http://localhost:4585\u001b[39m\n",
      "Serverless: \u001b[33mReconfiguring service es to use http://localhost:4578\u001b[39m\n",
      "Serverless: \u001b[33mReconfiguring service s3 to use http://localhost:4572\u001b[39m\n",
      "Serverless: \u001b[33mReconfiguring service ses to use http://localhost:4579\u001b[39m\n",
      "Serverless: \u001b[33mReconfiguring service sns to use http://localhost:4575\u001b[39m\n",
      "Serverless: \u001b[33mReconfiguring service sqs to use http://localhost:4576\u001b[39m\n",
      "Serverless: \u001b[33mReconfiguring service sts to use http://localhost:4592\u001b[39m\n",
      "Serverless: \u001b[33mReconfiguring service iam to use http://localhost:4593\u001b[39m\n",
      "Serverless: \u001b[33mReconfiguring service ssm to use http://localhost:4583\u001b[39m\n",
      "Serverless: \u001b[33mPackaging service...\u001b[39m\n",
      "Serverless: \u001b[33mExcluding development dependencies...\u001b[39m\n",
      "Serverless: \u001b[33mCreating deployment bucket pluto.float.lambdas\u001b[39m\n",
      "Serverless: \u001b[33mUploading CloudFormation file to S3...\u001b[39m\n",
      "Serverless: \u001b[33mUploading artifacts...\u001b[39m\n",
      "Serverless: \u001b[33mUploading service float-api.zip file to S3 (27.24 MB)...\u001b[39m\n",
      "Serverless: \u001b[33mValidating template...\u001b[39m\n",
      "Serverless: \u001b[33mSkipping template validation: Unsupported in Localstack\u001b[39m\n",
      "Serverless: \u001b[33mCreating Stack...\u001b[39m\n",
      "Serverless: \u001b[33mChecking Stack create progress...\u001b[39m\n",
      "\u001b[33m.\u001b[39m\u001b[33m.\u001b[39m\n",
      "Serverless: \u001b[33mStack create finished...\u001b[39m\n",
      "\u001b[33m\u001b[4mService Information\u001b[24m\u001b[39m\n",
      "\u001b[33mservice:\u001b[39m float-api\n",
      "\u001b[33mstage:\u001b[39m local\n",
      "\u001b[33mregion:\u001b[39m eu-west-1\n",
      "\u001b[33mstack:\u001b[39m float-api-local\n",
      "\u001b[33mresources:\u001b[39m 9\n",
      "\u001b[33mapi keys:\u001b[39m\n",
      "  None\n",
      "\u001b[33mendpoints:\u001b[39m\n",
      "  POST - https://1472505015.execute-api.eu-west-1.amazonaws.com/local/save\n",
      "\u001b[33mfunctions:\u001b[39m\n",
      "  accrue: float-accrue\n",
      "\u001b[33mlayers:\u001b[39m\n",
      "  None\n",
      "Serverless Enterprise: \u001b[33mRun `serverless login` and deploy again to explore, monitor, secure your serverless project for free.\u001b[39m\n",
      "Deploying the user account mgmt lambda\n",
      "Serverless: \u001b[33mconfig.options_stage: local\u001b[39m\n",
      "Serverless: \u001b[33mserverless.service.custom.stage: local\u001b[39m\n",
      "Serverless: \u001b[33mserverless.service.provider.stage: local\u001b[39m\n",
      "Serverless: \u001b[33mconfig.stage: local\u001b[39m\n",
      "Serverless: \u001b[33mUsing serverless-localstack\u001b[39m\n",
      "Serverless: \u001b[33mReconfiguring service apigateway to use http://localhost:4567\u001b[39m\n",
      "Serverless: \u001b[33mReconfiguring service cloudformation to use http://localhost:4581\u001b[39m\n",
      "Serverless: \u001b[33mReconfiguring service cloudwatch to use http://localhost:4582\u001b[39m\n",
      "Serverless: \u001b[33mReconfiguring service lambda to use http://localhost:4574\u001b[39m\n",
      "Serverless: \u001b[33mReconfiguring service dynamodb to use http://localhost:4569\u001b[39m\n",
      "Serverless: \u001b[33mReconfiguring service kinesis to use http://localhost:4568\u001b[39m\n",
      "Serverless: \u001b[33mReconfiguring service route53 to use http://localhost:4580\u001b[39m\n",
      "Serverless: \u001b[33mReconfiguring service firehose to use http://localhost:4573\u001b[39m\n",
      "Serverless: \u001b[33mReconfiguring service stepfunctions to use http://localhost:4585\u001b[39m\n",
      "Serverless: \u001b[33mReconfiguring service es to use http://localhost:4578\u001b[39m\n",
      "Serverless: \u001b[33mReconfiguring service s3 to use http://localhost:4572\u001b[39m\n",
      "Serverless: \u001b[33mReconfiguring service ses to use http://localhost:4579\u001b[39m\n",
      "Serverless: \u001b[33mReconfiguring service sns to use http://localhost:4575\u001b[39m\n",
      "Serverless: \u001b[33mReconfiguring service sqs to use http://localhost:4576\u001b[39m\n",
      "Serverless: \u001b[33mReconfiguring service sts to use http://localhost:4592\u001b[39m\n",
      "Serverless: \u001b[33mReconfiguring service iam to use http://localhost:4593\u001b[39m\n",
      "Serverless: \u001b[33mReconfiguring service ssm to use http://localhost:4583\u001b[39m\n",
      "Serverless: \u001b[33mPackaging service...\u001b[39m\n",
      "Serverless: \u001b[33mExcluding development dependencies...\u001b[39m\n",
      "Serverless: \u001b[33mCreating deployment bucket pluto.user.existence.lambdas\u001b[39m\n",
      "Serverless: \u001b[33mUploading CloudFormation file to S3...\u001b[39m\n",
      "Serverless: \u001b[33mUploading artifacts...\u001b[39m\n",
      "Serverless: \u001b[33mUploading service user-existence-api.zip file to S3 (34.42 MB)...\u001b[39m\n",
      "Serverless: \u001b[33mValidating template...\u001b[39m\n",
      "Serverless: \u001b[33mSkipping template validation: Unsupported in Localstack\u001b[39m\n",
      "Serverless: \u001b[33mCreating Stack...\u001b[39m\n",
      "Serverless: \u001b[33mChecking Stack create progress...\u001b[39m\n",
      "\u001b[33m.\u001b[39m\u001b[33m.\u001b[39m\n",
      "Serverless: \u001b[33mStack create finished...\u001b[39m\n",
      "\u001b[33m\u001b[4mService Information\u001b[24m\u001b[39m\n",
      "\u001b[33mservice:\u001b[39m user-existence-api\n",
      "\u001b[33mstage:\u001b[39m local\n",
      "\u001b[33mregion:\u001b[39m eu-west-1\n",
      "\u001b[33mstack:\u001b[39m user-existence-api-local\n",
      "\u001b[33mresources:\u001b[39m 9\n",
      "\u001b[33mapi keys:\u001b[39m\n",
      "  None\n",
      "\u001b[33mendpoints:\u001b[39m\n",
      "  POST - https://7193300483.execute-api.eu-west-1.amazonaws.com/local/create\n",
      "\u001b[33mfunctions:\u001b[39m\n",
      "  create: account-create\n",
      "\u001b[33mlayers:\u001b[39m\n",
      "  None\n",
      "Serverless Enterprise: \u001b[33mRun `serverless login` and deploy again to explore, monitor, secure your serverless project for free.\u001b[39m\n",
      "\n",
      "\u001b[33m\u001b[39m\n",
      "\u001b[33m   ╭───────────────────────────────────────╮\u001b[39m\n",
      "   \u001b[33m│\u001b[39m                                       \u001b[33m│\u001b[39m\n",
      "   \u001b[33m│\u001b[39m   Update available \u001b[2m1.46.0\u001b[22m\u001b[0m → \u001b[0m\u001b[32m1.46.1\u001b[39m    \u001b[33m│\u001b[39m\n",
      "   \u001b[33m│\u001b[39m   Run \u001b[36mnpm i -g serverless\u001b[39m to update   \u001b[33m│\u001b[39m\n",
      "   \u001b[33m│\u001b[39m                                       \u001b[33m│\u001b[39m\n",
      "\u001b[33m   ╰───────────────────────────────────────╯\u001b[39m\n",
      "\u001b[33m\u001b[39m\n",
      "Deploying the save transaction lambda\n",
      "Serverless: \u001b[33mconfig.options_stage: local\u001b[39m\n",
      "Serverless: \u001b[33mserverless.service.custom.stage: undefined\u001b[39m\n",
      "Serverless: \u001b[33mserverless.service.provider.stage: dev\u001b[39m\n",
      "Serverless: \u001b[33mconfig.stage: local\u001b[39m\n",
      "Serverless: \u001b[33mUsing serverless-localstack\u001b[39m\n",
      "Serverless: \u001b[33mReconfiguring service apigateway to use http://localhost:4567\u001b[39m\n",
      "Serverless: \u001b[33mReconfiguring service cloudformation to use http://localhost:4581\u001b[39m\n",
      "Serverless: \u001b[33mReconfiguring service cloudwatch to use http://localhost:4582\u001b[39m\n",
      "Serverless: \u001b[33mReconfiguring service lambda to use http://localhost:4574\u001b[39m\n",
      "Serverless: \u001b[33mReconfiguring service dynamodb to use http://localhost:4569\u001b[39m\n",
      "Serverless: \u001b[33mReconfiguring service kinesis to use http://localhost:4568\u001b[39m\n",
      "Serverless: \u001b[33mReconfiguring service route53 to use http://localhost:4580\u001b[39m\n",
      "Serverless: \u001b[33mReconfiguring service firehose to use http://localhost:4573\u001b[39m\n",
      "Serverless: \u001b[33mReconfiguring service stepfunctions to use http://localhost:4585\u001b[39m\n",
      "Serverless: \u001b[33mReconfiguring service es to use http://localhost:4578\u001b[39m\n",
      "Serverless: \u001b[33mReconfiguring service s3 to use http://localhost:4572\u001b[39m\n",
      "Serverless: \u001b[33mReconfiguring service ses to use http://localhost:4579\u001b[39m\n",
      "Serverless: \u001b[33mReconfiguring service sns to use http://localhost:4575\u001b[39m\n",
      "Serverless: \u001b[33mReconfiguring service sqs to use http://localhost:4576\u001b[39m\n",
      "Serverless: \u001b[33mReconfiguring service sts to use http://localhost:4592\u001b[39m\n",
      "Serverless: \u001b[33mReconfiguring service iam to use http://localhost:4593\u001b[39m\n",
      "Serverless: \u001b[33mReconfiguring service ssm to use http://localhost:4583\u001b[39m\n",
      "Serverless: \u001b[33mPackaging service...\u001b[39m\n",
      "Serverless: \u001b[33mExcluding development dependencies...\u001b[39m\n",
      "Serverless: \u001b[33mCreating deployment bucket pluto.user.action.lambdas\u001b[39m\n",
      "Serverless: \u001b[33mUploading CloudFormation file to S3...\u001b[39m\n",
      "Serverless: \u001b[33mUploading artifacts...\u001b[39m\n",
      "Serverless: \u001b[33mUploading service user-activity-api.zip file to S3 (28.45 MB)...\u001b[39m\n",
      "Serverless: \u001b[33mValidating template...\u001b[39m\n",
      "Serverless: \u001b[33mSkipping template validation: Unsupported in Localstack\u001b[39m\n",
      "Serverless: \u001b[33mCreating Stack...\u001b[39m\n"
     ]
    },
    {
     "name": "stdout",
     "output_type": "stream",
     "text": [
      "Serverless: \u001b[33mChecking Stack create progress...\u001b[39m\n",
      "\u001b[33m.\u001b[39m\u001b[33m.\u001b[39m\n",
      "Serverless: \u001b[33mStack create finished...\u001b[39m\n",
      "\u001b[33m\u001b[4mService Information\u001b[24m\u001b[39m\n",
      "\u001b[33mservice:\u001b[39m user-activity-api\n",
      "\u001b[33mstage:\u001b[39m local\n",
      "\u001b[33mregion:\u001b[39m eu-west-1\n",
      "\u001b[33mstack:\u001b[39m user-activity-api-local\n",
      "\u001b[33mresources:\u001b[39m 12\n",
      "\u001b[33mapi keys:\u001b[39m\n",
      "  None\n",
      "\u001b[33mendpoints:\u001b[39m\n",
      "  POST - https://748361A-Z255.execute-api.eu-west-1.amazonaws.com/local/save\n",
      "\u001b[33mfunctions:\u001b[39m\n",
      "  save: activity-save\n",
      "  balance: activity-balance\n",
      "\u001b[33mlayers:\u001b[39m\n",
      "  None\n",
      "Serverless Enterprise: \u001b[33mRun `serverless login` and deploy again to explore, monitor, secure your serverless project for free.\u001b[39m\n",
      "Deploying the migration lambda\n",
      "Serverless: \u001b[33mconfig.options_stage: local\u001b[39m\n",
      "Serverless: \u001b[33mserverless.service.custom.stage: undefined\u001b[39m\n",
      "Serverless: \u001b[33mserverless.service.provider.stage: dev\u001b[39m\n",
      "Serverless: \u001b[33mconfig.stage: local\u001b[39m\n",
      "Serverless: \u001b[33mUsing serverless-localstack\u001b[39m\n",
      "Serverless: \u001b[33mReconfiguring service apigateway to use http://localhost:4567\u001b[39m\n",
      "Serverless: \u001b[33mReconfiguring service cloudformation to use http://localhost:4581\u001b[39m\n",
      "Serverless: \u001b[33mReconfiguring service cloudwatch to use http://localhost:4582\u001b[39m\n",
      "Serverless: \u001b[33mReconfiguring service lambda to use http://localhost:4574\u001b[39m\n",
      "Serverless: \u001b[33mReconfiguring service dynamodb to use http://localhost:4569\u001b[39m\n",
      "Serverless: \u001b[33mReconfiguring service kinesis to use http://localhost:4568\u001b[39m\n",
      "Serverless: \u001b[33mReconfiguring service route53 to use http://localhost:4580\u001b[39m\n",
      "Serverless: \u001b[33mReconfiguring service firehose to use http://localhost:4573\u001b[39m\n",
      "Serverless: \u001b[33mReconfiguring service stepfunctions to use http://localhost:4585\u001b[39m\n",
      "Serverless: \u001b[33mReconfiguring service es to use http://localhost:4578\u001b[39m\n",
      "Serverless: \u001b[33mReconfiguring service s3 to use http://localhost:4572\u001b[39m\n",
      "Serverless: \u001b[33mReconfiguring service ses to use http://localhost:4579\u001b[39m\n",
      "Serverless: \u001b[33mReconfiguring service sns to use http://localhost:4575\u001b[39m\n",
      "Serverless: \u001b[33mReconfiguring service sqs to use http://localhost:4576\u001b[39m\n",
      "Serverless: \u001b[33mReconfiguring service sts to use http://localhost:4592\u001b[39m\n",
      "Serverless: \u001b[33mReconfiguring service iam to use http://localhost:4593\u001b[39m\n",
      "Serverless: \u001b[33mReconfiguring service ssm to use http://localhost:4583\u001b[39m\n",
      "Serverless: \u001b[33mPackaging service...\u001b[39m\n",
      "Serverless: \u001b[33mExcluding development dependencies...\u001b[39m\n",
      "Serverless: \u001b[33mCreating deployment bucket jupiter.migration.lambdas\u001b[39m\n",
      "Serverless: \u001b[33mUploading CloudFormation file to S3...\u001b[39m\n",
      "Serverless: \u001b[33mUploading artifacts...\u001b[39m\n",
      "Serverless: \u001b[33mUploading service db-migration.zip file to S3 (7.51 MB)...\u001b[39m\n",
      "Serverless: \u001b[33mValidating template...\u001b[39m\n",
      "Serverless: \u001b[33mSkipping template validation: Unsupported in Localstack\u001b[39m\n",
      "Serverless: \u001b[33mCreating Stack...\u001b[39m\n",
      "Serverless: \u001b[33mChecking Stack create progress...\u001b[39m\n",
      "\u001b[33m.\u001b[39m\u001b[33m.\u001b[39m\n",
      "Serverless: \u001b[33mStack create finished...\u001b[39m\n",
      "\u001b[33m\u001b[4mService Information\u001b[24m\u001b[39m\n",
      "\u001b[33mservice:\u001b[39m db-migration\n",
      "\u001b[33mstage:\u001b[39m local\n",
      "\u001b[33mregion:\u001b[39m eu-west-1\n",
      "\u001b[33mstack:\u001b[39m db-migration-local\n",
      "\u001b[33mresources:\u001b[39m 4\n",
      "\u001b[33mapi keys:\u001b[39m\n",
      "  None\n",
      "\u001b[33mendpoints:\u001b[39m\n",
      "  None\n",
      "\u001b[33mfunctions:\u001b[39m\n",
      "  migrate: db-migration-local-migrate\n",
      "\u001b[33mlayers:\u001b[39m\n",
      "  None\n",
      "Serverless Enterprise: \u001b[33mRun `serverless login` and deploy again to explore, monitor, secure your serverless project for free.\u001b[39m\n"
     ]
    }
   ],
   "source": [
    "!./deploylambdas.sh"
   ]
  },
  {
   "cell_type": "code",
   "execution_count": 5,
   "metadata": {},
   "outputs": [],
   "source": [
    "dynamodb = boto3.client('dynamodb', endpoint_url = 'http://localhost:4569')\n",
    "local_lambda = boto3.client('lambda', endpoint_url = 'http://localhost:4574')"
   ]
  },
  {
   "cell_type": "code",
   "execution_count": 6,
   "metadata": {},
   "outputs": [
    {
     "data": {
      "text/plain": [
       "{'ResponseMetadata': {'HTTPStatusCode': 200,\n",
       "  'HTTPHeaders': {'content-type': 'application/json',\n",
       "   'content-length': '372',\n",
       "   'access-control-allow-origin': '*',\n",
       "   'server': 'Werkzeug/0.15.4 Python/3.6.8',\n",
       "   'date': 'Wed, 03 Jul 2019 11:42:46 GMT'},\n",
       "  'RetryAttempts': 0},\n",
       " 'StatusCode': 200,\n",
       " 'Payload': <botocore.response.StreamingBody at 0x7f28a0cfb208>}"
      ]
     },
     "execution_count": 6,
     "metadata": {},
     "output_type": "execute_result"
    }
   ],
   "source": [
    "# Setup the RDS roles\n",
    "role_payload = { \"type\": \"CREATE_ROLES\", \"credentials\": {\n",
    "        \"account_api_worker\": \"pwd_for_account_api\",\n",
    "        \"save_tx_api_worker\": \"pwd_for_transaction_api\",\n",
    "        \"float_api_worker\": \"pwd_for_float_api\",\n",
    "        \"auth_api_worker\": \"pwd_for_auth_api_worker\"\n",
    "    }\n",
    "}\n",
    "local_lambda.invoke(FunctionName='db-migration-local-migrate', InvocationType='RequestResponse', Payload=json.dumps(role_payload))"
   ]
  },
  {
   "cell_type": "code",
   "execution_count": null,
   "metadata": {},
   "outputs": [],
   "source": [
    "# Setup the RDS tables\n",
    "local_lambda.invoke(FunctionName='db-migration-local-migrate', InvocationType='RequestResponse', Payload=json.dumps({'type': 'SETUP_TABLES'}))"
   ]
  },
  {
   "cell_type": "code",
   "execution_count": 7,
   "metadata": {},
   "outputs": [],
   "source": [
    "def print_deployed_functions():\n",
    "    function_list = local_lambda.list_functions()\n",
    "    # print(function_list)\n",
    "    print('Function list: ', [function['FunctionName'] for function in function_list['Functions']])"
   ]
  },
  {
   "cell_type": "code",
   "execution_count": 8,
   "metadata": {},
   "outputs": [],
   "source": [
    "def generate_account(client_id = 'zar_client_co', float_id = 'zar_cash_float'):\n",
    "    first_name = names.get_first_name()\n",
    "    family_name = names.get_last_name()\n",
    "    user_id = str(uuid.uuid4())\n",
    "    return { 'clientId': client_id, 'floatId': float_id, 'ownerUserId': user_id, 'userFirstName': first_name, 'userFamilyName': family_name}"
   ]
  },
  {
   "cell_type": "code",
   "execution_count": 9,
   "metadata": {},
   "outputs": [],
   "source": [
    "def decode_lambda_result(lambda_result):\n",
    "    lambda_payload = lambda_result['Payload'].read()\n",
    "    lambda_pload_decoded = lambda_payload.decode('utf-8')\n",
    "    lambda_pload_object = json.loads(lambda_pload_decoded)\n",
    "    return lambda_pload_object"
   ]
  },
  {
   "cell_type": "code",
   "execution_count": 10,
   "metadata": {},
   "outputs": [],
   "source": [
    "def create_number_accounts(number_accounts = 1, client_id = 'zar_client_co'):\n",
    "    account_dicts = [generate_account(client_id) for i in range(number_accounts)]\n",
    "    persisted_accounts = []\n",
    "    for account in account_dicts:\n",
    "        lambda_result = local_lambda.invoke(FunctionName='account-create', InvocationType='RequestResponse', \n",
    "                                           Payload=json.dumps(account))\n",
    "        lambda_payload = json.loads(decode_lambda_result(lambda_result)['body'])\n",
    "        persisted_account = copy.deepcopy(account)\n",
    "        persisted_account['accountId'] = lambda_payload['accountId']\n",
    "        persisted_account['persistedTime'] = lambda_payload['persistedTime']\n",
    "        print('Account with ID %s persisted at %s' % (persisted_account['accountId'], persisted_account['persistedTime']))\n",
    "        persisted_accounts.append(persisted_account)\n",
    "    \n",
    "    return persisted_accounts\n",
    "    "
   ]
  },
  {
   "cell_type": "code",
   "execution_count": 11,
   "metadata": {},
   "outputs": [],
   "source": [
    "def generate_saving_transaction(account_id, ref_amount = 100, client_id = 'zar_client_co', float_id = 'zar_cash_primary'):\n",
    "    current_time = datetime.datetime.now()\n",
    "    saved_amount = round(random.random() * ref_amount * 10 * 10) # random proportion of ref amount, \n",
    "    test_saving_dict = { \n",
    "        'accountId': account_id, \n",
    "        'initiationTime': str(current_time), \n",
    "        'settlementTime': str(current_time), \n",
    "        'savedAmount': saved_amount, \n",
    "        'savedCurrency': 'ZAR', \n",
    "        'savedUnit': 'HUNDREDTH_CENT',\n",
    "        'floatId': float_id,\n",
    "        'clientId': client_id\n",
    "    }\n",
    "    return test_saving_dict"
   ]
  },
  {
   "cell_type": "code",
   "execution_count": 12,
   "metadata": {},
   "outputs": [],
   "source": [
    "def seed_savings_for_accounts(accounts, tx_per_account = 1, base_amount = 100):\n",
    "    transactions = []\n",
    "    for i in range(tx_per_account):\n",
    "        transactions.extend([generate_saving_transaction(account['accountId'], base_amount) for account in accounts])\n",
    "#     print('transactions: ', transactions)\n",
    "    tx_records = []\n",
    "    for tx in transactions:\n",
    "        lambda_result = local_lambda.invoke(FunctionName='activity-save', InvocationType='RequestResponse', \n",
    "                                           Payload=json.dumps(tx, default=str))\n",
    "        lambda_payload = json.loads(decode_lambda_result(lambda_result)['body'])\n",
    "        persisted_tx = copy.deepcopy(tx)\n",
    "        persisted_tx['transactionId'] = lambda_payload['transactionDetails'][0][0]['transaction_id']\n",
    "        persisted_tx['currentBalance'] = lambda_payload['newBalance']['amount']\n",
    "        # persisted_account['persistedTime'] = lambda_payload['persistedTime']\n",
    "        print('Tx for account %s persisted with new balance %s' % (tx['accountId'], persisted_tx['currentBalance']))\n",
    "        tx_records.append(persisted_tx)\n",
    "    \n",
    "    return tx_records"
   ]
  },
  {
   "cell_type": "code",
   "execution_count": 13,
   "metadata": {},
   "outputs": [],
   "source": [
    "def run_accrual_for_float(client_id = 'zar_client_co', float_id = 'zar_cash_primary', accrued_amount = 100):\n",
    "    accrualDict = {\n",
    "        'clientId': client_id,\n",
    "        'floatId': float_id,\n",
    "        'accrualAmount': accrued_amount,\n",
    "        'currency': 'ZAR',\n",
    "        'unit': 'HUNDREDTH_CENT',\n",
    "        'backingEntityIdentifier': 'tx-id-backing'\n",
    "    }\n",
    "    lambda_result = local_lambda.invoke(FunctionName='float-accrue', InvocationType='RequestResponse', \n",
    "                                               Payload=json.dumps(accrualDict, default=str))\n",
    "    lambda_payload = json.loads(decode_lambda_result(lambda_result)['body'])\n",
    "    return lambda_payload"
   ]
  },
  {
   "cell_type": "code",
   "execution_count": 14,
   "metadata": {},
   "outputs": [
    {
     "name": "stdout",
     "output_type": "stream",
     "text": [
      "Function list:  ['float-accrue', 'account-create', 'activity-save', 'activity-balance', 'db-migration-local-migrate']\n"
     ]
    }
   ],
   "source": [
    "print_deployed_functions()"
   ]
  },
  {
   "cell_type": "code",
   "execution_count": 15,
   "metadata": {},
   "outputs": [
    {
     "name": "stdout",
     "output_type": "stream",
     "text": [
      "Account with ID fe8973b4-f432-4a6b-9d95-8adc89a2131a persisted at 2019-07-03T11:44:56.111Z\n",
      "Account with ID c028bd11-9d00-4e2e-9608-13950a41c0ae persisted at 2019-07-03T11:44:57.321Z\n",
      "Account with ID 6b5c6580-5813-441e-a70d-3f7c1b989dda persisted at 2019-07-03T11:44:58.259Z\n",
      "Account with ID 62e91b2b-5487-4e70-99bd-665f30cc0c58 persisted at 2019-07-03T11:44:58.960Z\n",
      "Account with ID cbe6f008-2a68-43f9-b108-84633a3dd1fc persisted at 2019-07-03T11:44:59.621Z\n",
      "Account with ID d95430eb-355a-47a6-b5db-1461c82f61a1 persisted at 2019-07-03T11:45:00.280Z\n",
      "Account with ID b4870406-886e-47c4-a7a8-b9375df3a531 persisted at 2019-07-03T11:45:00.958Z\n",
      "Account with ID 89867c26-0947-4a7a-a5c6-fc41ecd451a6 persisted at 2019-07-03T11:45:01.756Z\n",
      "Account with ID 5063a2ec-6c4c-45aa-8aa3-8af7bd35e7ea persisted at 2019-07-03T11:45:02.702Z\n",
      "Account with ID 1d50a956-2beb-4200-ba3e-5eee8233d5a1 persisted at 2019-07-03T11:45:03.414Z\n"
     ]
    }
   ],
   "source": [
    "accounts = create_number_accounts(number_accounts = 10)"
   ]
  },
  {
   "cell_type": "code",
   "execution_count": 16,
   "metadata": {},
   "outputs": [
    {
     "name": "stdout",
     "output_type": "stream",
     "text": [
      "Name             AccountId\n",
      "---------------  ------------------------------------\n",
      "Parker Wise      fe8973b4-f432-4a6b-9d95-8adc89a2131a\n",
      "Bethany Scott    c028bd11-9d00-4e2e-9608-13950a41c0ae\n",
      "Joseph Begley    6b5c6580-5813-441e-a70d-3f7c1b989dda\n",
      "Evelyn Lowery    62e91b2b-5487-4e70-99bd-665f30cc0c58\n",
      "Leona Young      cbe6f008-2a68-43f9-b108-84633a3dd1fc\n",
      "Penelope Valeri  d95430eb-355a-47a6-b5db-1461c82f61a1\n",
      "John Howard      b4870406-886e-47c4-a7a8-b9375df3a531\n",
      "Carol Bradford   89867c26-0947-4a7a-a5c6-fc41ecd451a6\n",
      "Cecil Allen      5063a2ec-6c4c-45aa-8aa3-8af7bd35e7ea\n",
      "Teresa Gibson    1d50a956-2beb-4200-ba3e-5eee8233d5a1\n"
     ]
    }
   ],
   "source": [
    "account_info = [{ 'Name': account['userFirstName'] + ' ' + account['userFamilyName'], \n",
    "                'AccountId': account['accountId'] } for account in accounts[:100]]\n",
    "print(tabulate.tabulate(account_info, headers = 'keys'))"
   ]
  },
  {
   "cell_type": "code",
   "execution_count": 17,
   "metadata": {},
   "outputs": [
    {
     "name": "stdout",
     "output_type": "stream",
     "text": [
      "Lambda result {'body': '{\"transactionDetails\":[[{\"transaction_id\":\"e3f3e552-4be9-46df-ada2-9776c769ba3c\",\"creation_time\":\"2019-07-03T11:51:32.513Z\"}],[{\"transaction_id\":\"d53b789e-6104-4296-9129-0c51d9222633\",\"creation_time\":\"2019-07-03T11:51:32.513Z\"},{\"transaction_id\":\"d53b789e-6104-4296-9129-0c51d9222633\",\"creation_time\":\"2019-07-03T11:51:32.513Z\"}]],\"newBalance\":{\"amount\":0,\"unit\":\"HUNDREDTH_CENT\"}}', 'statusCode': 200}\n"
     ]
    }
   ],
   "source": [
    "single_tx = generate_saving_transaction(accounts[0]['accountId'], 100)\n",
    "lambda_result = local_lambda.invoke(FunctionName='activity-save', Payload=json.dumps(single_tx, default=str))\n",
    "result_decoded = decode_lambda_result(lambda_result)\n",
    "print('Lambda result', result_decoded)"
   ]
  },
  {
   "cell_type": "code",
   "execution_count": 18,
   "metadata": {},
   "outputs": [
    {
     "name": "stdout",
     "output_type": "stream",
     "text": [
      "Tx for account fe8973b4-f432-4a6b-9d95-8adc89a2131a persisted with new balance 6857\n",
      "Tx for account c028bd11-9d00-4e2e-9608-13950a41c0ae persisted with new balance 0\n",
      "Tx for account 6b5c6580-5813-441e-a70d-3f7c1b989dda persisted with new balance 0\n",
      "Tx for account 62e91b2b-5487-4e70-99bd-665f30cc0c58 persisted with new balance 0\n",
      "Tx for account cbe6f008-2a68-43f9-b108-84633a3dd1fc persisted with new balance 0\n",
      "Tx for account d95430eb-355a-47a6-b5db-1461c82f61a1 persisted with new balance 0\n",
      "Tx for account b4870406-886e-47c4-a7a8-b9375df3a531 persisted with new balance 0\n",
      "Tx for account 89867c26-0947-4a7a-a5c6-fc41ecd451a6 persisted with new balance 0\n",
      "Tx for account 5063a2ec-6c4c-45aa-8aa3-8af7bd35e7ea persisted with new balance 0\n",
      "Tx for account 1d50a956-2beb-4200-ba3e-5eee8233d5a1 persisted with new balance 0\n",
      "Tx for account fe8973b4-f432-4a6b-9d95-8adc89a2131a persisted with new balance 63103363\n",
      "Tx for account c028bd11-9d00-4e2e-9608-13950a41c0ae persisted with new balance 39902817\n",
      "Tx for account 6b5c6580-5813-441e-a70d-3f7c1b989dda persisted with new balance 60930304\n",
      "Tx for account 62e91b2b-5487-4e70-99bd-665f30cc0c58 persisted with new balance 88712427\n",
      "Tx for account cbe6f008-2a68-43f9-b108-84633a3dd1fc persisted with new balance 75988688\n",
      "Tx for account d95430eb-355a-47a6-b5db-1461c82f61a1 persisted with new balance 70548833\n",
      "Tx for account b4870406-886e-47c4-a7a8-b9375df3a531 persisted with new balance 33670167\n",
      "Tx for account 89867c26-0947-4a7a-a5c6-fc41ecd451a6 persisted with new balance 13647117\n",
      "Tx for account 5063a2ec-6c4c-45aa-8aa3-8af7bd35e7ea persisted with new balance 68168633\n",
      "Tx for account 1d50a956-2beb-4200-ba3e-5eee8233d5a1 persisted with new balance 56520599\n",
      "Tx for account fe8973b4-f432-4a6b-9d95-8adc89a2131a persisted with new balance 131481991\n",
      "Tx for account c028bd11-9d00-4e2e-9608-13950a41c0ae persisted with new balance 108338015\n",
      "Tx for account 6b5c6580-5813-441e-a70d-3f7c1b989dda persisted with new balance 135482138\n",
      "Tx for account 62e91b2b-5487-4e70-99bd-665f30cc0c58 persisted with new balance 140996812\n",
      "Tx for account cbe6f008-2a68-43f9-b108-84633a3dd1fc persisted with new balance 106747788\n",
      "Tx for account d95430eb-355a-47a6-b5db-1461c82f61a1 persisted with new balance 144689870\n",
      "Tx for account b4870406-886e-47c4-a7a8-b9375df3a531 persisted with new balance 74051445\n",
      "Tx for account 89867c26-0947-4a7a-a5c6-fc41ecd451a6 persisted with new balance 52710045\n",
      "Tx for account 5063a2ec-6c4c-45aa-8aa3-8af7bd35e7ea persisted with new balance 115281001\n",
      "Tx for account 1d50a956-2beb-4200-ba3e-5eee8233d5a1 persisted with new balance 112089176\n"
     ]
    }
   ],
   "source": [
    "account_balances = seed_savings_for_accounts(accounts[:100], tx_per_account = 3, base_amount = 100 * 100 * 100)"
   ]
  },
  {
   "cell_type": "code",
   "execution_count": 19,
   "metadata": {},
   "outputs": [],
   "source": [
    "def merge_dataframes(accounts, account_balances):\n",
    "    df = pd.DataFrame(account_balances)\n",
    "    df = df[df['currentBalance'] == df.groupby('accountId')['currentBalance'].transform('max')]\n",
    "    df = df[['accountId', 'currentBalance']]\n",
    "    df['currentBalance'] = pd.to_numeric(df['currentBalance'])\n",
    "    df['balanceRand'] = df['currentBalance']/10000\n",
    "    account_name_df = pd.DataFrame(accounts)[['accountId', 'floatId', 'userFamilyName', 'userFirstName']]\n",
    "    account_name_df['Holder Name'] = account_name_df['userFirstName'] + ' ' + account_name_df['userFamilyName']\n",
    "    account_name_df.set_index('accountId')\n",
    "    df.set_index('accountId')\n",
    "    merged_df = pd.merge(account_name_df, df)[['accountId', 'floatId', 'Holder Name', 'balanceRand']]\n",
    "    return merged_df"
   ]
  },
  {
   "cell_type": "code",
   "execution_count": 20,
   "metadata": {},
   "outputs": [],
   "source": [
    "merged_df = merge_dataframes(accounts, account_balances)"
   ]
  },
  {
   "cell_type": "code",
   "execution_count": 21,
   "metadata": {},
   "outputs": [
    {
     "data": {
      "text/html": [
       "<div>\n",
       "<style scoped>\n",
       "    .dataframe tbody tr th:only-of-type {\n",
       "        vertical-align: middle;\n",
       "    }\n",
       "\n",
       "    .dataframe tbody tr th {\n",
       "        vertical-align: top;\n",
       "    }\n",
       "\n",
       "    .dataframe thead th {\n",
       "        text-align: right;\n",
       "    }\n",
       "</style>\n",
       "<table border=\"1\" class=\"dataframe\">\n",
       "  <thead>\n",
       "    <tr style=\"text-align: right;\">\n",
       "      <th></th>\n",
       "      <th>accountId</th>\n",
       "      <th>floatId</th>\n",
       "      <th>Holder Name</th>\n",
       "      <th>balanceRand</th>\n",
       "    </tr>\n",
       "  </thead>\n",
       "  <tbody>\n",
       "    <tr>\n",
       "      <th>0</th>\n",
       "      <td>fe8973b4-f432-4a6b-9d95-8adc89a2131a</td>\n",
       "      <td>zar_cash_float</td>\n",
       "      <td>Parker Wise</td>\n",
       "      <td>13148.1991</td>\n",
       "    </tr>\n",
       "    <tr>\n",
       "      <th>1</th>\n",
       "      <td>c028bd11-9d00-4e2e-9608-13950a41c0ae</td>\n",
       "      <td>zar_cash_float</td>\n",
       "      <td>Bethany Scott</td>\n",
       "      <td>10833.8015</td>\n",
       "    </tr>\n",
       "    <tr>\n",
       "      <th>2</th>\n",
       "      <td>6b5c6580-5813-441e-a70d-3f7c1b989dda</td>\n",
       "      <td>zar_cash_float</td>\n",
       "      <td>Joseph Begley</td>\n",
       "      <td>13548.2138</td>\n",
       "    </tr>\n",
       "    <tr>\n",
       "      <th>3</th>\n",
       "      <td>62e91b2b-5487-4e70-99bd-665f30cc0c58</td>\n",
       "      <td>zar_cash_float</td>\n",
       "      <td>Evelyn Lowery</td>\n",
       "      <td>14099.6812</td>\n",
       "    </tr>\n",
       "    <tr>\n",
       "      <th>4</th>\n",
       "      <td>cbe6f008-2a68-43f9-b108-84633a3dd1fc</td>\n",
       "      <td>zar_cash_float</td>\n",
       "      <td>Leona Young</td>\n",
       "      <td>10674.7788</td>\n",
       "    </tr>\n",
       "    <tr>\n",
       "      <th>5</th>\n",
       "      <td>d95430eb-355a-47a6-b5db-1461c82f61a1</td>\n",
       "      <td>zar_cash_float</td>\n",
       "      <td>Penelope Valeri</td>\n",
       "      <td>14468.9870</td>\n",
       "    </tr>\n",
       "    <tr>\n",
       "      <th>6</th>\n",
       "      <td>b4870406-886e-47c4-a7a8-b9375df3a531</td>\n",
       "      <td>zar_cash_float</td>\n",
       "      <td>John Howard</td>\n",
       "      <td>7405.1445</td>\n",
       "    </tr>\n",
       "    <tr>\n",
       "      <th>7</th>\n",
       "      <td>89867c26-0947-4a7a-a5c6-fc41ecd451a6</td>\n",
       "      <td>zar_cash_float</td>\n",
       "      <td>Carol Bradford</td>\n",
       "      <td>5271.0045</td>\n",
       "    </tr>\n",
       "    <tr>\n",
       "      <th>8</th>\n",
       "      <td>5063a2ec-6c4c-45aa-8aa3-8af7bd35e7ea</td>\n",
       "      <td>zar_cash_float</td>\n",
       "      <td>Cecil Allen</td>\n",
       "      <td>11528.1001</td>\n",
       "    </tr>\n",
       "    <tr>\n",
       "      <th>9</th>\n",
       "      <td>1d50a956-2beb-4200-ba3e-5eee8233d5a1</td>\n",
       "      <td>zar_cash_float</td>\n",
       "      <td>Teresa Gibson</td>\n",
       "      <td>11208.9176</td>\n",
       "    </tr>\n",
       "  </tbody>\n",
       "</table>\n",
       "</div>"
      ],
      "text/plain": [
       "                              accountId         floatId      Holder Name  \\\n",
       "0  fe8973b4-f432-4a6b-9d95-8adc89a2131a  zar_cash_float      Parker Wise   \n",
       "1  c028bd11-9d00-4e2e-9608-13950a41c0ae  zar_cash_float    Bethany Scott   \n",
       "2  6b5c6580-5813-441e-a70d-3f7c1b989dda  zar_cash_float    Joseph Begley   \n",
       "3  62e91b2b-5487-4e70-99bd-665f30cc0c58  zar_cash_float    Evelyn Lowery   \n",
       "4  cbe6f008-2a68-43f9-b108-84633a3dd1fc  zar_cash_float      Leona Young   \n",
       "5  d95430eb-355a-47a6-b5db-1461c82f61a1  zar_cash_float  Penelope Valeri   \n",
       "6  b4870406-886e-47c4-a7a8-b9375df3a531  zar_cash_float      John Howard   \n",
       "7  89867c26-0947-4a7a-a5c6-fc41ecd451a6  zar_cash_float   Carol Bradford   \n",
       "8  5063a2ec-6c4c-45aa-8aa3-8af7bd35e7ea  zar_cash_float      Cecil Allen   \n",
       "9  1d50a956-2beb-4200-ba3e-5eee8233d5a1  zar_cash_float    Teresa Gibson   \n",
       "\n",
       "   balanceRand  \n",
       "0   13148.1991  \n",
       "1   10833.8015  \n",
       "2   13548.2138  \n",
       "3   14099.6812  \n",
       "4   10674.7788  \n",
       "5   14468.9870  \n",
       "6    7405.1445  \n",
       "7    5271.0045  \n",
       "8   11528.1001  \n",
       "9   11208.9176  "
      ]
     },
     "execution_count": 21,
     "metadata": {},
     "output_type": "execute_result"
    }
   ],
   "source": [
    "merged_df"
   ]
  },
  {
   "cell_type": "code",
   "execution_count": 22,
   "metadata": {},
   "outputs": [
    {
     "name": "stdout",
     "output_type": "stream",
     "text": [
      "Instructing accrual of : R 14.419\n"
     ]
    }
   ],
   "source": [
    "amount_to_accrue = round(random.random() * 100 * 100 * 100)\n",
    "print('Instructing accrual of : R', amount_to_accrue / (100 * 100))\n",
    "accrual_result = run_accrual_for_float(accrued_amount = amount_to_accrue)\n",
    "allocation_details = json.loads(accrual_result['userAllocationTransactions']['body'])\n",
    "account_transaction_list = allocation_details['allocationRecords']['accountTxIds']\n",
    "# print(tabulate.tabulate(account_transaction_list, headers = 'keys'))"
   ]
  },
  {
   "cell_type": "code",
   "execution_count": 23,
   "metadata": {},
   "outputs": [
    {
     "name": "stdout",
     "output_type": "stream",
     "text": [
      "21 float transactions, 21 account transactions\n",
      "Sum of account additions:  115352\n",
      "Bonus allocation: 14419, and client co allocation: 14419\n",
      "Of accrual 144190, allocations 144190\n",
      "Was there a rounding allocation? :  False\n",
      "Rounding allocation record:  {}\n"
     ]
    }
   ],
   "source": [
    "# print(accrual_result)\n",
    "account_transactions = allocation_details['allocationRecords']['accountTxIds']\n",
    "number_of_float_transactions = len(allocation_details['allocationRecords']['floatTxIds'])\n",
    "number_of_account_transactions = len(account_transactions)\n",
    "print('%d float transactions, %d account transactions' % (number_of_float_transactions, number_of_account_transactions))\n",
    "sum_of_accounts = sum([transaction['amount'] for transaction in account_transactions])\n",
    "print('Sum of account additions: ', sum_of_accounts)\n",
    "bonus_allocation = accrual_result['entityAllocations']['bonusShare']\n",
    "company_allocation = accrual_result['entityAllocations']['clientShare']\n",
    "print('Bonus allocation: %d, and client co allocation: %d' % (bonus_allocation, company_allocation))\n",
    "total_allocations = sum_of_accounts + bonus_allocation + company_allocation\n",
    "print('Of accrual %d, allocations %d' % (amount_to_accrue, total_allocations))\n",
    "rounding_allocated_to_bonus = isinstance(allocation_details['bonusAllocation'], list)\n",
    "print('Was there a rounding allocation? : ', rounding_allocated_to_bonus)\n",
    "print('Rounding allocation record: ', allocation_details['bonusAllocation'])"
   ]
  },
  {
   "cell_type": "code",
   "execution_count": null,
   "metadata": {},
   "outputs": [],
   "source": [
    "balance_payload = { \n",
    "    'accountId': accounts[0]['accountId'], \n",
    "    'clientId': 'zar_client_co', \n",
    "    'floatId': 'zar_cash_primary',\n",
    "    'currency': 'ZAR',\n",
    "    'timezone': 'Africa/Johannesburg'\n",
    "}\n",
    "balance_projection = local_lambda.invoke(FunctionName='activity-balance', Payload=json.dumps(balance_payload))\n",
    "projection_decoded = decode_lambda_result(balance_projection)\n",
    "print(projection_decoded)"
   ]
  },
  {
   "cell_type": "code",
   "execution_count": 24,
   "metadata": {},
   "outputs": [],
   "source": [
    "def fetch_account_balance(accountId, clientId = 'zar_client_co', floatId = 'zar_cash_primary', currency = 'ZAR', timezone = 'Africa/Johannesburg'):\n",
    "    balance_payload = { \n",
    "        'accountId': accountId, \n",
    "        'clientId': 'zar_client_co', \n",
    "        'floatId': 'zar_cash_primary',\n",
    "        'currency': 'ZAR',\n",
    "        'timezone': 'Africa/Johannesburg'\n",
    "    }\n",
    "    balance_projection = local_lambda.invoke(FunctionName='activity-balance', Payload=json.dumps(balance_payload))\n",
    "    projection_decoded = decode_lambda_result(balance_projection)\n",
    "    return projection_decoded"
   ]
  },
  {
   "cell_type": "code",
   "execution_count": 29,
   "metadata": {},
   "outputs": [],
   "source": [
    "def fetch_account_balances(accounts):\n",
    "#     balance_dicts = [fetch_account_balance(account['accountId']) for account in accounts]\n",
    "    balance_dicts = []\n",
    "    for account in accounts:\n",
    "#         print('account: ', account)\n",
    "        balance_dict = fetch_account_balance(account['accountId'])\n",
    "        balance_dict['accountId'] = account['accountId']\n",
    "        projected_dict = {\n",
    "            'accountId': balance_dict['accountId'],\n",
    "            'currentBalanceZAR': balance_dict['currentBalance']['amount'] / 10000,\n",
    "            'balanceEndOfDayZAR': balance_dict['balanceEndOfToday']['amount'] / 10000,\n",
    "            'balanceNextDayZAR': balance_dict['balanceSubsequentDays'][0]['amount'] / 10000\n",
    "        }\n",
    "        balance_dicts.append(projected_dict)\n",
    "    \n",
    "    return balance_dicts"
   ]
  },
  {
   "cell_type": "code",
   "execution_count": 30,
   "metadata": {},
   "outputs": [],
   "source": [
    "balances_projections = fetch_account_balances(accounts)"
   ]
  },
  {
   "cell_type": "code",
   "execution_count": 39,
   "metadata": {},
   "outputs": [
    {
     "data": {
      "text/html": [
       "<div>\n",
       "<style scoped>\n",
       "    .dataframe tbody tr th:only-of-type {\n",
       "        vertical-align: middle;\n",
       "    }\n",
       "\n",
       "    .dataframe tbody tr th {\n",
       "        vertical-align: top;\n",
       "    }\n",
       "\n",
       "    .dataframe thead th {\n",
       "        text-align: right;\n",
       "    }\n",
       "</style>\n",
       "<table border=\"1\" class=\"dataframe\">\n",
       "  <thead>\n",
       "    <tr style=\"text-align: right;\">\n",
       "      <th></th>\n",
       "      <th>accountId</th>\n",
       "      <th>currentBalanceZAR</th>\n",
       "      <th>balanceEndOfDayZAR</th>\n",
       "      <th>balanceNextDayZAR</th>\n",
       "    </tr>\n",
       "  </thead>\n",
       "  <tbody>\n",
       "    <tr>\n",
       "      <th>0</th>\n",
       "      <td>fe8973b4-f432-4a6b-9d95-8adc89a2131a</td>\n",
       "      <td>22587.4507</td>\n",
       "      <td>22590.4830</td>\n",
       "      <td>22593.5157</td>\n",
       "    </tr>\n",
       "    <tr>\n",
       "      <th>1</th>\n",
       "      <td>c028bd11-9d00-4e2e-9608-13950a41c0ae</td>\n",
       "      <td>15951.9645</td>\n",
       "      <td>15954.1060</td>\n",
       "      <td>15956.2478</td>\n",
       "    </tr>\n",
       "    <tr>\n",
       "      <th>2</th>\n",
       "      <td>6b5c6580-5813-441e-a70d-3f7c1b989dda</td>\n",
       "      <td>15627.4378</td>\n",
       "      <td>15629.5357</td>\n",
       "      <td>15631.6339</td>\n",
       "    </tr>\n",
       "    <tr>\n",
       "      <th>3</th>\n",
       "      <td>62e91b2b-5487-4e70-99bd-665f30cc0c58</td>\n",
       "      <td>24013.7314</td>\n",
       "      <td>24016.9552</td>\n",
       "      <td>24020.1794</td>\n",
       "    </tr>\n",
       "    <tr>\n",
       "      <th>4</th>\n",
       "      <td>cbe6f008-2a68-43f9-b108-84633a3dd1fc</td>\n",
       "      <td>15601.2192</td>\n",
       "      <td>15603.3136</td>\n",
       "      <td>15605.4083</td>\n",
       "    </tr>\n",
       "    <tr>\n",
       "      <th>5</th>\n",
       "      <td>d95430eb-355a-47a6-b5db-1461c82f61a1</td>\n",
       "      <td>23143.1100</td>\n",
       "      <td>23146.2169</td>\n",
       "      <td>23149.3242</td>\n",
       "    </tr>\n",
       "    <tr>\n",
       "      <th>6</th>\n",
       "      <td>b4870406-886e-47c4-a7a8-b9375df3a531</td>\n",
       "      <td>9569.4069</td>\n",
       "      <td>9570.6916</td>\n",
       "      <td>9571.9764</td>\n",
       "    </tr>\n",
       "    <tr>\n",
       "      <th>7</th>\n",
       "      <td>89867c26-0947-4a7a-a5c6-fc41ecd451a6</td>\n",
       "      <td>9468.1975</td>\n",
       "      <td>9469.4686</td>\n",
       "      <td>9470.7398</td>\n",
       "    </tr>\n",
       "    <tr>\n",
       "      <th>8</th>\n",
       "      <td>5063a2ec-6c4c-45aa-8aa3-8af7bd35e7ea</td>\n",
       "      <td>14922.6866</td>\n",
       "      <td>14924.6899</td>\n",
       "      <td>14926.6935</td>\n",
       "    </tr>\n",
       "    <tr>\n",
       "      <th>9</th>\n",
       "      <td>1d50a956-2beb-4200-ba3e-5eee8233d5a1</td>\n",
       "      <td>18741.2596</td>\n",
       "      <td>18743.7755</td>\n",
       "      <td>18746.2918</td>\n",
       "    </tr>\n",
       "  </tbody>\n",
       "</table>\n",
       "</div>"
      ],
      "text/plain": [
       "                              accountId  currentBalanceZAR  \\\n",
       "0  fe8973b4-f432-4a6b-9d95-8adc89a2131a         22587.4507   \n",
       "1  c028bd11-9d00-4e2e-9608-13950a41c0ae         15951.9645   \n",
       "2  6b5c6580-5813-441e-a70d-3f7c1b989dda         15627.4378   \n",
       "3  62e91b2b-5487-4e70-99bd-665f30cc0c58         24013.7314   \n",
       "4  cbe6f008-2a68-43f9-b108-84633a3dd1fc         15601.2192   \n",
       "5  d95430eb-355a-47a6-b5db-1461c82f61a1         23143.1100   \n",
       "6  b4870406-886e-47c4-a7a8-b9375df3a531          9569.4069   \n",
       "7  89867c26-0947-4a7a-a5c6-fc41ecd451a6          9468.1975   \n",
       "8  5063a2ec-6c4c-45aa-8aa3-8af7bd35e7ea         14922.6866   \n",
       "9  1d50a956-2beb-4200-ba3e-5eee8233d5a1         18741.2596   \n",
       "\n",
       "   balanceEndOfDayZAR  balanceNextDayZAR  \n",
       "0          22590.4830         22593.5157  \n",
       "1          15954.1060         15956.2478  \n",
       "2          15629.5357         15631.6339  \n",
       "3          24016.9552         24020.1794  \n",
       "4          15603.3136         15605.4083  \n",
       "5          23146.2169         23149.3242  \n",
       "6           9570.6916          9571.9764  \n",
       "7           9469.4686          9470.7398  \n",
       "8          14924.6899         14926.6935  \n",
       "9          18743.7755         18746.2918  "
      ]
     },
     "execution_count": 39,
     "metadata": {},
     "output_type": "execute_result"
    }
   ],
   "source": [
    "balance_df = pd.DataFrame(balances_projections)\n",
    "balance_df = balance_df[['accountId', 'currentBalanceZAR', 'balanceEndOfDayZAR', 'balanceNextDayZAR']]\n",
    "balance_df"
   ]
  },
  {
   "cell_type": "code",
   "execution_count": null,
   "metadata": {},
   "outputs": [],
   "source": []
  }
 ],
 "metadata": {
  "kernelspec": {
   "display_name": "Python [conda env:pluto-local-dev]",
   "language": "python",
   "name": "conda-env-pluto-local-dev-py"
  },
  "language_info": {
   "codemirror_mode": {
    "name": "ipython",
    "version": 3
   },
   "file_extension": ".py",
   "mimetype": "text/x-python",
   "name": "python",
   "nbconvert_exporter": "python",
   "pygments_lexer": "ipython3",
   "version": "3.6.8"
  }
 },
 "nbformat": 4,
 "nbformat_minor": 2
}
